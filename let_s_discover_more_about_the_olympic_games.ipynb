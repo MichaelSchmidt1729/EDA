{
  "metadata": {
    "kernelspec": {
      "display_name": "Python 3",
      "language": "python",
      "name": "python3"
    },
    "language_info": {
      "name": "python",
      "version": "3.6.6",
      "mimetype": "text/x-python",
      "codemirror_mode": {
        "name": "ipython",
        "version": 3
      },
      "pygments_lexer": "ipython3",
      "nbconvert_exporter": "python",
      "file_extension": ".py"
    },
    "colab": {
      "provenance": [],
      "include_colab_link": true
    }
  },
  "nbformat_minor": 0,
  "nbformat": 4,
  "cells": [
    {
      "cell_type": "markdown",
      "metadata": {
        "id": "view-in-github",
        "colab_type": "text"
      },
      "source": [
        "<a href=\"https://colab.research.google.com/github/MichaelSchmidt1729/EDA/blob/main/let_s_discover_more_about_the_olympic_games.ipynb\" target=\"_parent\"><img src=\"https://colab.research.google.com/assets/colab-badge.svg\" alt=\"Open In Colab\"/></a>"
      ]
    },
    {
      "cell_type": "markdown",
      "source": [
        "# Exploratory Data Analysis\n",
        "\n",
        "We are using dataset available on Kaggle by the name \"120 years of Olympic history: athletes and results\" .This is a historical dataset on the modern Olympic Games, including all the Games from Athens 1896 to Rio 2016. The authors have scraped this data from www.sports-reference.com in May 2018. The R code they used to scrape and wrangle the data is on GitHub and I recommend to check their [kaggle kernel](https://www.kaggle.com/code/heesoo37/olympic-history-data-a-thorough-analysis/report).\n",
        "\n",
        "The file athlete_events.csv contains 271116 rows and 15 columns. Each row corresponds to an individual athlete competing in an individual Olympic event (athlete-events).\n"
      ],
      "metadata": {
        "_uuid": "522ead0f425c454ccd61381ea367edd8612d2a9b",
        "id": "rIiYYt53FMX2"
      }
    },
    {
      "cell_type": "markdown",
      "source": [
        "# Import the required libraries"
      ],
      "metadata": {
        "id": "yAhHJosBFMX4"
      }
    },
    {
      "cell_type": "code",
      "source": [
        "import numpy as np\n",
        "import pandas as pd\n",
        "import seaborn as sns\n",
        "from matplotlib import pyplot as plt\n",
        "import statsmodels.graphics.gofplots as sm\n",
        "from sklearn.preprocessing import PowerTransformer\n",
        "plt.figure(figsize=(20, 10))\n",
        "sns.set_style('darkgrid')"
      ],
      "metadata": {
        "_uuid": "8f2839f25d086af736a60e9eeb907d3b93b6e0e5",
        "_cell_guid": "b1076dfc-b9ad-4769-8c92-a6c4dae69d19",
        "execution": {
          "iopub.status.busy": "2023-03-22T00:47:20.762502Z",
          "iopub.execute_input": "2023-03-22T00:47:20.762959Z",
          "iopub.status.idle": "2023-03-22T00:47:20.777781Z",
          "shell.execute_reply.started": "2023-03-22T00:47:20.762899Z",
          "shell.execute_reply": "2023-03-22T00:47:20.776351Z"
        },
        "trusted": true,
        "id": "NV1Sn8G-FMX4",
        "outputId": "2a00bed4-ffc8-4f56-fb0f-c637ce191584",
        "colab": {
          "base_uri": "https://localhost:8080/",
          "height": 34
        }
      },
      "execution_count": 434,
      "outputs": [
        {
          "output_type": "display_data",
          "data": {
            "text/plain": [
              "<Figure size 2000x1000 with 0 Axes>"
            ]
          },
          "metadata": {}
        }
      ]
    },
    {
      "cell_type": "markdown",
      "source": [
        "# Load the data from your Google Drive"
      ],
      "metadata": {
        "id": "ZeKyn8iQFMX5"
      }
    },
    {
      "cell_type": "code",
      "source": [
        "from google.colab import drive\n",
        "drive.mount('/content/drive')"
      ],
      "metadata": {
        "colab": {
          "base_uri": "https://localhost:8080/"
        },
        "id": "8U-pPp_tMA0H",
        "outputId": "885d807b-5413-425f-a056-b565e99fb803"
      },
      "execution_count": 435,
      "outputs": [
        {
          "output_type": "stream",
          "name": "stdout",
          "text": [
            "Drive already mounted at /content/drive; to attempt to forcibly remount, call drive.mount(\"/content/drive\", force_remount=True).\n"
          ]
        }
      ]
    },
    {
      "cell_type": "code",
      "source": [
        "data = pd.read_csv('/content/drive/MyDrive/datasets/athlete_events.csv')\n",
        "regions = pd.read_csv('/content/drive/MyDrive/datasets/noc_regions.csv')"
      ],
      "metadata": {
        "_cell_guid": "79c7e3d0-c299-4dcb-8224-4455121ee9b0",
        "_uuid": "d629ff2d2480ee46fbb7e2d37f6b5fab8052498a",
        "execution": {
          "iopub.status.busy": "2023-03-22T01:13:21.717277Z",
          "iopub.execute_input": "2023-03-22T01:13:21.717697Z",
          "iopub.status.idle": "2023-03-22T01:13:22.485425Z",
          "shell.execute_reply.started": "2023-03-22T01:13:21.717621Z",
          "shell.execute_reply": "2023-03-22T01:13:22.484557Z"
        },
        "trusted": true,
        "id": "2bGYyZybFMX6"
      },
      "execution_count": 436,
      "outputs": []
    },
    {
      "cell_type": "markdown",
      "source": [
        "# Inspecting various attributes of imported data\n",
        "\n",
        "Here we are basically just trying to get hang of our dataset before starting a more in depth analysis. If you can recall from the article, we are also computing the Descriptive statistics for the dataset."
      ],
      "metadata": {
        "id": "jfFqww_EFMX6"
      }
    },
    {
      "cell_type": "code",
      "source": [
        "data.head(5)"
      ],
      "metadata": {
        "_uuid": "ae58e68e8302eb0bb3df862f6311a720f1c26865",
        "execution": {
          "iopub.status.busy": "2023-03-22T01:11:07.566710Z",
          "iopub.execute_input": "2023-03-22T01:11:07.567387Z",
          "iopub.status.idle": "2023-03-22T01:11:07.612691Z",
          "shell.execute_reply.started": "2023-03-22T01:11:07.567327Z",
          "shell.execute_reply": "2023-03-22T01:11:07.611904Z"
        },
        "trusted": true,
        "id": "S_xmthJKFMX6",
        "outputId": "4b555cef-2de0-4caa-87cf-14c58c3f96dc",
        "colab": {
          "base_uri": "https://localhost:8080/",
          "height": 206
        }
      },
      "execution_count": 437,
      "outputs": [
        {
          "output_type": "execute_result",
          "data": {
            "text/plain": [
              "   ID                      Name Sex   Age  Height  Weight            Team  \\\n",
              "0   1                 A Dijiang   M  24.0   180.0    80.0           China   \n",
              "1   2                  A Lamusi   M  23.0   170.0    60.0           China   \n",
              "2   3       Gunnar Nielsen Aaby   M  24.0     NaN     NaN         Denmark   \n",
              "3   4      Edgar Lindenau Aabye   M  34.0     NaN     NaN  Denmark/Sweden   \n",
              "4   5  Christine Jacoba Aaftink   F  21.0   185.0    82.0     Netherlands   \n",
              "\n",
              "   NOC        Games  Year  Season       City          Sport  \\\n",
              "0  CHN  1992 Summer  1992  Summer  Barcelona     Basketball   \n",
              "1  CHN  2012 Summer  2012  Summer     London           Judo   \n",
              "2  DEN  1920 Summer  1920  Summer  Antwerpen       Football   \n",
              "3  DEN  1900 Summer  1900  Summer      Paris     Tug-Of-War   \n",
              "4  NED  1988 Winter  1988  Winter    Calgary  Speed Skating   \n",
              "\n",
              "                              Event Medal  \n",
              "0       Basketball Men's Basketball   NaN  \n",
              "1      Judo Men's Extra-Lightweight   NaN  \n",
              "2           Football Men's Football   NaN  \n",
              "3       Tug-Of-War Men's Tug-Of-War  Gold  \n",
              "4  Speed Skating Women's 500 metres   NaN  "
            ],
            "text/html": [
              "\n",
              "  <div id=\"df-560152f2-85a2-4caf-b83c-2aec6e1d0066\" class=\"colab-df-container\">\n",
              "    <div>\n",
              "<style scoped>\n",
              "    .dataframe tbody tr th:only-of-type {\n",
              "        vertical-align: middle;\n",
              "    }\n",
              "\n",
              "    .dataframe tbody tr th {\n",
              "        vertical-align: top;\n",
              "    }\n",
              "\n",
              "    .dataframe thead th {\n",
              "        text-align: right;\n",
              "    }\n",
              "</style>\n",
              "<table border=\"1\" class=\"dataframe\">\n",
              "  <thead>\n",
              "    <tr style=\"text-align: right;\">\n",
              "      <th></th>\n",
              "      <th>ID</th>\n",
              "      <th>Name</th>\n",
              "      <th>Sex</th>\n",
              "      <th>Age</th>\n",
              "      <th>Height</th>\n",
              "      <th>Weight</th>\n",
              "      <th>Team</th>\n",
              "      <th>NOC</th>\n",
              "      <th>Games</th>\n",
              "      <th>Year</th>\n",
              "      <th>Season</th>\n",
              "      <th>City</th>\n",
              "      <th>Sport</th>\n",
              "      <th>Event</th>\n",
              "      <th>Medal</th>\n",
              "    </tr>\n",
              "  </thead>\n",
              "  <tbody>\n",
              "    <tr>\n",
              "      <th>0</th>\n",
              "      <td>1</td>\n",
              "      <td>A Dijiang</td>\n",
              "      <td>M</td>\n",
              "      <td>24.0</td>\n",
              "      <td>180.0</td>\n",
              "      <td>80.0</td>\n",
              "      <td>China</td>\n",
              "      <td>CHN</td>\n",
              "      <td>1992 Summer</td>\n",
              "      <td>1992</td>\n",
              "      <td>Summer</td>\n",
              "      <td>Barcelona</td>\n",
              "      <td>Basketball</td>\n",
              "      <td>Basketball Men's Basketball</td>\n",
              "      <td>NaN</td>\n",
              "    </tr>\n",
              "    <tr>\n",
              "      <th>1</th>\n",
              "      <td>2</td>\n",
              "      <td>A Lamusi</td>\n",
              "      <td>M</td>\n",
              "      <td>23.0</td>\n",
              "      <td>170.0</td>\n",
              "      <td>60.0</td>\n",
              "      <td>China</td>\n",
              "      <td>CHN</td>\n",
              "      <td>2012 Summer</td>\n",
              "      <td>2012</td>\n",
              "      <td>Summer</td>\n",
              "      <td>London</td>\n",
              "      <td>Judo</td>\n",
              "      <td>Judo Men's Extra-Lightweight</td>\n",
              "      <td>NaN</td>\n",
              "    </tr>\n",
              "    <tr>\n",
              "      <th>2</th>\n",
              "      <td>3</td>\n",
              "      <td>Gunnar Nielsen Aaby</td>\n",
              "      <td>M</td>\n",
              "      <td>24.0</td>\n",
              "      <td>NaN</td>\n",
              "      <td>NaN</td>\n",
              "      <td>Denmark</td>\n",
              "      <td>DEN</td>\n",
              "      <td>1920 Summer</td>\n",
              "      <td>1920</td>\n",
              "      <td>Summer</td>\n",
              "      <td>Antwerpen</td>\n",
              "      <td>Football</td>\n",
              "      <td>Football Men's Football</td>\n",
              "      <td>NaN</td>\n",
              "    </tr>\n",
              "    <tr>\n",
              "      <th>3</th>\n",
              "      <td>4</td>\n",
              "      <td>Edgar Lindenau Aabye</td>\n",
              "      <td>M</td>\n",
              "      <td>34.0</td>\n",
              "      <td>NaN</td>\n",
              "      <td>NaN</td>\n",
              "      <td>Denmark/Sweden</td>\n",
              "      <td>DEN</td>\n",
              "      <td>1900 Summer</td>\n",
              "      <td>1900</td>\n",
              "      <td>Summer</td>\n",
              "      <td>Paris</td>\n",
              "      <td>Tug-Of-War</td>\n",
              "      <td>Tug-Of-War Men's Tug-Of-War</td>\n",
              "      <td>Gold</td>\n",
              "    </tr>\n",
              "    <tr>\n",
              "      <th>4</th>\n",
              "      <td>5</td>\n",
              "      <td>Christine Jacoba Aaftink</td>\n",
              "      <td>F</td>\n",
              "      <td>21.0</td>\n",
              "      <td>185.0</td>\n",
              "      <td>82.0</td>\n",
              "      <td>Netherlands</td>\n",
              "      <td>NED</td>\n",
              "      <td>1988 Winter</td>\n",
              "      <td>1988</td>\n",
              "      <td>Winter</td>\n",
              "      <td>Calgary</td>\n",
              "      <td>Speed Skating</td>\n",
              "      <td>Speed Skating Women's 500 metres</td>\n",
              "      <td>NaN</td>\n",
              "    </tr>\n",
              "  </tbody>\n",
              "</table>\n",
              "</div>\n",
              "    <div class=\"colab-df-buttons\">\n",
              "\n",
              "  <div class=\"colab-df-container\">\n",
              "    <button class=\"colab-df-convert\" onclick=\"convertToInteractive('df-560152f2-85a2-4caf-b83c-2aec6e1d0066')\"\n",
              "            title=\"Convert this dataframe to an interactive table.\"\n",
              "            style=\"display:none;\">\n",
              "\n",
              "  <svg xmlns=\"http://www.w3.org/2000/svg\" height=\"24px\" viewBox=\"0 -960 960 960\">\n",
              "    <path d=\"M120-120v-720h720v720H120Zm60-500h600v-160H180v160Zm220 220h160v-160H400v160Zm0 220h160v-160H400v160ZM180-400h160v-160H180v160Zm440 0h160v-160H620v160ZM180-180h160v-160H180v160Zm440 0h160v-160H620v160Z\"/>\n",
              "  </svg>\n",
              "    </button>\n",
              "\n",
              "  <style>\n",
              "    .colab-df-container {\n",
              "      display:flex;\n",
              "      gap: 12px;\n",
              "    }\n",
              "\n",
              "    .colab-df-convert {\n",
              "      background-color: #E8F0FE;\n",
              "      border: none;\n",
              "      border-radius: 50%;\n",
              "      cursor: pointer;\n",
              "      display: none;\n",
              "      fill: #1967D2;\n",
              "      height: 32px;\n",
              "      padding: 0 0 0 0;\n",
              "      width: 32px;\n",
              "    }\n",
              "\n",
              "    .colab-df-convert:hover {\n",
              "      background-color: #E2EBFA;\n",
              "      box-shadow: 0px 1px 2px rgba(60, 64, 67, 0.3), 0px 1px 3px 1px rgba(60, 64, 67, 0.15);\n",
              "      fill: #174EA6;\n",
              "    }\n",
              "\n",
              "    .colab-df-buttons div {\n",
              "      margin-bottom: 4px;\n",
              "    }\n",
              "\n",
              "    [theme=dark] .colab-df-convert {\n",
              "      background-color: #3B4455;\n",
              "      fill: #D2E3FC;\n",
              "    }\n",
              "\n",
              "    [theme=dark] .colab-df-convert:hover {\n",
              "      background-color: #434B5C;\n",
              "      box-shadow: 0px 1px 3px 1px rgba(0, 0, 0, 0.15);\n",
              "      filter: drop-shadow(0px 1px 2px rgba(0, 0, 0, 0.3));\n",
              "      fill: #FFFFFF;\n",
              "    }\n",
              "  </style>\n",
              "\n",
              "    <script>\n",
              "      const buttonEl =\n",
              "        document.querySelector('#df-560152f2-85a2-4caf-b83c-2aec6e1d0066 button.colab-df-convert');\n",
              "      buttonEl.style.display =\n",
              "        google.colab.kernel.accessAllowed ? 'block' : 'none';\n",
              "\n",
              "      async function convertToInteractive(key) {\n",
              "        const element = document.querySelector('#df-560152f2-85a2-4caf-b83c-2aec6e1d0066');\n",
              "        const dataTable =\n",
              "          await google.colab.kernel.invokeFunction('convertToInteractive',\n",
              "                                                    [key], {});\n",
              "        if (!dataTable) return;\n",
              "\n",
              "        const docLinkHtml = 'Like what you see? Visit the ' +\n",
              "          '<a target=\"_blank\" href=https://colab.research.google.com/notebooks/data_table.ipynb>data table notebook</a>'\n",
              "          + ' to learn more about interactive tables.';\n",
              "        element.innerHTML = '';\n",
              "        dataTable['output_type'] = 'display_data';\n",
              "        await google.colab.output.renderOutput(dataTable, element);\n",
              "        const docLink = document.createElement('div');\n",
              "        docLink.innerHTML = docLinkHtml;\n",
              "        element.appendChild(docLink);\n",
              "      }\n",
              "    </script>\n",
              "  </div>\n",
              "\n",
              "\n",
              "<div id=\"df-ba819d66-920e-4936-b340-14178cfb7a35\">\n",
              "  <button class=\"colab-df-quickchart\" onclick=\"quickchart('df-ba819d66-920e-4936-b340-14178cfb7a35')\"\n",
              "            title=\"Suggest charts\"\n",
              "            style=\"display:none;\">\n",
              "\n",
              "<svg xmlns=\"http://www.w3.org/2000/svg\" height=\"24px\"viewBox=\"0 0 24 24\"\n",
              "     width=\"24px\">\n",
              "    <g>\n",
              "        <path d=\"M19 3H5c-1.1 0-2 .9-2 2v14c0 1.1.9 2 2 2h14c1.1 0 2-.9 2-2V5c0-1.1-.9-2-2-2zM9 17H7v-7h2v7zm4 0h-2V7h2v10zm4 0h-2v-4h2v4z\"/>\n",
              "    </g>\n",
              "</svg>\n",
              "  </button>\n",
              "\n",
              "<style>\n",
              "  .colab-df-quickchart {\n",
              "      --bg-color: #E8F0FE;\n",
              "      --fill-color: #1967D2;\n",
              "      --hover-bg-color: #E2EBFA;\n",
              "      --hover-fill-color: #174EA6;\n",
              "      --disabled-fill-color: #AAA;\n",
              "      --disabled-bg-color: #DDD;\n",
              "  }\n",
              "\n",
              "  [theme=dark] .colab-df-quickchart {\n",
              "      --bg-color: #3B4455;\n",
              "      --fill-color: #D2E3FC;\n",
              "      --hover-bg-color: #434B5C;\n",
              "      --hover-fill-color: #FFFFFF;\n",
              "      --disabled-bg-color: #3B4455;\n",
              "      --disabled-fill-color: #666;\n",
              "  }\n",
              "\n",
              "  .colab-df-quickchart {\n",
              "    background-color: var(--bg-color);\n",
              "    border: none;\n",
              "    border-radius: 50%;\n",
              "    cursor: pointer;\n",
              "    display: none;\n",
              "    fill: var(--fill-color);\n",
              "    height: 32px;\n",
              "    padding: 0;\n",
              "    width: 32px;\n",
              "  }\n",
              "\n",
              "  .colab-df-quickchart:hover {\n",
              "    background-color: var(--hover-bg-color);\n",
              "    box-shadow: 0 1px 2px rgba(60, 64, 67, 0.3), 0 1px 3px 1px rgba(60, 64, 67, 0.15);\n",
              "    fill: var(--button-hover-fill-color);\n",
              "  }\n",
              "\n",
              "  .colab-df-quickchart-complete:disabled,\n",
              "  .colab-df-quickchart-complete:disabled:hover {\n",
              "    background-color: var(--disabled-bg-color);\n",
              "    fill: var(--disabled-fill-color);\n",
              "    box-shadow: none;\n",
              "  }\n",
              "\n",
              "  .colab-df-spinner {\n",
              "    border: 2px solid var(--fill-color);\n",
              "    border-color: transparent;\n",
              "    border-bottom-color: var(--fill-color);\n",
              "    animation:\n",
              "      spin 1s steps(1) infinite;\n",
              "  }\n",
              "\n",
              "  @keyframes spin {\n",
              "    0% {\n",
              "      border-color: transparent;\n",
              "      border-bottom-color: var(--fill-color);\n",
              "      border-left-color: var(--fill-color);\n",
              "    }\n",
              "    20% {\n",
              "      border-color: transparent;\n",
              "      border-left-color: var(--fill-color);\n",
              "      border-top-color: var(--fill-color);\n",
              "    }\n",
              "    30% {\n",
              "      border-color: transparent;\n",
              "      border-left-color: var(--fill-color);\n",
              "      border-top-color: var(--fill-color);\n",
              "      border-right-color: var(--fill-color);\n",
              "    }\n",
              "    40% {\n",
              "      border-color: transparent;\n",
              "      border-right-color: var(--fill-color);\n",
              "      border-top-color: var(--fill-color);\n",
              "    }\n",
              "    60% {\n",
              "      border-color: transparent;\n",
              "      border-right-color: var(--fill-color);\n",
              "    }\n",
              "    80% {\n",
              "      border-color: transparent;\n",
              "      border-right-color: var(--fill-color);\n",
              "      border-bottom-color: var(--fill-color);\n",
              "    }\n",
              "    90% {\n",
              "      border-color: transparent;\n",
              "      border-bottom-color: var(--fill-color);\n",
              "    }\n",
              "  }\n",
              "</style>\n",
              "\n",
              "  <script>\n",
              "    async function quickchart(key) {\n",
              "      const quickchartButtonEl =\n",
              "        document.querySelector('#' + key + ' button');\n",
              "      quickchartButtonEl.disabled = true;  // To prevent multiple clicks.\n",
              "      quickchartButtonEl.classList.add('colab-df-spinner');\n",
              "      try {\n",
              "        const charts = await google.colab.kernel.invokeFunction(\n",
              "            'suggestCharts', [key], {});\n",
              "      } catch (error) {\n",
              "        console.error('Error during call to suggestCharts:', error);\n",
              "      }\n",
              "      quickchartButtonEl.classList.remove('colab-df-spinner');\n",
              "      quickchartButtonEl.classList.add('colab-df-quickchart-complete');\n",
              "    }\n",
              "    (() => {\n",
              "      let quickchartButtonEl =\n",
              "        document.querySelector('#df-ba819d66-920e-4936-b340-14178cfb7a35 button');\n",
              "      quickchartButtonEl.style.display =\n",
              "        google.colab.kernel.accessAllowed ? 'block' : 'none';\n",
              "    })();\n",
              "  </script>\n",
              "</div>\n",
              "    </div>\n",
              "  </div>\n"
            ],
            "application/vnd.google.colaboratory.intrinsic+json": {
              "type": "dataframe",
              "variable_name": "data"
            }
          },
          "metadata": {},
          "execution_count": 437
        }
      ]
    },
    {
      "cell_type": "code",
      "source": [
        "#Check for Nan Values and deal with them\n",
        "for col in data.columns:\n",
        "    num_nan = data[col].isna().sum()\n",
        "    pct_nan = (num_nan / len(data)) * 100\n",
        "    print(f\"Column {col} has {num_nan} NaN values ({pct_nan:.2f}%).\")"
      ],
      "metadata": {
        "execution": {
          "iopub.status.busy": "2023-03-22T01:13:27.072153Z",
          "iopub.execute_input": "2023-03-22T01:13:27.072547Z",
          "iopub.status.idle": "2023-03-22T01:13:27.273302Z",
          "shell.execute_reply.started": "2023-03-22T01:13:27.072492Z",
          "shell.execute_reply": "2023-03-22T01:13:27.272453Z"
        },
        "trusted": true,
        "id": "ytgWBc6wFMX6",
        "outputId": "7e79f9f9-0133-4f0d-ed42-1b0ee75e1599",
        "colab": {
          "base_uri": "https://localhost:8080/"
        }
      },
      "execution_count": 438,
      "outputs": [
        {
          "output_type": "stream",
          "name": "stdout",
          "text": [
            "Column ID has 0 NaN values (0.00%).\n",
            "Column Name has 0 NaN values (0.00%).\n",
            "Column Sex has 0 NaN values (0.00%).\n",
            "Column Age has 9474 NaN values (3.49%).\n",
            "Column Height has 60171 NaN values (22.19%).\n",
            "Column Weight has 62875 NaN values (23.19%).\n",
            "Column Team has 0 NaN values (0.00%).\n",
            "Column NOC has 0 NaN values (0.00%).\n",
            "Column Games has 0 NaN values (0.00%).\n",
            "Column Year has 0 NaN values (0.00%).\n",
            "Column Season has 0 NaN values (0.00%).\n",
            "Column City has 0 NaN values (0.00%).\n",
            "Column Sport has 0 NaN values (0.00%).\n",
            "Column Event has 0 NaN values (0.00%).\n",
            "Column Medal has 231333 NaN values (85.33%).\n"
          ]
        }
      ]
    },
    {
      "cell_type": "markdown",
      "source": [
        "We found out that the data is missing height and weight for a good proportion of participants. We can use various techniques such as interpolation, forward or backward fill, use Machine Learning to predict the missing information, or set a fixed value to fill the missiing values, but for the sake of simplicity we will just drop these rows.Note that how we deal with Nan values impact the results, so generally we experiment till we get our desired results. For example you might see slight differences between some plots in notebook and in the article, this is because those plots are generated using data where Nan Values were not dropped.\n",
        "Also in case of medals column, it is safe to assume that Nan specifies that no medal was won"
      ],
      "metadata": {
        "id": "PwOCvu02FMX6"
      }
    },
    {
      "cell_type": "code",
      "source": [
        "data.dropna(subset=['Height','Weight','Age'], inplace=True)\n",
        "# data['Height'].fillna(data['Height'].mean(), inplace=True)\n",
        "# data['Weight'].fillna(data['Weight'].mean(), inplace=True)\n",
        "# data['Age'].fillna(data['Age'].mean(), inplace=True)"
      ],
      "metadata": {
        "execution": {
          "iopub.status.busy": "2023-03-22T01:15:28.300572Z",
          "iopub.execute_input": "2023-03-22T01:15:28.301149Z",
          "iopub.status.idle": "2023-03-22T01:15:28.378354Z",
          "shell.execute_reply.started": "2023-03-22T01:15:28.300887Z",
          "shell.execute_reply": "2023-03-22T01:15:28.377525Z"
        },
        "trusted": true,
        "id": "CrTuRB4OFMX7"
      },
      "execution_count": 439,
      "outputs": []
    },
    {
      "cell_type": "code",
      "source": [
        "data.skew()"
      ],
      "metadata": {
        "execution": {
          "iopub.status.busy": "2023-03-22T01:15:38.302160Z",
          "iopub.execute_input": "2023-03-22T01:15:38.302788Z",
          "iopub.status.idle": "2023-03-22T01:15:41.112366Z",
          "shell.execute_reply.started": "2023-03-22T01:15:38.302729Z",
          "shell.execute_reply": "2023-03-22T01:15:41.111604Z"
        },
        "trusted": true,
        "id": "28MRYCCSFMX7",
        "outputId": "053ed2ad-7c15-40a1-80a4-e77f36e0a25b",
        "colab": {
          "base_uri": "https://localhost:8080/"
        }
      },
      "execution_count": 440,
      "outputs": [
        {
          "output_type": "stream",
          "name": "stderr",
          "text": [
            "<ipython-input-440-b3b431164adb>:1: FutureWarning: The default value of numeric_only in DataFrame.skew is deprecated. In a future version, it will default to False. In addition, specifying 'numeric_only=None' is deprecated. Select only valid columns or specify the value of numeric_only to silence this warning.\n",
            "  data.skew()\n"
          ]
        },
        {
          "output_type": "execute_result",
          "data": {
            "text/plain": [
              "ID       -0.015114\n",
              "Age       1.139644\n",
              "Height    0.016901\n",
              "Weight    0.792183\n",
              "Year     -0.961373\n",
              "dtype: float64"
            ]
          },
          "metadata": {},
          "execution_count": 440
        }
      ]
    },
    {
      "cell_type": "markdown",
      "source": [
        "# Age is heavily right skewed -> some older athletes as outliers (see median below).\n",
        "# Weight moderately left skewed -> outliers of high weight."
      ],
      "metadata": {
        "id": "HoUtnOb7si_i"
      }
    },
    {
      "cell_type": "code",
      "source": [
        "data.describe()"
      ],
      "metadata": {
        "_uuid": "06ab4534533ab262e730b3e60ae4a7da4382b197",
        "execution": {
          "iopub.status.busy": "2023-03-22T01:13:48.923915Z",
          "iopub.execute_input": "2023-03-22T01:13:48.924241Z",
          "iopub.status.idle": "2023-03-22T01:13:49.048067Z",
          "shell.execute_reply.started": "2023-03-22T01:13:48.924183Z",
          "shell.execute_reply": "2023-03-22T01:13:49.047245Z"
        },
        "trusted": true,
        "id": "CBpQFwf5FMX7",
        "outputId": "a28d3920-61fa-42e0-904a-9b78346d0828",
        "colab": {
          "base_uri": "https://localhost:8080/",
          "height": 301
        }
      },
      "execution_count": 441,
      "outputs": [
        {
          "output_type": "execute_result",
          "data": {
            "text/plain": [
              "                  ID            Age         Height         Weight  \\\n",
              "count  206165.000000  206165.000000  206165.000000  206165.000000   \n",
              "mean    68616.017675      25.055509     175.371950      70.688337   \n",
              "std     38996.514355       5.483096      10.546088      14.340338   \n",
              "min         1.000000      11.000000     127.000000      25.000000   \n",
              "25%     35194.000000      21.000000     168.000000      60.000000   \n",
              "50%     68629.000000      24.000000     175.000000      70.000000   \n",
              "75%    102313.000000      28.000000     183.000000      79.000000   \n",
              "max    135571.000000      71.000000     226.000000     214.000000   \n",
              "\n",
              "                Year  \n",
              "count  206165.000000  \n",
              "mean     1989.674678  \n",
              "std        20.130865  \n",
              "min      1896.000000  \n",
              "25%      1976.000000  \n",
              "50%      1992.000000  \n",
              "75%      2006.000000  \n",
              "max      2016.000000  "
            ],
            "text/html": [
              "\n",
              "  <div id=\"df-e6b6c374-2f62-411f-89e4-3723b41de931\" class=\"colab-df-container\">\n",
              "    <div>\n",
              "<style scoped>\n",
              "    .dataframe tbody tr th:only-of-type {\n",
              "        vertical-align: middle;\n",
              "    }\n",
              "\n",
              "    .dataframe tbody tr th {\n",
              "        vertical-align: top;\n",
              "    }\n",
              "\n",
              "    .dataframe thead th {\n",
              "        text-align: right;\n",
              "    }\n",
              "</style>\n",
              "<table border=\"1\" class=\"dataframe\">\n",
              "  <thead>\n",
              "    <tr style=\"text-align: right;\">\n",
              "      <th></th>\n",
              "      <th>ID</th>\n",
              "      <th>Age</th>\n",
              "      <th>Height</th>\n",
              "      <th>Weight</th>\n",
              "      <th>Year</th>\n",
              "    </tr>\n",
              "  </thead>\n",
              "  <tbody>\n",
              "    <tr>\n",
              "      <th>count</th>\n",
              "      <td>206165.000000</td>\n",
              "      <td>206165.000000</td>\n",
              "      <td>206165.000000</td>\n",
              "      <td>206165.000000</td>\n",
              "      <td>206165.000000</td>\n",
              "    </tr>\n",
              "    <tr>\n",
              "      <th>mean</th>\n",
              "      <td>68616.017675</td>\n",
              "      <td>25.055509</td>\n",
              "      <td>175.371950</td>\n",
              "      <td>70.688337</td>\n",
              "      <td>1989.674678</td>\n",
              "    </tr>\n",
              "    <tr>\n",
              "      <th>std</th>\n",
              "      <td>38996.514355</td>\n",
              "      <td>5.483096</td>\n",
              "      <td>10.546088</td>\n",
              "      <td>14.340338</td>\n",
              "      <td>20.130865</td>\n",
              "    </tr>\n",
              "    <tr>\n",
              "      <th>min</th>\n",
              "      <td>1.000000</td>\n",
              "      <td>11.000000</td>\n",
              "      <td>127.000000</td>\n",
              "      <td>25.000000</td>\n",
              "      <td>1896.000000</td>\n",
              "    </tr>\n",
              "    <tr>\n",
              "      <th>25%</th>\n",
              "      <td>35194.000000</td>\n",
              "      <td>21.000000</td>\n",
              "      <td>168.000000</td>\n",
              "      <td>60.000000</td>\n",
              "      <td>1976.000000</td>\n",
              "    </tr>\n",
              "    <tr>\n",
              "      <th>50%</th>\n",
              "      <td>68629.000000</td>\n",
              "      <td>24.000000</td>\n",
              "      <td>175.000000</td>\n",
              "      <td>70.000000</td>\n",
              "      <td>1992.000000</td>\n",
              "    </tr>\n",
              "    <tr>\n",
              "      <th>75%</th>\n",
              "      <td>102313.000000</td>\n",
              "      <td>28.000000</td>\n",
              "      <td>183.000000</td>\n",
              "      <td>79.000000</td>\n",
              "      <td>2006.000000</td>\n",
              "    </tr>\n",
              "    <tr>\n",
              "      <th>max</th>\n",
              "      <td>135571.000000</td>\n",
              "      <td>71.000000</td>\n",
              "      <td>226.000000</td>\n",
              "      <td>214.000000</td>\n",
              "      <td>2016.000000</td>\n",
              "    </tr>\n",
              "  </tbody>\n",
              "</table>\n",
              "</div>\n",
              "    <div class=\"colab-df-buttons\">\n",
              "\n",
              "  <div class=\"colab-df-container\">\n",
              "    <button class=\"colab-df-convert\" onclick=\"convertToInteractive('df-e6b6c374-2f62-411f-89e4-3723b41de931')\"\n",
              "            title=\"Convert this dataframe to an interactive table.\"\n",
              "            style=\"display:none;\">\n",
              "\n",
              "  <svg xmlns=\"http://www.w3.org/2000/svg\" height=\"24px\" viewBox=\"0 -960 960 960\">\n",
              "    <path d=\"M120-120v-720h720v720H120Zm60-500h600v-160H180v160Zm220 220h160v-160H400v160Zm0 220h160v-160H400v160ZM180-400h160v-160H180v160Zm440 0h160v-160H620v160ZM180-180h160v-160H180v160Zm440 0h160v-160H620v160Z\"/>\n",
              "  </svg>\n",
              "    </button>\n",
              "\n",
              "  <style>\n",
              "    .colab-df-container {\n",
              "      display:flex;\n",
              "      gap: 12px;\n",
              "    }\n",
              "\n",
              "    .colab-df-convert {\n",
              "      background-color: #E8F0FE;\n",
              "      border: none;\n",
              "      border-radius: 50%;\n",
              "      cursor: pointer;\n",
              "      display: none;\n",
              "      fill: #1967D2;\n",
              "      height: 32px;\n",
              "      padding: 0 0 0 0;\n",
              "      width: 32px;\n",
              "    }\n",
              "\n",
              "    .colab-df-convert:hover {\n",
              "      background-color: #E2EBFA;\n",
              "      box-shadow: 0px 1px 2px rgba(60, 64, 67, 0.3), 0px 1px 3px 1px rgba(60, 64, 67, 0.15);\n",
              "      fill: #174EA6;\n",
              "    }\n",
              "\n",
              "    .colab-df-buttons div {\n",
              "      margin-bottom: 4px;\n",
              "    }\n",
              "\n",
              "    [theme=dark] .colab-df-convert {\n",
              "      background-color: #3B4455;\n",
              "      fill: #D2E3FC;\n",
              "    }\n",
              "\n",
              "    [theme=dark] .colab-df-convert:hover {\n",
              "      background-color: #434B5C;\n",
              "      box-shadow: 0px 1px 3px 1px rgba(0, 0, 0, 0.15);\n",
              "      filter: drop-shadow(0px 1px 2px rgba(0, 0, 0, 0.3));\n",
              "      fill: #FFFFFF;\n",
              "    }\n",
              "  </style>\n",
              "\n",
              "    <script>\n",
              "      const buttonEl =\n",
              "        document.querySelector('#df-e6b6c374-2f62-411f-89e4-3723b41de931 button.colab-df-convert');\n",
              "      buttonEl.style.display =\n",
              "        google.colab.kernel.accessAllowed ? 'block' : 'none';\n",
              "\n",
              "      async function convertToInteractive(key) {\n",
              "        const element = document.querySelector('#df-e6b6c374-2f62-411f-89e4-3723b41de931');\n",
              "        const dataTable =\n",
              "          await google.colab.kernel.invokeFunction('convertToInteractive',\n",
              "                                                    [key], {});\n",
              "        if (!dataTable) return;\n",
              "\n",
              "        const docLinkHtml = 'Like what you see? Visit the ' +\n",
              "          '<a target=\"_blank\" href=https://colab.research.google.com/notebooks/data_table.ipynb>data table notebook</a>'\n",
              "          + ' to learn more about interactive tables.';\n",
              "        element.innerHTML = '';\n",
              "        dataTable['output_type'] = 'display_data';\n",
              "        await google.colab.output.renderOutput(dataTable, element);\n",
              "        const docLink = document.createElement('div');\n",
              "        docLink.innerHTML = docLinkHtml;\n",
              "        element.appendChild(docLink);\n",
              "      }\n",
              "    </script>\n",
              "  </div>\n",
              "\n",
              "\n",
              "<div id=\"df-2caec35d-6669-4a1b-9701-1ebe52e2befb\">\n",
              "  <button class=\"colab-df-quickchart\" onclick=\"quickchart('df-2caec35d-6669-4a1b-9701-1ebe52e2befb')\"\n",
              "            title=\"Suggest charts\"\n",
              "            style=\"display:none;\">\n",
              "\n",
              "<svg xmlns=\"http://www.w3.org/2000/svg\" height=\"24px\"viewBox=\"0 0 24 24\"\n",
              "     width=\"24px\">\n",
              "    <g>\n",
              "        <path d=\"M19 3H5c-1.1 0-2 .9-2 2v14c0 1.1.9 2 2 2h14c1.1 0 2-.9 2-2V5c0-1.1-.9-2-2-2zM9 17H7v-7h2v7zm4 0h-2V7h2v10zm4 0h-2v-4h2v4z\"/>\n",
              "    </g>\n",
              "</svg>\n",
              "  </button>\n",
              "\n",
              "<style>\n",
              "  .colab-df-quickchart {\n",
              "      --bg-color: #E8F0FE;\n",
              "      --fill-color: #1967D2;\n",
              "      --hover-bg-color: #E2EBFA;\n",
              "      --hover-fill-color: #174EA6;\n",
              "      --disabled-fill-color: #AAA;\n",
              "      --disabled-bg-color: #DDD;\n",
              "  }\n",
              "\n",
              "  [theme=dark] .colab-df-quickchart {\n",
              "      --bg-color: #3B4455;\n",
              "      --fill-color: #D2E3FC;\n",
              "      --hover-bg-color: #434B5C;\n",
              "      --hover-fill-color: #FFFFFF;\n",
              "      --disabled-bg-color: #3B4455;\n",
              "      --disabled-fill-color: #666;\n",
              "  }\n",
              "\n",
              "  .colab-df-quickchart {\n",
              "    background-color: var(--bg-color);\n",
              "    border: none;\n",
              "    border-radius: 50%;\n",
              "    cursor: pointer;\n",
              "    display: none;\n",
              "    fill: var(--fill-color);\n",
              "    height: 32px;\n",
              "    padding: 0;\n",
              "    width: 32px;\n",
              "  }\n",
              "\n",
              "  .colab-df-quickchart:hover {\n",
              "    background-color: var(--hover-bg-color);\n",
              "    box-shadow: 0 1px 2px rgba(60, 64, 67, 0.3), 0 1px 3px 1px rgba(60, 64, 67, 0.15);\n",
              "    fill: var(--button-hover-fill-color);\n",
              "  }\n",
              "\n",
              "  .colab-df-quickchart-complete:disabled,\n",
              "  .colab-df-quickchart-complete:disabled:hover {\n",
              "    background-color: var(--disabled-bg-color);\n",
              "    fill: var(--disabled-fill-color);\n",
              "    box-shadow: none;\n",
              "  }\n",
              "\n",
              "  .colab-df-spinner {\n",
              "    border: 2px solid var(--fill-color);\n",
              "    border-color: transparent;\n",
              "    border-bottom-color: var(--fill-color);\n",
              "    animation:\n",
              "      spin 1s steps(1) infinite;\n",
              "  }\n",
              "\n",
              "  @keyframes spin {\n",
              "    0% {\n",
              "      border-color: transparent;\n",
              "      border-bottom-color: var(--fill-color);\n",
              "      border-left-color: var(--fill-color);\n",
              "    }\n",
              "    20% {\n",
              "      border-color: transparent;\n",
              "      border-left-color: var(--fill-color);\n",
              "      border-top-color: var(--fill-color);\n",
              "    }\n",
              "    30% {\n",
              "      border-color: transparent;\n",
              "      border-left-color: var(--fill-color);\n",
              "      border-top-color: var(--fill-color);\n",
              "      border-right-color: var(--fill-color);\n",
              "    }\n",
              "    40% {\n",
              "      border-color: transparent;\n",
              "      border-right-color: var(--fill-color);\n",
              "      border-top-color: var(--fill-color);\n",
              "    }\n",
              "    60% {\n",
              "      border-color: transparent;\n",
              "      border-right-color: var(--fill-color);\n",
              "    }\n",
              "    80% {\n",
              "      border-color: transparent;\n",
              "      border-right-color: var(--fill-color);\n",
              "      border-bottom-color: var(--fill-color);\n",
              "    }\n",
              "    90% {\n",
              "      border-color: transparent;\n",
              "      border-bottom-color: var(--fill-color);\n",
              "    }\n",
              "  }\n",
              "</style>\n",
              "\n",
              "  <script>\n",
              "    async function quickchart(key) {\n",
              "      const quickchartButtonEl =\n",
              "        document.querySelector('#' + key + ' button');\n",
              "      quickchartButtonEl.disabled = true;  // To prevent multiple clicks.\n",
              "      quickchartButtonEl.classList.add('colab-df-spinner');\n",
              "      try {\n",
              "        const charts = await google.colab.kernel.invokeFunction(\n",
              "            'suggestCharts', [key], {});\n",
              "      } catch (error) {\n",
              "        console.error('Error during call to suggestCharts:', error);\n",
              "      }\n",
              "      quickchartButtonEl.classList.remove('colab-df-spinner');\n",
              "      quickchartButtonEl.classList.add('colab-df-quickchart-complete');\n",
              "    }\n",
              "    (() => {\n",
              "      let quickchartButtonEl =\n",
              "        document.querySelector('#df-2caec35d-6669-4a1b-9701-1ebe52e2befb button');\n",
              "      quickchartButtonEl.style.display =\n",
              "        google.colab.kernel.accessAllowed ? 'block' : 'none';\n",
              "    })();\n",
              "  </script>\n",
              "</div>\n",
              "    </div>\n",
              "  </div>\n"
            ],
            "application/vnd.google.colaboratory.intrinsic+json": {
              "type": "dataframe",
              "summary": "{\n  \"name\": \"data\",\n  \"rows\": 8,\n  \"fields\": [\n    {\n      \"column\": \"ID\",\n      \"properties\": {\n        \"dtype\": \"number\",\n        \"std\": 65270.02833154004,\n        \"min\": 1.0,\n        \"max\": 206165.0,\n        \"num_unique_values\": 8,\n        \"samples\": [\n          68616.0176751631,\n          68629.0,\n          206165.0\n        ],\n        \"semantic_type\": \"\",\n        \"description\": \"\"\n      }\n    },\n    {\n      \"column\": \"Age\",\n      \"properties\": {\n        \"dtype\": \"number\",\n        \"std\": 72880.96630615165,\n        \"min\": 5.4830959133789,\n        \"max\": 206165.0,\n        \"num_unique_values\": 8,\n        \"samples\": [\n          25.055508937016466,\n          24.0,\n          206165.0\n        ],\n        \"semantic_type\": \"\",\n        \"description\": \"\"\n      }\n    },\n    {\n      \"column\": \"Height\",\n      \"properties\": {\n        \"dtype\": \"number\",\n        \"std\": 72836.57614167956,\n        \"min\": 10.546088104874467,\n        \"max\": 206165.0,\n        \"num_unique_values\": 8,\n        \"samples\": [\n          175.3719496519778,\n          175.0,\n          206165.0\n        ],\n        \"semantic_type\": \"\",\n        \"description\": \"\"\n      }\n    },\n    {\n      \"column\": \"Weight\",\n      \"properties\": {\n        \"dtype\": \"number\",\n        \"std\": 72863.43802643353,\n        \"min\": 14.340337919424229,\n        \"max\": 206165.0,\n        \"num_unique_values\": 8,\n        \"samples\": [\n          70.68833701161691,\n          70.0,\n          206165.0\n        ],\n        \"semantic_type\": \"\",\n        \"description\": \"\"\n      }\n    },\n    {\n      \"column\": \"Year\",\n      \"properties\": {\n        \"dtype\": \"number\",\n        \"std\": 72292.76571126824,\n        \"min\": 20.130865468671253,\n        \"max\": 206165.0,\n        \"num_unique_values\": 8,\n        \"samples\": [\n          1989.6746780491353,\n          1992.0,\n          206165.0\n        ],\n        \"semantic_type\": \"\",\n        \"description\": \"\"\n      }\n    }\n  ]\n}"
            }
          },
          "metadata": {},
          "execution_count": 441
        }
      ]
    },
    {
      "cell_type": "markdown",
      "source": [
        "# WTF? Youngest athlete was 11. years old? min. weight is 25 kg? Edit: From North Korea, Gymnast.\n",
        "\n",
        "# In 1896 there was a 10-year old Russian athlete. Dropped because: data.dropna(subset=['Height','Weight','Age'], inplace=True)"
      ],
      "metadata": {
        "id": "s0vwz_Jtr4sp"
      }
    },
    {
      "cell_type": "code",
      "source": [
        "data.info()"
      ],
      "metadata": {
        "_uuid": "455b4118a50de2bef0059eca274aa618b1306c7c",
        "execution": {
          "iopub.status.busy": "2023-03-22T01:15:41.113456Z",
          "iopub.execute_input": "2023-03-22T01:15:41.113845Z",
          "iopub.status.idle": "2023-03-22T01:15:41.263670Z",
          "shell.execute_reply.started": "2023-03-22T01:15:41.113786Z",
          "shell.execute_reply": "2023-03-22T01:15:41.262594Z"
        },
        "trusted": true,
        "id": "jzvhKlYcFMX7",
        "outputId": "11bc5fdd-37f7-494d-b694-28615215c9f0",
        "colab": {
          "base_uri": "https://localhost:8080/"
        }
      },
      "execution_count": 442,
      "outputs": [
        {
          "output_type": "stream",
          "name": "stdout",
          "text": [
            "<class 'pandas.core.frame.DataFrame'>\n",
            "Int64Index: 206165 entries, 0 to 271115\n",
            "Data columns (total 15 columns):\n",
            " #   Column  Non-Null Count   Dtype  \n",
            "---  ------  --------------   -----  \n",
            " 0   ID      206165 non-null  int64  \n",
            " 1   Name    206165 non-null  object \n",
            " 2   Sex     206165 non-null  object \n",
            " 3   Age     206165 non-null  float64\n",
            " 4   Height  206165 non-null  float64\n",
            " 5   Weight  206165 non-null  float64\n",
            " 6   Team    206165 non-null  object \n",
            " 7   NOC     206165 non-null  object \n",
            " 8   Games   206165 non-null  object \n",
            " 9   Year    206165 non-null  int64  \n",
            " 10  Season  206165 non-null  object \n",
            " 11  City    206165 non-null  object \n",
            " 12  Sport   206165 non-null  object \n",
            " 13  Event   206165 non-null  object \n",
            " 14  Medal   30181 non-null   object \n",
            "dtypes: float64(3), int64(2), object(10)\n",
            "memory usage: 25.2+ MB\n"
          ]
        }
      ]
    },
    {
      "cell_type": "code",
      "source": [
        "regions.head(5)"
      ],
      "metadata": {
        "_uuid": "914cefa0b6ad17ec0aead6b9c4c27a02e34f610e",
        "execution": {
          "iopub.status.busy": "2023-03-22T00:47:25.121725Z",
          "iopub.execute_input": "2023-03-22T00:47:25.122127Z",
          "iopub.status.idle": "2023-03-22T00:47:25.137960Z",
          "shell.execute_reply.started": "2023-03-22T00:47:25.122082Z",
          "shell.execute_reply": "2023-03-22T00:47:25.136871Z"
        },
        "trusted": true,
        "id": "QRDOzAkWFMX8",
        "outputId": "459d6326-ff59-419d-d06f-b4845ff2d7fa",
        "colab": {
          "base_uri": "https://localhost:8080/",
          "height": 206
        }
      },
      "execution_count": 443,
      "outputs": [
        {
          "output_type": "execute_result",
          "data": {
            "text/plain": [
              "   NOC       region                 notes\n",
              "0  AFG  Afghanistan                   NaN\n",
              "1  AHO      Curacao  Netherlands Antilles\n",
              "2  ALB      Albania                   NaN\n",
              "3  ALG      Algeria                   NaN\n",
              "4  AND      Andorra                   NaN"
            ],
            "text/html": [
              "\n",
              "  <div id=\"df-aa0d4265-83bd-41e3-bcc0-d3f1ea73f5e7\" class=\"colab-df-container\">\n",
              "    <div>\n",
              "<style scoped>\n",
              "    .dataframe tbody tr th:only-of-type {\n",
              "        vertical-align: middle;\n",
              "    }\n",
              "\n",
              "    .dataframe tbody tr th {\n",
              "        vertical-align: top;\n",
              "    }\n",
              "\n",
              "    .dataframe thead th {\n",
              "        text-align: right;\n",
              "    }\n",
              "</style>\n",
              "<table border=\"1\" class=\"dataframe\">\n",
              "  <thead>\n",
              "    <tr style=\"text-align: right;\">\n",
              "      <th></th>\n",
              "      <th>NOC</th>\n",
              "      <th>region</th>\n",
              "      <th>notes</th>\n",
              "    </tr>\n",
              "  </thead>\n",
              "  <tbody>\n",
              "    <tr>\n",
              "      <th>0</th>\n",
              "      <td>AFG</td>\n",
              "      <td>Afghanistan</td>\n",
              "      <td>NaN</td>\n",
              "    </tr>\n",
              "    <tr>\n",
              "      <th>1</th>\n",
              "      <td>AHO</td>\n",
              "      <td>Curacao</td>\n",
              "      <td>Netherlands Antilles</td>\n",
              "    </tr>\n",
              "    <tr>\n",
              "      <th>2</th>\n",
              "      <td>ALB</td>\n",
              "      <td>Albania</td>\n",
              "      <td>NaN</td>\n",
              "    </tr>\n",
              "    <tr>\n",
              "      <th>3</th>\n",
              "      <td>ALG</td>\n",
              "      <td>Algeria</td>\n",
              "      <td>NaN</td>\n",
              "    </tr>\n",
              "    <tr>\n",
              "      <th>4</th>\n",
              "      <td>AND</td>\n",
              "      <td>Andorra</td>\n",
              "      <td>NaN</td>\n",
              "    </tr>\n",
              "  </tbody>\n",
              "</table>\n",
              "</div>\n",
              "    <div class=\"colab-df-buttons\">\n",
              "\n",
              "  <div class=\"colab-df-container\">\n",
              "    <button class=\"colab-df-convert\" onclick=\"convertToInteractive('df-aa0d4265-83bd-41e3-bcc0-d3f1ea73f5e7')\"\n",
              "            title=\"Convert this dataframe to an interactive table.\"\n",
              "            style=\"display:none;\">\n",
              "\n",
              "  <svg xmlns=\"http://www.w3.org/2000/svg\" height=\"24px\" viewBox=\"0 -960 960 960\">\n",
              "    <path d=\"M120-120v-720h720v720H120Zm60-500h600v-160H180v160Zm220 220h160v-160H400v160Zm0 220h160v-160H400v160ZM180-400h160v-160H180v160Zm440 0h160v-160H620v160ZM180-180h160v-160H180v160Zm440 0h160v-160H620v160Z\"/>\n",
              "  </svg>\n",
              "    </button>\n",
              "\n",
              "  <style>\n",
              "    .colab-df-container {\n",
              "      display:flex;\n",
              "      gap: 12px;\n",
              "    }\n",
              "\n",
              "    .colab-df-convert {\n",
              "      background-color: #E8F0FE;\n",
              "      border: none;\n",
              "      border-radius: 50%;\n",
              "      cursor: pointer;\n",
              "      display: none;\n",
              "      fill: #1967D2;\n",
              "      height: 32px;\n",
              "      padding: 0 0 0 0;\n",
              "      width: 32px;\n",
              "    }\n",
              "\n",
              "    .colab-df-convert:hover {\n",
              "      background-color: #E2EBFA;\n",
              "      box-shadow: 0px 1px 2px rgba(60, 64, 67, 0.3), 0px 1px 3px 1px rgba(60, 64, 67, 0.15);\n",
              "      fill: #174EA6;\n",
              "    }\n",
              "\n",
              "    .colab-df-buttons div {\n",
              "      margin-bottom: 4px;\n",
              "    }\n",
              "\n",
              "    [theme=dark] .colab-df-convert {\n",
              "      background-color: #3B4455;\n",
              "      fill: #D2E3FC;\n",
              "    }\n",
              "\n",
              "    [theme=dark] .colab-df-convert:hover {\n",
              "      background-color: #434B5C;\n",
              "      box-shadow: 0px 1px 3px 1px rgba(0, 0, 0, 0.15);\n",
              "      filter: drop-shadow(0px 1px 2px rgba(0, 0, 0, 0.3));\n",
              "      fill: #FFFFFF;\n",
              "    }\n",
              "  </style>\n",
              "\n",
              "    <script>\n",
              "      const buttonEl =\n",
              "        document.querySelector('#df-aa0d4265-83bd-41e3-bcc0-d3f1ea73f5e7 button.colab-df-convert');\n",
              "      buttonEl.style.display =\n",
              "        google.colab.kernel.accessAllowed ? 'block' : 'none';\n",
              "\n",
              "      async function convertToInteractive(key) {\n",
              "        const element = document.querySelector('#df-aa0d4265-83bd-41e3-bcc0-d3f1ea73f5e7');\n",
              "        const dataTable =\n",
              "          await google.colab.kernel.invokeFunction('convertToInteractive',\n",
              "                                                    [key], {});\n",
              "        if (!dataTable) return;\n",
              "\n",
              "        const docLinkHtml = 'Like what you see? Visit the ' +\n",
              "          '<a target=\"_blank\" href=https://colab.research.google.com/notebooks/data_table.ipynb>data table notebook</a>'\n",
              "          + ' to learn more about interactive tables.';\n",
              "        element.innerHTML = '';\n",
              "        dataTable['output_type'] = 'display_data';\n",
              "        await google.colab.output.renderOutput(dataTable, element);\n",
              "        const docLink = document.createElement('div');\n",
              "        docLink.innerHTML = docLinkHtml;\n",
              "        element.appendChild(docLink);\n",
              "      }\n",
              "    </script>\n",
              "  </div>\n",
              "\n",
              "\n",
              "<div id=\"df-8d008ef8-45bf-434b-afcd-89e848d17df7\">\n",
              "  <button class=\"colab-df-quickchart\" onclick=\"quickchart('df-8d008ef8-45bf-434b-afcd-89e848d17df7')\"\n",
              "            title=\"Suggest charts\"\n",
              "            style=\"display:none;\">\n",
              "\n",
              "<svg xmlns=\"http://www.w3.org/2000/svg\" height=\"24px\"viewBox=\"0 0 24 24\"\n",
              "     width=\"24px\">\n",
              "    <g>\n",
              "        <path d=\"M19 3H5c-1.1 0-2 .9-2 2v14c0 1.1.9 2 2 2h14c1.1 0 2-.9 2-2V5c0-1.1-.9-2-2-2zM9 17H7v-7h2v7zm4 0h-2V7h2v10zm4 0h-2v-4h2v4z\"/>\n",
              "    </g>\n",
              "</svg>\n",
              "  </button>\n",
              "\n",
              "<style>\n",
              "  .colab-df-quickchart {\n",
              "      --bg-color: #E8F0FE;\n",
              "      --fill-color: #1967D2;\n",
              "      --hover-bg-color: #E2EBFA;\n",
              "      --hover-fill-color: #174EA6;\n",
              "      --disabled-fill-color: #AAA;\n",
              "      --disabled-bg-color: #DDD;\n",
              "  }\n",
              "\n",
              "  [theme=dark] .colab-df-quickchart {\n",
              "      --bg-color: #3B4455;\n",
              "      --fill-color: #D2E3FC;\n",
              "      --hover-bg-color: #434B5C;\n",
              "      --hover-fill-color: #FFFFFF;\n",
              "      --disabled-bg-color: #3B4455;\n",
              "      --disabled-fill-color: #666;\n",
              "  }\n",
              "\n",
              "  .colab-df-quickchart {\n",
              "    background-color: var(--bg-color);\n",
              "    border: none;\n",
              "    border-radius: 50%;\n",
              "    cursor: pointer;\n",
              "    display: none;\n",
              "    fill: var(--fill-color);\n",
              "    height: 32px;\n",
              "    padding: 0;\n",
              "    width: 32px;\n",
              "  }\n",
              "\n",
              "  .colab-df-quickchart:hover {\n",
              "    background-color: var(--hover-bg-color);\n",
              "    box-shadow: 0 1px 2px rgba(60, 64, 67, 0.3), 0 1px 3px 1px rgba(60, 64, 67, 0.15);\n",
              "    fill: var(--button-hover-fill-color);\n",
              "  }\n",
              "\n",
              "  .colab-df-quickchart-complete:disabled,\n",
              "  .colab-df-quickchart-complete:disabled:hover {\n",
              "    background-color: var(--disabled-bg-color);\n",
              "    fill: var(--disabled-fill-color);\n",
              "    box-shadow: none;\n",
              "  }\n",
              "\n",
              "  .colab-df-spinner {\n",
              "    border: 2px solid var(--fill-color);\n",
              "    border-color: transparent;\n",
              "    border-bottom-color: var(--fill-color);\n",
              "    animation:\n",
              "      spin 1s steps(1) infinite;\n",
              "  }\n",
              "\n",
              "  @keyframes spin {\n",
              "    0% {\n",
              "      border-color: transparent;\n",
              "      border-bottom-color: var(--fill-color);\n",
              "      border-left-color: var(--fill-color);\n",
              "    }\n",
              "    20% {\n",
              "      border-color: transparent;\n",
              "      border-left-color: var(--fill-color);\n",
              "      border-top-color: var(--fill-color);\n",
              "    }\n",
              "    30% {\n",
              "      border-color: transparent;\n",
              "      border-left-color: var(--fill-color);\n",
              "      border-top-color: var(--fill-color);\n",
              "      border-right-color: var(--fill-color);\n",
              "    }\n",
              "    40% {\n",
              "      border-color: transparent;\n",
              "      border-right-color: var(--fill-color);\n",
              "      border-top-color: var(--fill-color);\n",
              "    }\n",
              "    60% {\n",
              "      border-color: transparent;\n",
              "      border-right-color: var(--fill-color);\n",
              "    }\n",
              "    80% {\n",
              "      border-color: transparent;\n",
              "      border-right-color: var(--fill-color);\n",
              "      border-bottom-color: var(--fill-color);\n",
              "    }\n",
              "    90% {\n",
              "      border-color: transparent;\n",
              "      border-bottom-color: var(--fill-color);\n",
              "    }\n",
              "  }\n",
              "</style>\n",
              "\n",
              "  <script>\n",
              "    async function quickchart(key) {\n",
              "      const quickchartButtonEl =\n",
              "        document.querySelector('#' + key + ' button');\n",
              "      quickchartButtonEl.disabled = true;  // To prevent multiple clicks.\n",
              "      quickchartButtonEl.classList.add('colab-df-spinner');\n",
              "      try {\n",
              "        const charts = await google.colab.kernel.invokeFunction(\n",
              "            'suggestCharts', [key], {});\n",
              "      } catch (error) {\n",
              "        console.error('Error during call to suggestCharts:', error);\n",
              "      }\n",
              "      quickchartButtonEl.classList.remove('colab-df-spinner');\n",
              "      quickchartButtonEl.classList.add('colab-df-quickchart-complete');\n",
              "    }\n",
              "    (() => {\n",
              "      let quickchartButtonEl =\n",
              "        document.querySelector('#df-8d008ef8-45bf-434b-afcd-89e848d17df7 button');\n",
              "      quickchartButtonEl.style.display =\n",
              "        google.colab.kernel.accessAllowed ? 'block' : 'none';\n",
              "    })();\n",
              "  </script>\n",
              "</div>\n",
              "    </div>\n",
              "  </div>\n"
            ],
            "application/vnd.google.colaboratory.intrinsic+json": {
              "type": "dataframe",
              "variable_name": "regions",
              "summary": "{\n  \"name\": \"regions\",\n  \"rows\": 230,\n  \"fields\": [\n    {\n      \"column\": \"NOC\",\n      \"properties\": {\n        \"dtype\": \"string\",\n        \"num_unique_values\": 230,\n        \"samples\": [\n          \"UZB\",\n          \"EUN\",\n          \"ARM\"\n        ],\n        \"semantic_type\": \"\",\n        \"description\": \"\"\n      }\n    },\n    {\n      \"column\": \"region\",\n      \"properties\": {\n        \"dtype\": \"string\",\n        \"num_unique_values\": 206,\n        \"samples\": [\n          \"Bangladesh\",\n          \"Armenia\",\n          \"Venezuela\"\n        ],\n        \"semantic_type\": \"\",\n        \"description\": \"\"\n      }\n    },\n    {\n      \"column\": \"notes\",\n      \"properties\": {\n        \"dtype\": \"category\",\n        \"num_unique_values\": 21,\n        \"samples\": [\n          \"Netherlands Antilles\",\n          \"West Indies Federation\",\n          \"United Arab Republic\"\n        ],\n        \"semantic_type\": \"\",\n        \"description\": \"\"\n      }\n    }\n  ]\n}"
            }
          },
          "metadata": {},
          "execution_count": 443
        }
      ]
    },
    {
      "cell_type": "code",
      "source": [
        "for col in regions.columns:\n",
        "    print(f\"Column {col} has {regions[col].isna().sum()} NaN values.\")"
      ],
      "metadata": {
        "execution": {
          "iopub.status.busy": "2023-03-22T01:13:56.135261Z",
          "iopub.execute_input": "2023-03-22T01:13:56.135648Z",
          "iopub.status.idle": "2023-03-22T01:13:56.145104Z",
          "shell.execute_reply.started": "2023-03-22T01:13:56.135589Z",
          "shell.execute_reply": "2023-03-22T01:13:56.143873Z"
        },
        "trusted": true,
        "id": "qgpNPMvuFMX8",
        "outputId": "4c33993b-c91f-481b-834c-ff26413b387e",
        "colab": {
          "base_uri": "https://localhost:8080/"
        }
      },
      "execution_count": 444,
      "outputs": [
        {
          "output_type": "stream",
          "name": "stdout",
          "text": [
            "Column NOC has 0 NaN values.\n",
            "Column region has 3 NaN values.\n",
            "Column notes has 209 NaN values.\n"
          ]
        }
      ]
    },
    {
      "cell_type": "markdown",
      "source": [
        "# 4. Joining the dataframes"
      ],
      "metadata": {
        "_uuid": "cd3b74b6b5f1c8a92948258e9c17151efd44ac3b",
        "id": "C5AIriwqFMX8"
      }
    },
    {
      "cell_type": "markdown",
      "source": [
        "Using the 'Merge' function from Pandas, we have the ability to combine the two dataframes by using the 'NOC' column as the key"
      ],
      "metadata": {
        "_uuid": "a2d1091f26cf2fffc8e0847caa93dd92ceb48815",
        "id": "z9qRLj7MFMX8"
      }
    },
    {
      "cell_type": "code",
      "source": [
        "merged = pd.merge(data, regions, on='NOC', how='left')"
      ],
      "metadata": {
        "_uuid": "ce11b76e91e61ebe19c6f40ee86eb2a0dc56e2f8",
        "execution": {
          "iopub.status.busy": "2023-03-22T01:15:44.095948Z",
          "iopub.execute_input": "2023-03-22T01:15:44.096786Z",
          "iopub.status.idle": "2023-03-22T01:15:44.285070Z",
          "shell.execute_reply.started": "2023-03-22T01:15:44.096714Z",
          "shell.execute_reply": "2023-03-22T01:15:44.283679Z"
        },
        "trusted": true,
        "id": "atsKeUxqFMX8"
      },
      "execution_count": 445,
      "outputs": []
    },
    {
      "cell_type": "markdown",
      "source": [
        "Let's see the result:"
      ],
      "metadata": {
        "_uuid": "ec03b439b080b6cf0100959327f5d27bddd6d27a",
        "id": "Vl0xKFuCFMX8"
      }
    },
    {
      "cell_type": "code",
      "source": [
        "merged.head()"
      ],
      "metadata": {
        "_uuid": "5670d573ec6b4ce429a86335e5d530647b827af0",
        "execution": {
          "iopub.status.busy": "2023-03-22T01:15:46.012707Z",
          "iopub.execute_input": "2023-03-22T01:15:46.013129Z",
          "iopub.status.idle": "2023-03-22T01:15:46.063723Z",
          "shell.execute_reply.started": "2023-03-22T01:15:46.013056Z",
          "shell.execute_reply": "2023-03-22T01:15:46.062611Z"
        },
        "trusted": true,
        "id": "CrXcR_OqFMX8",
        "outputId": "a8c63d6d-9df0-447d-fea3-9123cbdc66db",
        "colab": {
          "base_uri": "https://localhost:8080/",
          "height": 206
        }
      },
      "execution_count": 446,
      "outputs": [
        {
          "output_type": "execute_result",
          "data": {
            "text/plain": [
              "   ID                      Name Sex   Age  Height  Weight         Team  NOC  \\\n",
              "0   1                 A Dijiang   M  24.0   180.0    80.0        China  CHN   \n",
              "1   2                  A Lamusi   M  23.0   170.0    60.0        China  CHN   \n",
              "2   5  Christine Jacoba Aaftink   F  21.0   185.0    82.0  Netherlands  NED   \n",
              "3   5  Christine Jacoba Aaftink   F  21.0   185.0    82.0  Netherlands  NED   \n",
              "4   5  Christine Jacoba Aaftink   F  25.0   185.0    82.0  Netherlands  NED   \n",
              "\n",
              "         Games  Year  Season         City          Sport  \\\n",
              "0  1992 Summer  1992  Summer    Barcelona     Basketball   \n",
              "1  2012 Summer  2012  Summer       London           Judo   \n",
              "2  1988 Winter  1988  Winter      Calgary  Speed Skating   \n",
              "3  1988 Winter  1988  Winter      Calgary  Speed Skating   \n",
              "4  1992 Winter  1992  Winter  Albertville  Speed Skating   \n",
              "\n",
              "                                Event Medal       region notes  \n",
              "0         Basketball Men's Basketball   NaN        China   NaN  \n",
              "1        Judo Men's Extra-Lightweight   NaN        China   NaN  \n",
              "2    Speed Skating Women's 500 metres   NaN  Netherlands   NaN  \n",
              "3  Speed Skating Women's 1,000 metres   NaN  Netherlands   NaN  \n",
              "4    Speed Skating Women's 500 metres   NaN  Netherlands   NaN  "
            ],
            "text/html": [
              "\n",
              "  <div id=\"df-c66717f4-681c-43f2-9556-f723a45262d8\" class=\"colab-df-container\">\n",
              "    <div>\n",
              "<style scoped>\n",
              "    .dataframe tbody tr th:only-of-type {\n",
              "        vertical-align: middle;\n",
              "    }\n",
              "\n",
              "    .dataframe tbody tr th {\n",
              "        vertical-align: top;\n",
              "    }\n",
              "\n",
              "    .dataframe thead th {\n",
              "        text-align: right;\n",
              "    }\n",
              "</style>\n",
              "<table border=\"1\" class=\"dataframe\">\n",
              "  <thead>\n",
              "    <tr style=\"text-align: right;\">\n",
              "      <th></th>\n",
              "      <th>ID</th>\n",
              "      <th>Name</th>\n",
              "      <th>Sex</th>\n",
              "      <th>Age</th>\n",
              "      <th>Height</th>\n",
              "      <th>Weight</th>\n",
              "      <th>Team</th>\n",
              "      <th>NOC</th>\n",
              "      <th>Games</th>\n",
              "      <th>Year</th>\n",
              "      <th>Season</th>\n",
              "      <th>City</th>\n",
              "      <th>Sport</th>\n",
              "      <th>Event</th>\n",
              "      <th>Medal</th>\n",
              "      <th>region</th>\n",
              "      <th>notes</th>\n",
              "    </tr>\n",
              "  </thead>\n",
              "  <tbody>\n",
              "    <tr>\n",
              "      <th>0</th>\n",
              "      <td>1</td>\n",
              "      <td>A Dijiang</td>\n",
              "      <td>M</td>\n",
              "      <td>24.0</td>\n",
              "      <td>180.0</td>\n",
              "      <td>80.0</td>\n",
              "      <td>China</td>\n",
              "      <td>CHN</td>\n",
              "      <td>1992 Summer</td>\n",
              "      <td>1992</td>\n",
              "      <td>Summer</td>\n",
              "      <td>Barcelona</td>\n",
              "      <td>Basketball</td>\n",
              "      <td>Basketball Men's Basketball</td>\n",
              "      <td>NaN</td>\n",
              "      <td>China</td>\n",
              "      <td>NaN</td>\n",
              "    </tr>\n",
              "    <tr>\n",
              "      <th>1</th>\n",
              "      <td>2</td>\n",
              "      <td>A Lamusi</td>\n",
              "      <td>M</td>\n",
              "      <td>23.0</td>\n",
              "      <td>170.0</td>\n",
              "      <td>60.0</td>\n",
              "      <td>China</td>\n",
              "      <td>CHN</td>\n",
              "      <td>2012 Summer</td>\n",
              "      <td>2012</td>\n",
              "      <td>Summer</td>\n",
              "      <td>London</td>\n",
              "      <td>Judo</td>\n",
              "      <td>Judo Men's Extra-Lightweight</td>\n",
              "      <td>NaN</td>\n",
              "      <td>China</td>\n",
              "      <td>NaN</td>\n",
              "    </tr>\n",
              "    <tr>\n",
              "      <th>2</th>\n",
              "      <td>5</td>\n",
              "      <td>Christine Jacoba Aaftink</td>\n",
              "      <td>F</td>\n",
              "      <td>21.0</td>\n",
              "      <td>185.0</td>\n",
              "      <td>82.0</td>\n",
              "      <td>Netherlands</td>\n",
              "      <td>NED</td>\n",
              "      <td>1988 Winter</td>\n",
              "      <td>1988</td>\n",
              "      <td>Winter</td>\n",
              "      <td>Calgary</td>\n",
              "      <td>Speed Skating</td>\n",
              "      <td>Speed Skating Women's 500 metres</td>\n",
              "      <td>NaN</td>\n",
              "      <td>Netherlands</td>\n",
              "      <td>NaN</td>\n",
              "    </tr>\n",
              "    <tr>\n",
              "      <th>3</th>\n",
              "      <td>5</td>\n",
              "      <td>Christine Jacoba Aaftink</td>\n",
              "      <td>F</td>\n",
              "      <td>21.0</td>\n",
              "      <td>185.0</td>\n",
              "      <td>82.0</td>\n",
              "      <td>Netherlands</td>\n",
              "      <td>NED</td>\n",
              "      <td>1988 Winter</td>\n",
              "      <td>1988</td>\n",
              "      <td>Winter</td>\n",
              "      <td>Calgary</td>\n",
              "      <td>Speed Skating</td>\n",
              "      <td>Speed Skating Women's 1,000 metres</td>\n",
              "      <td>NaN</td>\n",
              "      <td>Netherlands</td>\n",
              "      <td>NaN</td>\n",
              "    </tr>\n",
              "    <tr>\n",
              "      <th>4</th>\n",
              "      <td>5</td>\n",
              "      <td>Christine Jacoba Aaftink</td>\n",
              "      <td>F</td>\n",
              "      <td>25.0</td>\n",
              "      <td>185.0</td>\n",
              "      <td>82.0</td>\n",
              "      <td>Netherlands</td>\n",
              "      <td>NED</td>\n",
              "      <td>1992 Winter</td>\n",
              "      <td>1992</td>\n",
              "      <td>Winter</td>\n",
              "      <td>Albertville</td>\n",
              "      <td>Speed Skating</td>\n",
              "      <td>Speed Skating Women's 500 metres</td>\n",
              "      <td>NaN</td>\n",
              "      <td>Netherlands</td>\n",
              "      <td>NaN</td>\n",
              "    </tr>\n",
              "  </tbody>\n",
              "</table>\n",
              "</div>\n",
              "    <div class=\"colab-df-buttons\">\n",
              "\n",
              "  <div class=\"colab-df-container\">\n",
              "    <button class=\"colab-df-convert\" onclick=\"convertToInteractive('df-c66717f4-681c-43f2-9556-f723a45262d8')\"\n",
              "            title=\"Convert this dataframe to an interactive table.\"\n",
              "            style=\"display:none;\">\n",
              "\n",
              "  <svg xmlns=\"http://www.w3.org/2000/svg\" height=\"24px\" viewBox=\"0 -960 960 960\">\n",
              "    <path d=\"M120-120v-720h720v720H120Zm60-500h600v-160H180v160Zm220 220h160v-160H400v160Zm0 220h160v-160H400v160ZM180-400h160v-160H180v160Zm440 0h160v-160H620v160ZM180-180h160v-160H180v160Zm440 0h160v-160H620v160Z\"/>\n",
              "  </svg>\n",
              "    </button>\n",
              "\n",
              "  <style>\n",
              "    .colab-df-container {\n",
              "      display:flex;\n",
              "      gap: 12px;\n",
              "    }\n",
              "\n",
              "    .colab-df-convert {\n",
              "      background-color: #E8F0FE;\n",
              "      border: none;\n",
              "      border-radius: 50%;\n",
              "      cursor: pointer;\n",
              "      display: none;\n",
              "      fill: #1967D2;\n",
              "      height: 32px;\n",
              "      padding: 0 0 0 0;\n",
              "      width: 32px;\n",
              "    }\n",
              "\n",
              "    .colab-df-convert:hover {\n",
              "      background-color: #E2EBFA;\n",
              "      box-shadow: 0px 1px 2px rgba(60, 64, 67, 0.3), 0px 1px 3px 1px rgba(60, 64, 67, 0.15);\n",
              "      fill: #174EA6;\n",
              "    }\n",
              "\n",
              "    .colab-df-buttons div {\n",
              "      margin-bottom: 4px;\n",
              "    }\n",
              "\n",
              "    [theme=dark] .colab-df-convert {\n",
              "      background-color: #3B4455;\n",
              "      fill: #D2E3FC;\n",
              "    }\n",
              "\n",
              "    [theme=dark] .colab-df-convert:hover {\n",
              "      background-color: #434B5C;\n",
              "      box-shadow: 0px 1px 3px 1px rgba(0, 0, 0, 0.15);\n",
              "      filter: drop-shadow(0px 1px 2px rgba(0, 0, 0, 0.3));\n",
              "      fill: #FFFFFF;\n",
              "    }\n",
              "  </style>\n",
              "\n",
              "    <script>\n",
              "      const buttonEl =\n",
              "        document.querySelector('#df-c66717f4-681c-43f2-9556-f723a45262d8 button.colab-df-convert');\n",
              "      buttonEl.style.display =\n",
              "        google.colab.kernel.accessAllowed ? 'block' : 'none';\n",
              "\n",
              "      async function convertToInteractive(key) {\n",
              "        const element = document.querySelector('#df-c66717f4-681c-43f2-9556-f723a45262d8');\n",
              "        const dataTable =\n",
              "          await google.colab.kernel.invokeFunction('convertToInteractive',\n",
              "                                                    [key], {});\n",
              "        if (!dataTable) return;\n",
              "\n",
              "        const docLinkHtml = 'Like what you see? Visit the ' +\n",
              "          '<a target=\"_blank\" href=https://colab.research.google.com/notebooks/data_table.ipynb>data table notebook</a>'\n",
              "          + ' to learn more about interactive tables.';\n",
              "        element.innerHTML = '';\n",
              "        dataTable['output_type'] = 'display_data';\n",
              "        await google.colab.output.renderOutput(dataTable, element);\n",
              "        const docLink = document.createElement('div');\n",
              "        docLink.innerHTML = docLinkHtml;\n",
              "        element.appendChild(docLink);\n",
              "      }\n",
              "    </script>\n",
              "  </div>\n",
              "\n",
              "\n",
              "<div id=\"df-9434856a-9487-4e3d-b2d3-4d8f430a8d82\">\n",
              "  <button class=\"colab-df-quickchart\" onclick=\"quickchart('df-9434856a-9487-4e3d-b2d3-4d8f430a8d82')\"\n",
              "            title=\"Suggest charts\"\n",
              "            style=\"display:none;\">\n",
              "\n",
              "<svg xmlns=\"http://www.w3.org/2000/svg\" height=\"24px\"viewBox=\"0 0 24 24\"\n",
              "     width=\"24px\">\n",
              "    <g>\n",
              "        <path d=\"M19 3H5c-1.1 0-2 .9-2 2v14c0 1.1.9 2 2 2h14c1.1 0 2-.9 2-2V5c0-1.1-.9-2-2-2zM9 17H7v-7h2v7zm4 0h-2V7h2v10zm4 0h-2v-4h2v4z\"/>\n",
              "    </g>\n",
              "</svg>\n",
              "  </button>\n",
              "\n",
              "<style>\n",
              "  .colab-df-quickchart {\n",
              "      --bg-color: #E8F0FE;\n",
              "      --fill-color: #1967D2;\n",
              "      --hover-bg-color: #E2EBFA;\n",
              "      --hover-fill-color: #174EA6;\n",
              "      --disabled-fill-color: #AAA;\n",
              "      --disabled-bg-color: #DDD;\n",
              "  }\n",
              "\n",
              "  [theme=dark] .colab-df-quickchart {\n",
              "      --bg-color: #3B4455;\n",
              "      --fill-color: #D2E3FC;\n",
              "      --hover-bg-color: #434B5C;\n",
              "      --hover-fill-color: #FFFFFF;\n",
              "      --disabled-bg-color: #3B4455;\n",
              "      --disabled-fill-color: #666;\n",
              "  }\n",
              "\n",
              "  .colab-df-quickchart {\n",
              "    background-color: var(--bg-color);\n",
              "    border: none;\n",
              "    border-radius: 50%;\n",
              "    cursor: pointer;\n",
              "    display: none;\n",
              "    fill: var(--fill-color);\n",
              "    height: 32px;\n",
              "    padding: 0;\n",
              "    width: 32px;\n",
              "  }\n",
              "\n",
              "  .colab-df-quickchart:hover {\n",
              "    background-color: var(--hover-bg-color);\n",
              "    box-shadow: 0 1px 2px rgba(60, 64, 67, 0.3), 0 1px 3px 1px rgba(60, 64, 67, 0.15);\n",
              "    fill: var(--button-hover-fill-color);\n",
              "  }\n",
              "\n",
              "  .colab-df-quickchart-complete:disabled,\n",
              "  .colab-df-quickchart-complete:disabled:hover {\n",
              "    background-color: var(--disabled-bg-color);\n",
              "    fill: var(--disabled-fill-color);\n",
              "    box-shadow: none;\n",
              "  }\n",
              "\n",
              "  .colab-df-spinner {\n",
              "    border: 2px solid var(--fill-color);\n",
              "    border-color: transparent;\n",
              "    border-bottom-color: var(--fill-color);\n",
              "    animation:\n",
              "      spin 1s steps(1) infinite;\n",
              "  }\n",
              "\n",
              "  @keyframes spin {\n",
              "    0% {\n",
              "      border-color: transparent;\n",
              "      border-bottom-color: var(--fill-color);\n",
              "      border-left-color: var(--fill-color);\n",
              "    }\n",
              "    20% {\n",
              "      border-color: transparent;\n",
              "      border-left-color: var(--fill-color);\n",
              "      border-top-color: var(--fill-color);\n",
              "    }\n",
              "    30% {\n",
              "      border-color: transparent;\n",
              "      border-left-color: var(--fill-color);\n",
              "      border-top-color: var(--fill-color);\n",
              "      border-right-color: var(--fill-color);\n",
              "    }\n",
              "    40% {\n",
              "      border-color: transparent;\n",
              "      border-right-color: var(--fill-color);\n",
              "      border-top-color: var(--fill-color);\n",
              "    }\n",
              "    60% {\n",
              "      border-color: transparent;\n",
              "      border-right-color: var(--fill-color);\n",
              "    }\n",
              "    80% {\n",
              "      border-color: transparent;\n",
              "      border-right-color: var(--fill-color);\n",
              "      border-bottom-color: var(--fill-color);\n",
              "    }\n",
              "    90% {\n",
              "      border-color: transparent;\n",
              "      border-bottom-color: var(--fill-color);\n",
              "    }\n",
              "  }\n",
              "</style>\n",
              "\n",
              "  <script>\n",
              "    async function quickchart(key) {\n",
              "      const quickchartButtonEl =\n",
              "        document.querySelector('#' + key + ' button');\n",
              "      quickchartButtonEl.disabled = true;  // To prevent multiple clicks.\n",
              "      quickchartButtonEl.classList.add('colab-df-spinner');\n",
              "      try {\n",
              "        const charts = await google.colab.kernel.invokeFunction(\n",
              "            'suggestCharts', [key], {});\n",
              "      } catch (error) {\n",
              "        console.error('Error during call to suggestCharts:', error);\n",
              "      }\n",
              "      quickchartButtonEl.classList.remove('colab-df-spinner');\n",
              "      quickchartButtonEl.classList.add('colab-df-quickchart-complete');\n",
              "    }\n",
              "    (() => {\n",
              "      let quickchartButtonEl =\n",
              "        document.querySelector('#df-9434856a-9487-4e3d-b2d3-4d8f430a8d82 button');\n",
              "      quickchartButtonEl.style.display =\n",
              "        google.colab.kernel.accessAllowed ? 'block' : 'none';\n",
              "    })();\n",
              "  </script>\n",
              "</div>\n",
              "    </div>\n",
              "  </div>\n"
            ],
            "application/vnd.google.colaboratory.intrinsic+json": {
              "type": "dataframe",
              "variable_name": "merged"
            }
          },
          "metadata": {},
          "execution_count": 446
        }
      ]
    },
    {
      "cell_type": "code",
      "source": [
        "goldMedals = merged[(merged.Medal == 'Gold')]"
      ],
      "metadata": {
        "id": "rSUjJZwvFdxH"
      },
      "execution_count": 447,
      "outputs": []
    },
    {
      "cell_type": "code",
      "source": [
        "goldMedals.isnull().any()"
      ],
      "metadata": {
        "colab": {
          "base_uri": "https://localhost:8080/"
        },
        "id": "7bpc7mKCFeLv",
        "outputId": "a09fafec-0d14-49ed-f778-039e26694389"
      },
      "execution_count": 448,
      "outputs": [
        {
          "output_type": "execute_result",
          "data": {
            "text/plain": [
              "ID        False\n",
              "Name      False\n",
              "Sex       False\n",
              "Age       False\n",
              "Height    False\n",
              "Weight    False\n",
              "Team      False\n",
              "NOC       False\n",
              "Games     False\n",
              "Year      False\n",
              "Season    False\n",
              "City      False\n",
              "Sport     False\n",
              "Event     False\n",
              "Medal     False\n",
              "region     True\n",
              "notes      True\n",
              "dtype: bool"
            ]
          },
          "metadata": {},
          "execution_count": 448
        }
      ]
    },
    {
      "cell_type": "code",
      "source": [
        "goldMedals.info()"
      ],
      "metadata": {
        "colab": {
          "base_uri": "https://localhost:8080/"
        },
        "id": "ogut7arXFqDi",
        "outputId": "7c46dea4-c850-4eb5-e139-37c55be564fd"
      },
      "execution_count": 449,
      "outputs": [
        {
          "output_type": "stream",
          "name": "stdout",
          "text": [
            "<class 'pandas.core.frame.DataFrame'>\n",
            "Int64Index: 10167 entries, 32 to 206126\n",
            "Data columns (total 17 columns):\n",
            " #   Column  Non-Null Count  Dtype  \n",
            "---  ------  --------------  -----  \n",
            " 0   ID      10167 non-null  int64  \n",
            " 1   Name    10167 non-null  object \n",
            " 2   Sex     10167 non-null  object \n",
            " 3   Age     10167 non-null  float64\n",
            " 4   Height  10167 non-null  float64\n",
            " 5   Weight  10167 non-null  float64\n",
            " 6   Team    10167 non-null  object \n",
            " 7   NOC     10167 non-null  object \n",
            " 8   Games   10167 non-null  object \n",
            " 9   Year    10167 non-null  int64  \n",
            " 10  Season  10167 non-null  object \n",
            " 11  City    10167 non-null  object \n",
            " 12  Sport   10167 non-null  object \n",
            " 13  Event   10167 non-null  object \n",
            " 14  Medal   10167 non-null  object \n",
            " 15  region  10166 non-null  object \n",
            " 16  notes   143 non-null    object \n",
            "dtypes: float64(3), int64(2), object(12)\n",
            "memory usage: 1.4+ MB\n"
          ]
        }
      ]
    },
    {
      "cell_type": "code",
      "source": [
        "notNullMedals = goldMedals[(goldMedals['Height'].notnull()) & (goldMedals['Weight'].notnull())]\n",
        "plt.figure(figsize=(12, 10))\n",
        "ax = sns.scatterplot(x=\"Height\", y=\"Weight\", data=notNullMedals)\n",
        "plt.title('Height vs Weight of Olympic Medalists')"
      ],
      "metadata": {
        "colab": {
          "base_uri": "https://localhost:8080/",
          "height": 889
        },
        "id": "nbT7QGpfGAYm",
        "outputId": "9e61a03f-7382-440b-de5c-0524b25db7eb"
      },
      "execution_count": 450,
      "outputs": [
        {
          "output_type": "execute_result",
          "data": {
            "text/plain": [
              "Text(0.5, 1.0, 'Height vs Weight of Olympic Medalists')"
            ]
          },
          "metadata": {},
          "execution_count": 450
        },
        {
          "output_type": "display_data",
          "data": {
            "text/plain": [
              "<Figure size 1200x1000 with 1 Axes>"
            ],
            "image/png": "[encoded data removed]"
          },
          "metadata": {}
        }
      ]
    },
    {
      "cell_type": "code",
      "source": [
        "masterDisciplines = goldMedals['Sport'][goldMedals['Age'] > 50]\n",
        "plt.figure(figsize=(20, 10))\n",
        "plt.tight_layout()\n",
        "sns.countplot(masterDisciplines)\n",
        "plt.title('Gold Medals for Athletes Over 50')"
      ],
      "metadata": {
        "id": "Q3d5OFNQLsrJ",
        "outputId": "348992f4-2217-41bf-98a0-98e24919a112",
        "colab": {
          "base_uri": "https://localhost:8080/",
          "height": 826
        }
      },
      "execution_count": 459,
      "outputs": [
        {
          "output_type": "execute_result",
          "data": {
            "text/plain": [
              "Text(0.5, 1.0, 'Gold Medals for Athletes Over 50')"
            ]
          },
          "metadata": {},
          "execution_count": 459
        },
        {
          "output_type": "display_data",
          "data": {
            "text/plain": [
              "<Figure size 2000x1000 with 1 Axes>"
            ],
            "image/png": "[encoded data removed]"
          },
          "metadata": {}
        }
      ]
    },
    {
      "cell_type": "markdown",
      "source": [
        "# It seems that we have people with Age greater that 50 with a gold medal: Let’s know more about those people."
      ],
      "metadata": {
        "id": "xRGHVpVELv0O"
      }
    },
    {
      "cell_type": "code",
      "source": [
        "goldMedals['ID'][goldMedals['Age'] > 50].count()"
      ],
      "metadata": {
        "id": "VTX_X0YPL0pn",
        "outputId": "219052d5-5ea9-47b2-bb9f-ca4903a79b82",
        "colab": {
          "base_uri": "https://localhost:8080/"
        }
      },
      "execution_count": 460,
      "outputs": [
        {
          "output_type": "execute_result",
          "data": {
            "text/plain": [
              "14"
            ]
          },
          "metadata": {},
          "execution_count": 460
        }
      ]
    },
    {
      "cell_type": "code",
      "source": [
        "wlMenOverTime = MenOverTime.loc[MenOverTime['Sport'] == 'Weightlifting']\n",
        "wlWomenOverTime = WomenOverTime.loc[WomenOverTime['Sport'] == 'Weightlifting']"
      ],
      "metadata": {
        "id": "0SjntMsTMRBq"
      },
      "execution_count": 462,
      "outputs": []
    },
    {
      "cell_type": "code",
      "source": [
        "plt.figure(figsize=(20, 10))\n",
        "sns.pointplot('Year', 'Weight', data=wlMenOverTime, palette='Set2')\n",
        "plt.title('Weight over year for Male Lifters')"
      ],
      "metadata": {
        "id": "wdC4Q7UAMVWp",
        "outputId": "cf022961-e48c-4cae-c1d6-e9d5f51d0b6f",
        "colab": {
          "base_uri": "https://localhost:8080/",
          "height": 193
        }
      },
      "execution_count": 463,
      "outputs": [
        {
          "output_type": "error",
          "ename": "TypeError",
          "evalue": "pointplot() got multiple values for argument 'data'",
          "traceback": [
            "\u001b[0;31m---------------------------------------------------------------------------\u001b[0m",
            "\u001b[0;31mTypeError\u001b[0m                                 Traceback (most recent call last)",
            "\u001b[0;32m<ipython-input-463-c5e16a02effb>\u001b[0m in \u001b[0;36m<cell line: 2>\u001b[0;34m()\u001b[0m\n\u001b[1;32m      1\u001b[0m \u001b[0mplt\u001b[0m\u001b[0;34m.\u001b[0m\u001b[0mfigure\u001b[0m\u001b[0;34m(\u001b[0m\u001b[0mfigsize\u001b[0m\u001b[0;34m=\u001b[0m\u001b[0;34m(\u001b[0m\u001b[0;36m20\u001b[0m\u001b[0;34m,\u001b[0m \u001b[0;36m10\u001b[0m\u001b[0;34m)\u001b[0m\u001b[0;34m)\u001b[0m\u001b[0;34m\u001b[0m\u001b[0;34m\u001b[0m\u001b[0m\n\u001b[0;32m----> 2\u001b[0;31m \u001b[0msns\u001b[0m\u001b[0;34m.\u001b[0m\u001b[0mpointplot\u001b[0m\u001b[0;34m(\u001b[0m\u001b[0;34m'Year'\u001b[0m\u001b[0;34m,\u001b[0m \u001b[0;34m'Weight'\u001b[0m\u001b[0;34m,\u001b[0m \u001b[0mdata\u001b[0m\u001b[0;34m=\u001b[0m\u001b[0mwlMenOverTime\u001b[0m\u001b[0;34m,\u001b[0m \u001b[0mpalette\u001b[0m\u001b[0;34m=\u001b[0m\u001b[0;34m'Set2'\u001b[0m\u001b[0;34m)\u001b[0m\u001b[0;34m\u001b[0m\u001b[0;34m\u001b[0m\u001b[0m\n\u001b[0m\u001b[1;32m      3\u001b[0m \u001b[0mplt\u001b[0m\u001b[0;34m.\u001b[0m\u001b[0mtitle\u001b[0m\u001b[0;34m(\u001b[0m\u001b[0;34m'Weight over year for Male Lifters'\u001b[0m\u001b[0;34m)\u001b[0m\u001b[0;34m\u001b[0m\u001b[0;34m\u001b[0m\u001b[0m\n",
            "\u001b[0;31mTypeError\u001b[0m: pointplot() got multiple values for argument 'data'"
          ]
        },
        {
          "output_type": "display_data",
          "data": {
            "text/plain": [
              "<Figure size 2000x1000 with 0 Axes>"
            ]
          },
          "metadata": {}
        }
      ]
    },
    {
      "cell_type": "markdown",
      "source": [
        "# Russias GoldMedal winners are quite heavy"
      ],
      "metadata": {
        "id": "m_ef0sm4J5pr"
      }
    },
    {
      "cell_type": "code",
      "source": [
        "MenOverTime = merged[(merged.Sex == 'M') & (merged.Season == 'Summer')]\n",
        "WomenOverTime = merged[(merged.Sex == 'F') & (merged.Season == 'Summer')]"
      ],
      "metadata": {
        "id": "nW5UWO1wJhbg"
      },
      "execution_count": 453,
      "outputs": []
    },
    {
      "cell_type": "markdown",
      "source": [
        "# Okay, the string to use to filter is ‘Gymnastics’: let’s create two new dataframes for men and women."
      ],
      "metadata": {
        "id": "knvxR1ByJFGK"
      }
    },
    {
      "cell_type": "code",
      "source": [
        "gymMenOverTime = MenOverTime.loc[MenOverTime['Sport'] == 'Gymnastics']\n",
        "gymWomenOverTime = WomenOverTime.loc[WomenOverTime['Sport'] == 'Gymnastics']"
      ],
      "metadata": {
        "id": "zW37s3IQGfeK"
      },
      "execution_count": 454,
      "outputs": []
    },
    {
      "cell_type": "code",
      "source": [
        "plt.figure(figsize=(20, 10))\n",
        "sns.barplot('Year', 'Weight', data=gymMenOverTime)\n",
        "plt.title('Weight over year for Male Gymnasts')"
      ],
      "metadata": {
        "colab": {
          "base_uri": "https://localhost:8080/",
          "height": 193
        },
        "id": "UUbQBj_KGjvv",
        "outputId": "0184581c-2ad4-4fbe-baf9-87df5a2dece4"
      },
      "execution_count": 455,
      "outputs": [
        {
          "output_type": "error",
          "ename": "TypeError",
          "evalue": "barplot() got multiple values for argument 'data'",
          "traceback": [
            "\u001b[0;31m---------------------------------------------------------------------------\u001b[0m",
            "\u001b[0;31mTypeError\u001b[0m                                 Traceback (most recent call last)",
            "\u001b[0;32m<ipython-input-455-591b4dbc227e>\u001b[0m in \u001b[0;36m<cell line: 2>\u001b[0;34m()\u001b[0m\n\u001b[1;32m      1\u001b[0m \u001b[0mplt\u001b[0m\u001b[0;34m.\u001b[0m\u001b[0mfigure\u001b[0m\u001b[0;34m(\u001b[0m\u001b[0mfigsize\u001b[0m\u001b[0;34m=\u001b[0m\u001b[0;34m(\u001b[0m\u001b[0;36m20\u001b[0m\u001b[0;34m,\u001b[0m \u001b[0;36m10\u001b[0m\u001b[0;34m)\u001b[0m\u001b[0;34m)\u001b[0m\u001b[0;34m\u001b[0m\u001b[0;34m\u001b[0m\u001b[0m\n\u001b[0;32m----> 2\u001b[0;31m \u001b[0msns\u001b[0m\u001b[0;34m.\u001b[0m\u001b[0mbarplot\u001b[0m\u001b[0;34m(\u001b[0m\u001b[0;34m'Year'\u001b[0m\u001b[0;34m,\u001b[0m \u001b[0;34m'Weight'\u001b[0m\u001b[0;34m,\u001b[0m \u001b[0mdata\u001b[0m\u001b[0;34m=\u001b[0m\u001b[0mgymMenOverTime\u001b[0m\u001b[0;34m)\u001b[0m\u001b[0;34m\u001b[0m\u001b[0;34m\u001b[0m\u001b[0m\n\u001b[0m\u001b[1;32m      3\u001b[0m \u001b[0mplt\u001b[0m\u001b[0;34m.\u001b[0m\u001b[0mtitle\u001b[0m\u001b[0;34m(\u001b[0m\u001b[0;34m'Weight over year for Male Gymnasts'\u001b[0m\u001b[0;34m)\u001b[0m\u001b[0;34m\u001b[0m\u001b[0;34m\u001b[0m\u001b[0m\n",
            "\u001b[0;31mTypeError\u001b[0m: barplot() got multiple values for argument 'data'"
          ]
        },
        {
          "output_type": "display_data",
          "data": {
            "text/plain": [
              "<Figure size 2000x1000 with 0 Axes>"
            ]
          },
          "metadata": {}
        }
      ]
    },
    {
      "cell_type": "markdown",
      "source": [
        "#A few things I noticed:\n",
        "The weight for female Gymnasts has go down for 60 to 50 kilograms on average;\n",
        "\n",
        "1.   The weight for men has been more or less stable since 1964;\n",
        "2.   The height is more stable for both men and women.\n",
        "\n",
        "Also, men weight data from 1924 seems missing: let’s check."
      ],
      "metadata": {
        "id": "ve9-WIt5Goc6"
      }
    },
    {
      "cell_type": "code",
      "source": [
        "plt.figure(figsize=(20, 10))\n",
        "sns.barplot('Year', 'Height', data=gymMenOverTime)\n",
        "plt.title('Height over year for Male Gymnasts')"
      ],
      "metadata": {
        "colab": {
          "base_uri": "https://localhost:8080/",
          "height": 193
        },
        "id": "krRPc3OXGnWJ",
        "outputId": "c4179bf5-7034-4cec-d137-39c275809b49"
      },
      "execution_count": 456,
      "outputs": [
        {
          "output_type": "error",
          "ename": "TypeError",
          "evalue": "barplot() got multiple values for argument 'data'",
          "traceback": [
            "\u001b[0;31m---------------------------------------------------------------------------\u001b[0m",
            "\u001b[0;31mTypeError\u001b[0m                                 Traceback (most recent call last)",
            "\u001b[0;32m<ipython-input-456-30c41c5018e5>\u001b[0m in \u001b[0;36m<cell line: 2>\u001b[0;34m()\u001b[0m\n\u001b[1;32m      1\u001b[0m \u001b[0mplt\u001b[0m\u001b[0;34m.\u001b[0m\u001b[0mfigure\u001b[0m\u001b[0;34m(\u001b[0m\u001b[0mfigsize\u001b[0m\u001b[0;34m=\u001b[0m\u001b[0;34m(\u001b[0m\u001b[0;36m20\u001b[0m\u001b[0;34m,\u001b[0m \u001b[0;36m10\u001b[0m\u001b[0;34m)\u001b[0m\u001b[0;34m)\u001b[0m\u001b[0;34m\u001b[0m\u001b[0;34m\u001b[0m\u001b[0m\n\u001b[0;32m----> 2\u001b[0;31m \u001b[0msns\u001b[0m\u001b[0;34m.\u001b[0m\u001b[0mbarplot\u001b[0m\u001b[0;34m(\u001b[0m\u001b[0;34m'Year'\u001b[0m\u001b[0;34m,\u001b[0m \u001b[0;34m'Height'\u001b[0m\u001b[0;34m,\u001b[0m \u001b[0mdata\u001b[0m\u001b[0;34m=\u001b[0m\u001b[0mgymMenOverTime\u001b[0m\u001b[0;34m)\u001b[0m\u001b[0;34m\u001b[0m\u001b[0;34m\u001b[0m\u001b[0m\n\u001b[0m\u001b[1;32m      3\u001b[0m \u001b[0mplt\u001b[0m\u001b[0;34m.\u001b[0m\u001b[0mtitle\u001b[0m\u001b[0;34m(\u001b[0m\u001b[0;34m'Height over year for Male Gymnasts'\u001b[0m\u001b[0;34m)\u001b[0m\u001b[0;34m\u001b[0m\u001b[0;34m\u001b[0m\u001b[0m\n",
            "\u001b[0;31mTypeError\u001b[0m: barplot() got multiple values for argument 'data'"
          ]
        },
        {
          "output_type": "display_data",
          "data": {
            "text/plain": [
              "<Figure size 2000x1000 with 0 Axes>"
            ]
          },
          "metadata": {}
        }
      ]
    },
    {
      "cell_type": "code",
      "source": [
        "plt.figure(figsize=(20, 10))\n",
        "sns.barplot('Year', 'Weight', data=gymWomenOverTime)\n",
        "plt.title('Weight over year for Female Gymnasts')"
      ],
      "metadata": {
        "colab": {
          "base_uri": "https://localhost:8080/",
          "height": 193
        },
        "id": "ET-iPasgGuF6",
        "outputId": "c0f7b60b-fd1e-4462-d0ad-5e1754b81163"
      },
      "execution_count": 457,
      "outputs": [
        {
          "output_type": "error",
          "ename": "TypeError",
          "evalue": "barplot() got multiple values for argument 'data'",
          "traceback": [
            "\u001b[0;31m---------------------------------------------------------------------------\u001b[0m",
            "\u001b[0;31mTypeError\u001b[0m                                 Traceback (most recent call last)",
            "\u001b[0;32m<ipython-input-457-0e7f9b24abbb>\u001b[0m in \u001b[0;36m<cell line: 2>\u001b[0;34m()\u001b[0m\n\u001b[1;32m      1\u001b[0m \u001b[0mplt\u001b[0m\u001b[0;34m.\u001b[0m\u001b[0mfigure\u001b[0m\u001b[0;34m(\u001b[0m\u001b[0mfigsize\u001b[0m\u001b[0;34m=\u001b[0m\u001b[0;34m(\u001b[0m\u001b[0;36m20\u001b[0m\u001b[0;34m,\u001b[0m \u001b[0;36m10\u001b[0m\u001b[0;34m)\u001b[0m\u001b[0;34m)\u001b[0m\u001b[0;34m\u001b[0m\u001b[0;34m\u001b[0m\u001b[0m\n\u001b[0;32m----> 2\u001b[0;31m \u001b[0msns\u001b[0m\u001b[0;34m.\u001b[0m\u001b[0mbarplot\u001b[0m\u001b[0;34m(\u001b[0m\u001b[0;34m'Year'\u001b[0m\u001b[0;34m,\u001b[0m \u001b[0;34m'Weight'\u001b[0m\u001b[0;34m,\u001b[0m \u001b[0mdata\u001b[0m\u001b[0;34m=\u001b[0m\u001b[0mgymWomenOverTime\u001b[0m\u001b[0;34m)\u001b[0m\u001b[0;34m\u001b[0m\u001b[0;34m\u001b[0m\u001b[0m\n\u001b[0m\u001b[1;32m      3\u001b[0m \u001b[0mplt\u001b[0m\u001b[0;34m.\u001b[0m\u001b[0mtitle\u001b[0m\u001b[0;34m(\u001b[0m\u001b[0;34m'Weight over year for Female Gymnasts'\u001b[0m\u001b[0;34m)\u001b[0m\u001b[0;34m\u001b[0m\u001b[0;34m\u001b[0m\u001b[0m\n",
            "\u001b[0;31mTypeError\u001b[0m: barplot() got multiple values for argument 'data'"
          ]
        },
        {
          "output_type": "display_data",
          "data": {
            "text/plain": [
              "<Figure size 2000x1000 with 0 Axes>"
            ]
          },
          "metadata": {}
        }
      ]
    },
    {
      "cell_type": "code",
      "source": [
        "plt.figure(figsize=(20, 10))\n",
        "sns.barplot('Year', 'Height', data=gymWomenOverTime)\n",
        "plt.title('Height over year for Female Gymnasts')"
      ],
      "metadata": {
        "id": "_2ootnV1Gx9e"
      },
      "execution_count": null,
      "outputs": []
    },
    {
      "cell_type": "code",
      "source": [
        "gymMenOverTime['Weight'].loc[gymMenOverTime['Year'] == 1924].isnull().all()"
      ],
      "metadata": {
        "id": "Emb5-BflG0TC"
      },
      "execution_count": null,
      "outputs": []
    },
    {
      "cell_type": "markdown",
      "source": [
        "#Weightlifting\n",
        "Let’s work on an analysis similar to what we have done for Gymnastics also for the Lifters.\n",
        "We can start creating a new, dedicated dataframe"
      ],
      "metadata": {
        "id": "rC3nVqmPG-qj"
      }
    },
    {
      "cell_type": "code",
      "source": [
        "wlMenOverTime = MenOverTime.loc[MenOverTime['Sport'] == 'Weightlifting']\n",
        "wlWomenOverTime = WomenOverTime.loc[WomenOverTime['Sport'] == 'Weightlifting']"
      ],
      "metadata": {
        "id": "IEKH56ttG44m"
      },
      "execution_count": null,
      "outputs": []
    },
    {
      "cell_type": "markdown",
      "source": [
        "# Additionally:"
      ],
      "metadata": {
        "id": "CQZqPg-ZFMX9"
      }
    },
    {
      "cell_type": "code",
      "source": [
        "merged.Height.hist(bins=20)"
      ],
      "metadata": {
        "execution": {
          "iopub.status.busy": "2023-03-22T01:14:10.255160Z",
          "iopub.execute_input": "2023-03-22T01:14:10.256006Z",
          "iopub.status.idle": "2023-03-22T01:14:10.578948Z",
          "shell.execute_reply.started": "2023-03-22T01:14:10.255936Z",
          "shell.execute_reply": "2023-03-22T01:14:10.577651Z"
        },
        "trusted": true,
        "id": "4VceDp9qFMX9"
      },
      "execution_count": null,
      "outputs": []
    },
    {
      "cell_type": "markdown",
      "source": [
        "## Normal Probability Plot"
      ],
      "metadata": {
        "id": "6o-FUKukFMX9"
      }
    },
    {
      "cell_type": "code",
      "source": [
        "fig, ax = plt.subplots(1, 2, figsize=(12, 7))\n",
        "merged.Height.hist(bins=20,ax=ax[0])\n",
        "sm.ProbPlot(merged.Height).qqplot(line='s', ax=ax[1])\n"
      ],
      "metadata": {
        "execution": {
          "iopub.status.busy": "2023-03-22T01:15:50.595333Z",
          "iopub.execute_input": "2023-03-22T01:15:50.595752Z",
          "iopub.status.idle": "2023-03-22T01:15:53.256795Z",
          "shell.execute_reply.started": "2023-03-22T01:15:50.595694Z",
          "shell.execute_reply": "2023-03-22T01:15:53.255941Z"
        },
        "trusted": true,
        "id": "HGwx3E3oFMX9"
      },
      "execution_count": null,
      "outputs": []
    },
    {
      "cell_type": "markdown",
      "source": [
        "## Kernel Distribution Estimation or KDE plot"
      ],
      "metadata": {
        "id": "uRSLsi5BFMX9"
      }
    },
    {
      "cell_type": "code",
      "source": [
        "goldMedalsBasketball = merged[(merged.Medal == 'Gold')&(merged.Sport == 'Basketball')]\n",
        "goldMedalsSwimming = merged[(merged.Medal == 'Gold')&(merged.Sport == 'Swimming')]\n",
        "sns.kdeplot(data=goldMedalsBasketball[\"Height\"],shade=True,label=\"Basketball\")\n",
        "sns.kdeplot(data=goldMedalsSwimming[\"Height\"],shade=True,label=\"Swimming\")\n",
        "\n",
        "# Displaying the legend\n",
        "plt.legend()"
      ],
      "metadata": {
        "_uuid": "355b930760d3bdbd4d461ef4b98b7c73bcb6daef",
        "execution": {
          "iopub.status.busy": "2023-03-22T01:14:58.139894Z",
          "iopub.execute_input": "2023-03-22T01:14:58.140440Z",
          "iopub.status.idle": "2023-03-22T01:14:58.333484Z",
          "shell.execute_reply.started": "2023-03-22T01:14:58.140334Z",
          "shell.execute_reply": "2023-03-22T01:14:58.332433Z"
        },
        "trusted": true,
        "id": "9gU1FYYQFMX9"
      },
      "execution_count": null,
      "outputs": []
    },
    {
      "cell_type": "markdown",
      "source": [
        "## Pie chart"
      ],
      "metadata": {
        "id": "PZhZk8DmFMX-"
      }
    },
    {
      "cell_type": "code",
      "source": [
        "goldMedals = merged[(merged.Medal == 'Gold')]\n",
        "totalGoldMedals=goldMedals.region.value_counts().reset_index(name='Medal')\n",
        "\n",
        "sorted_data = totalGoldMedals.sort_values('Medal', ascending=False).head(10)\n",
        "values = sorted_data['Medal']\n",
        "labels = sorted_data.index\n",
        "\n",
        "# Assuming totalGoldMedals DataFrame is already defined and contains 'Medal' column\n",
        "totalGoldMedals = totalGoldMedals.set_index('index')\n",
        "\n",
        "# Sorting the DataFrame by the 'Medal' column in descending order\n",
        "sorted_data = totalGoldMedals.sort_values('Medal', ascending=False)\n",
        "\n",
        "# Extracting values and labels for the top 10\n",
        "values_top10 = sorted_data['Medal'].head(10)\n",
        "labels_top10 = sorted_data.index[:10]\n",
        "\n",
        "# Extracting total medals for percentage calculation of all countries\n",
        "total_medals_all = sorted_data['Medal'].sum()\n",
        "\n",
        "# Custom autopct to show percentage of medals of top-10 countries and percentage of medals in regard to ALL countries\n",
        "def custom_autopct(pct):\n",
        "    total_top10 = sum(values_top10)\n",
        "    val = int(round(pct*total_top10/100.0))\n",
        "    percentage_of_all = (val / total_medals_all) * 100\n",
        "    return f\"{pct:.2f}%\\n{val}\\n{percentage_of_all:.2f}%\"\n",
        "\n",
        "# Creating the pie chart for top 10\n",
        "plt.figure(figsize=(10, 8))\n",
        "plt.pie(values_top10, labels=labels_top10, startangle=15, autopct=custom_autopct)\n",
        "plt.axis('equal')  # Equal aspect ratio ensures that pie is drawn as a circle.\n",
        "\n",
        "plt.title('Top 10 Countries: Medals and Their Percentages')\n",
        "\n",
        "# Adding text box\n",
        "explanation_text = 'First row: % of medals of Top-10-Countries.\\nSecond row: number of medals.\\nThird row: % of medals in regard to ALL countries'\n",
        "plt.gcf().text(0.5, 0.02, explanation_text, ha='center', va='bottom', fontsize=8, bbox=dict(facecolor='none', edgecolor='black', boxstyle='round,pad=1'))\n",
        "\n",
        "plt.show()"
      ],
      "metadata": {
        "id": "mbcFA6n2jRUn"
      },
      "execution_count": null,
      "outputs": []
    },
    {
      "cell_type": "markdown",
      "source": [
        "## Bar chart"
      ],
      "metadata": {
        "id": "4i-HCankFMX-"
      }
    },
    {
      "cell_type": "code",
      "source": [
        "import seaborn as sns\n",
        "import matplotlib.pyplot as plt\n",
        "\n",
        "# Assuming totalGoldMedals is your DataFrame and it has been prepared correctly\n",
        "\n",
        "# If 'index' is not a column but the DataFrame's index, you need to reset the index first\n",
        "totalGoldMedals = totalGoldMedals.reset_index()\n",
        "\n",
        "# Plotting\n",
        "plt.figure(figsize=(20, 10))\n",
        "barplot = sns.barplot(x='index', y=\"Medal\", data=totalGoldMedals.head(12)) # no of countries\n",
        "\n",
        "# Annotating each bar with the number of medals\n",
        "for p in barplot.patches:\n",
        "    height = p.get_height()\n",
        "    # Formatting the number with a dot as the thousands separator\n",
        "    barplot.annotate(f'{height:,.0f}'.replace(',', '.'),\n",
        "                     (p.get_x() + p.get_width() / 2., height),\n",
        "                     ha='center', va='center',\n",
        "                     fontsize=9, color='black',\n",
        "                     xytext=(0, 5),\n",
        "                     textcoords='offset points')\n",
        "\n",
        "plt.xticks(rotation=45)\n",
        "plt.title('Top 12 Countries by Medal Count')  # Updated title\n",
        "plt.xlabel('Country')\n",
        "plt.ylabel('Medals')\n",
        "plt.show()\n"
      ],
      "metadata": {
        "id": "s62qwwJRz0VA"
      },
      "execution_count": null,
      "outputs": []
    },
    {
      "cell_type": "code",
      "source": [
        "import matplotlib.pyplot as plt\n",
        "import ipywidgets as widgets\n",
        "from IPython.display import display, clear_output\n",
        "\n",
        "# Ensure totalGoldMedals has a 'Country' or similar column set correctly\n",
        "# If resetting index moves country names into a column, ensure you're using the correct column name\n",
        "\n",
        "def plot_goldmedals(n_countries):\n",
        "    clear_output(wait=True)\n",
        "    display(slider)  # Redisplay the slider\n",
        "    print(\"Move the slider to change the number of countries.\")  # Instruction text\n",
        "\n",
        "    # Ensure the DataFrame is prepared with country names visible as a column, not as an index\n",
        "    data = totalGoldMedals.reset_index().head(n_countries)\n",
        "    plt.figure(figsize=(20, 10))\n",
        "    bars = plt.bar(data['index'], data['Medal'])  # Make sure 'index' here matches the column with country names\n",
        "\n",
        "    total_medals = data['Medal'].sum()\n",
        "\n",
        "    for bar in bars:\n",
        "        height = bar.get_height()\n",
        "        percentage = f\"{(height / total_medals) * 100:.1f}%\"\n",
        "        plt.text(bar.get_x() + bar.get_width() / 2.0, height / 2, f\"{height:,}\".replace(\",\", \".\") + f\"\\n{percentage}\", ha='center', va='center')\n",
        "\n",
        "    plt.xlabel('Country')\n",
        "    plt.ylabel('Gold Medals')\n",
        "    plt.xticks(rotation=45)\n",
        "    plt.title(f'Gold Medals Count by {n_countries} Countries')\n",
        "\n",
        "    plt.show()\n",
        "\n",
        "# Slider widget\n",
        "slider = widgets.IntSlider(\n",
        "    value=8,\n",
        "    min=1,\n",
        "    max=len(totalGoldMedals),  # assuming totalGoldMedals is a DataFrame\n",
        "    step=1,\n",
        "    description='Number of Countries:',\n",
        "    continuous_update=False\n",
        ")\n",
        "\n",
        "def update_plot(change):\n",
        "    plot_medals(change.new)\n",
        "\n",
        "slider.observe(update_plot, names='value')\n",
        "\n",
        "# Initial display\n",
        "plot_goldmedals(slider.value)"
      ],
      "metadata": {
        "id": "R_IfX8pr887m"
      },
      "execution_count": null,
      "outputs": []
    },
    {
      "cell_type": "markdown",
      "source": [
        "## Stacked bar chart"
      ],
      "metadata": {
        "id": "WDPu-LhwFMX-"
      }
    },
    {
      "cell_type": "code",
      "source": [
        "SilverMedals = merged[(merged.Medal == 'Silver')]\n",
        "bronzeMedals = merged[(merged.Medal == 'Bronze')]\n",
        "goldMedals = merged[(merged.Medal == 'Gold')]\n",
        "s=SilverMedals.region.value_counts().reset_index(name='Silver')\n",
        "b=bronzeMedals.region.value_counts().reset_index(name='Bronze')\n",
        "g=goldMedals.region.value_counts().reset_index(name='Gold')\n",
        "medal_data=pd.merge(g,pd.merge(s,b)).head(10)"
      ],
      "metadata": {
        "execution": {
          "iopub.status.busy": "2023-03-22T01:16:15.069779Z",
          "iopub.execute_input": "2023-03-22T01:16:15.070178Z",
          "iopub.status.idle": "2023-03-22T01:16:15.165148Z",
          "shell.execute_reply.started": "2023-03-22T01:16:15.070102Z",
          "shell.execute_reply": "2023-03-22T01:16:15.163857Z"
        },
        "trusted": true,
        "id": "TDnH0snDFMX-"
      },
      "execution_count": null,
      "outputs": []
    },
    {
      "cell_type": "code",
      "source": [
        "import matplotlib.pyplot as plt\n",
        "import pandas as pd\n",
        "import ipywidgets as widgets\n",
        "from IPython.display import display, clear_output\n",
        "\n",
        "# Assuming medal_data DataFrame is already prepared\n",
        "# Example creation for context\n",
        "# medal_data = pd.merge(g, pd.merge(s, b)).head(20)\n",
        "\n",
        "def plot_medals(num_countries):\n",
        "    clear_output(wait=True)\n",
        "    display(slider)\n",
        "\n",
        "    data = medal_data.head(num_countries)\n",
        "    fig, ax = plt.subplots(figsize=(16, 8))\n",
        "    data.plot(x='index', kind='bar', stacked=True, title=f'Distribution of Medals for Top {num_countries} Countries', ax=ax)\n",
        "\n",
        "    total_medals = data[['Gold', 'Silver', 'Bronze']].sum().sum()\n",
        "\n",
        "    for i, row in data.iterrows():\n",
        "        cum_height = 0\n",
        "        for medal_type in ['Gold', 'Silver', 'Bronze']:\n",
        "            value = row[medal_type]\n",
        "            if value > 0:\n",
        "                # Formatting the number with a dot as the thousand separator\n",
        "                formatted_value = f\"{value:,}\".replace(\",\", \".\")\n",
        "                percentage = (value / total_medals) * 100\n",
        "                # Annotation for absolute value and percentage\n",
        "                ax.text(i, cum_height + value / 2, f\"{formatted_value}\\n({percentage:.1f}%)\", ha='center', va='center')\n",
        "                cum_height += value\n",
        "\n",
        "    plt.xticks(rotation=45)\n",
        "    plt.ylabel('Number of Medals')\n",
        "    plt.xlabel('Country')\n",
        "    plt.show()\n",
        "\n",
        "slider = widgets.IntSlider(\n",
        "    value=20,  # Initial number of countries\n",
        "    min=1,  # Minimum number of countries\n",
        "    max=len(medal_data),  # Maximum number of countries\n",
        "    step=1,  # Step size\n",
        "    description='Number of Countries:',\n",
        "    continuous_update=False\n",
        ")\n",
        "\n",
        "def on_slider_change(change):\n",
        "    plot_medals(change.new)\n",
        "\n",
        "slider.observe(on_slider_change, names='value')\n",
        "\n",
        "display(slider)\n",
        "plot_medals(slider.value)"
      ],
      "metadata": {
        "id": "b5pNltrtpBph"
      },
      "execution_count": null,
      "outputs": []
    },
    {
      "cell_type": "markdown",
      "source": [
        "## Line chart"
      ],
      "metadata": {
        "id": "8i28s61yFMX-"
      }
    },
    {
      "cell_type": "code",
      "source": [
        "import seaborn as sns\n",
        "import matplotlib.pyplot as plt\n",
        "\n",
        "womenInOlympics = merged[(merged.Sex == 'F') & (merged.Season == 'Summer')]\n",
        "menInOlympics = merged[(merged.Sex == 'M') & (merged.Season == 'Summer')]\n",
        "\n",
        "\n",
        "# Count of women athletes by year\n",
        "womencount = womenInOlympics.groupby('Year')['Name'].count()\n",
        "\n",
        "# Count of men athletes by year\n",
        "mencount = menInOlympics.groupby('Year')['Name'].count()\n",
        "\n",
        "# Plotting\n",
        "plt.figure(figsize=(10, 6))\n",
        "\n",
        "# Plot for women\n",
        "sns.lineplot(x=womencount.index, y=womencount.values, label='Women', color='blue')\n",
        "\n",
        "# Plot for men\n",
        "sns.lineplot(x=mencount.index, y=mencount.values, label='Men', color='red')\n",
        "\n",
        "plt.title('Number of Athletes per Edition of the Games')\n",
        "plt.xlabel('Year')\n",
        "plt.ylabel('Number of Athletes')\n",
        "plt.legend()\n",
        "\n",
        "plt.show()\n"
      ],
      "metadata": {
        "id": "A_49MEbL_qrW"
      },
      "execution_count": null,
      "outputs": []
    },
    {
      "cell_type": "markdown",
      "source": [
        "## Run Sequence plot"
      ],
      "metadata": {
        "id": "J3ybzDb_FMX-"
      }
    },
    {
      "cell_type": "code",
      "source": [
        "plt.figure(figsize=(8, 6), dpi=80)\n",
        "merged['Height'].plot()  # Assuming 'merged' is a pandas DataFrame with a 'Height' column\n",
        "plt.show()"
      ],
      "metadata": {
        "execution": {
          "iopub.status.busy": "2023-03-22T01:24:17.066927Z",
          "iopub.execute_input": "2023-03-22T01:24:17.067267Z",
          "iopub.status.idle": "2023-03-22T01:24:18.426876Z",
          "shell.execute_reply.started": "2023-03-22T01:24:17.067209Z",
          "shell.execute_reply": "2023-03-22T01:24:18.425886Z"
        },
        "trusted": true,
        "id": "9D1pIdQzFMX-"
      },
      "execution_count": null,
      "outputs": []
    },
    {
      "cell_type": "markdown",
      "source": [
        "## Area plot"
      ],
      "metadata": {
        "id": "6cH-GQmGFMX_"
      }
    },
    {
      "cell_type": "code",
      "source": [
        "womenGold = merged[(merged.Sex == 'F') & (merged.Medal == 'Gold')& (merged.Season == 'Summer')]\n",
        "menGold = merged[(merged.Sex == 'M') & (merged.Medal == 'Gold')& (merged.Season == 'Summer')]\n",
        "womencount=womenGold.groupby(womenGold.Year).count()\n",
        "mencount=menGold.groupby(menGold.Year).count()\n",
        "x=pd.DataFrame(womencount.ID)\n",
        "x=x.rename(columns={\"ID\": \"Women\"})\n",
        "y=pd.DataFrame(mencount.ID)\n",
        "y=y.rename(columns={\"ID\": \"Men\"})\n",
        "NumberOfGold=x.join(y)\n"
      ],
      "metadata": {
        "execution": {
          "iopub.status.busy": "2023-03-22T01:27:44.289113Z",
          "iopub.execute_input": "2023-03-22T01:27:44.289742Z",
          "iopub.status.idle": "2023-03-22T01:27:44.405344Z",
          "shell.execute_reply.started": "2023-03-22T01:27:44.289669Z",
          "shell.execute_reply": "2023-03-22T01:27:44.404653Z"
        },
        "trusted": true,
        "id": "r_M1gow5FMX_"
      },
      "execution_count": null,
      "outputs": []
    },
    {
      "cell_type": "code",
      "source": [
        "NumberOfGold.plot.area(stacked=False,color=['pink','steelblue'],figsize=(18, 8))\n",
        "plt.title('Medals won by woman in comparison with men per edition of the Games')"
      ],
      "metadata": {
        "execution": {
          "iopub.status.busy": "2023-03-22T01:27:47.106785Z",
          "iopub.execute_input": "2023-03-22T01:27:47.107520Z",
          "iopub.status.idle": "2023-03-22T01:27:47.567244Z",
          "shell.execute_reply.started": "2023-03-22T01:27:47.107410Z",
          "shell.execute_reply": "2023-03-22T01:27:47.566211Z"
        },
        "trusted": true,
        "id": "3mKdQ7G-FMX_"
      },
      "execution_count": null,
      "outputs": []
    },
    {
      "cell_type": "markdown",
      "source": [
        "## Box plot"
      ],
      "metadata": {
        "id": "jyX_rh6NFMX_"
      }
    },
    {
      "cell_type": "code",
      "source": [
        "# Set the figure size and DPI\n",
        "plt.figure(figsize=(8, 6), dpi=80)\n",
        "\n",
        "# Assuming 'merged' is your DataFrame containing 'Height', 'Weight', and 'Age' columns\n",
        "merged.boxplot(column=['Height', 'Weight', 'Age'])\n",
        "\n",
        "plt.show()"
      ],
      "metadata": {
        "execution": {
          "iopub.status.busy": "2023-03-22T01:38:00.063149Z",
          "iopub.execute_input": "2023-03-22T01:38:00.063560Z",
          "iopub.status.idle": "2023-03-22T01:38:00.449642Z",
          "shell.execute_reply.started": "2023-03-22T01:38:00.063500Z",
          "shell.execute_reply": "2023-03-22T01:38:00.448057Z"
        },
        "trusted": true,
        "id": "3SSncCvKFMX_"
      },
      "execution_count": null,
      "outputs": []
    },
    {
      "cell_type": "markdown",
      "source": [
        "## Scatter plot"
      ],
      "metadata": {
        "id": "yazqx0bWFMX_"
      }
    },
    {
      "cell_type": "code",
      "source": [
        "sns.scatterplot(x='Height',y='Weight',hue=\"Sex\",data=merged)"
      ],
      "metadata": {
        "execution": {
          "iopub.status.busy": "2023-03-22T01:41:16.761698Z",
          "iopub.execute_input": "2023-03-22T01:41:16.762286Z",
          "iopub.status.idle": "2023-03-22T01:41:30.591417Z",
          "shell.execute_reply.started": "2023-03-22T01:41:16.762170Z",
          "shell.execute_reply": "2023-03-22T01:41:30.590415Z"
        },
        "trusted": true,
        "id": "mtDi0cpwFMX_"
      },
      "execution_count": null,
      "outputs": []
    },
    {
      "cell_type": "markdown",
      "source": [
        "## Lag plot\n"
      ],
      "metadata": {
        "id": "qGQU9BUZFMX_"
      }
    },
    {
      "cell_type": "code",
      "source": [
        "#shuffle dataset\n",
        "merged=merged.sample(frac=1)"
      ],
      "metadata": {
        "id": "rsLUWqkRFMX_"
      },
      "execution_count": null,
      "outputs": []
    },
    {
      "cell_type": "code",
      "source": [
        "plt.figure(figsize=(8, 6), dpi=80)\n",
        "\n",
        "# Create a lag plot for the 'Weight' column with lag=1\n",
        "pd.plotting.lag_plot(merged['Weight'], lag=1)\n",
        "\n",
        "plt.show()"
      ],
      "metadata": {
        "execution": {
          "iopub.status.busy": "2023-03-22T01:45:00.077723Z",
          "iopub.execute_input": "2023-03-22T01:45:00.078141Z",
          "iopub.status.idle": "2023-03-22T01:45:02.500514Z",
          "shell.execute_reply.started": "2023-03-22T01:45:00.078078Z",
          "shell.execute_reply": "2023-03-22T01:45:02.499382Z"
        },
        "trusted": true,
        "id": "l3sAfvqKFMX_"
      },
      "execution_count": null,
      "outputs": []
    },
    {
      "cell_type": "markdown",
      "source": [
        "## Pair plot"
      ],
      "metadata": {
        "id": "9mM2zd9sFMYA"
      }
    },
    {
      "cell_type": "code",
      "source": [
        "sns.pairplot(merged[['Age','Height','Weight']])"
      ],
      "metadata": {
        "execution": {
          "iopub.status.busy": "2023-03-22T01:49:52.634657Z",
          "iopub.execute_input": "2023-03-22T01:49:52.635046Z",
          "iopub.status.idle": "2023-03-22T01:50:07.851668Z",
          "shell.execute_reply.started": "2023-03-22T01:49:52.634991Z",
          "shell.execute_reply": "2023-03-22T01:50:07.850662Z"
        },
        "trusted": true,
        "id": "L0ytDtvAFMYA"
      },
      "execution_count": null,
      "outputs": []
    },
    {
      "cell_type": "markdown",
      "source": [
        "## Heatmap"
      ],
      "metadata": {
        "id": "poXtsaiiFMYA"
      }
    },
    {
      "cell_type": "code",
      "source": [
        "sns.heatmap(merged[['Age','Height','Weight']].corr(), cmap=\"YlGnBu\", annot=True)"
      ],
      "metadata": {
        "execution": {
          "iopub.status.busy": "2023-03-22T01:50:07.853261Z",
          "iopub.execute_input": "2023-03-22T01:50:07.853619Z",
          "iopub.status.idle": "2023-03-22T01:50:08.148221Z",
          "shell.execute_reply.started": "2023-03-22T01:50:07.853544Z",
          "shell.execute_reply": "2023-03-22T01:50:08.146938Z"
        },
        "trusted": true,
        "id": "hvJjh38wFMYA"
      },
      "execution_count": null,
      "outputs": []
    },
    {
      "cell_type": "markdown",
      "source": [
        "## Which country has most and least number of Women gold medalist."
      ],
      "metadata": {
        "id": "R_NLT3xNFMYA"
      }
    },
    {
      "cell_type": "code",
      "source": [
        "womenGold = merged[(merged.Sex == 'F') & (merged.Medal == 'Gold')]\n",
        "womenGold=womenGold.region.value_counts().reset_index(name='Medal')"
      ],
      "metadata": {
        "execution": {
          "iopub.status.busy": "2023-03-22T02:00:16.473399Z",
          "iopub.execute_input": "2023-03-22T02:00:16.473851Z",
          "iopub.status.idle": "2023-03-22T02:00:16.523680Z",
          "shell.execute_reply.started": "2023-03-22T02:00:16.473771Z",
          "shell.execute_reply": "2023-03-22T02:00:16.522671Z"
        },
        "trusted": true,
        "id": "0JMZa1sCFMYA"
      },
      "execution_count": null,
      "outputs": []
    },
    {
      "cell_type": "code",
      "source": [
        "plt.figure(figsize=(20, 10))\n",
        "sns.barplot(x='index',y=\"Medal\",data=womenGold.head(20))\n",
        "plt.title('Countries with most number of women gold medalsits ')"
      ],
      "metadata": {
        "execution": {
          "iopub.status.busy": "2023-03-22T02:03:00.843517Z",
          "iopub.execute_input": "2023-03-22T02:03:00.843854Z",
          "iopub.status.idle": "2023-03-22T02:03:01.409513Z",
          "shell.execute_reply.started": "2023-03-22T02:03:00.843802Z",
          "shell.execute_reply": "2023-03-22T02:03:01.408447Z"
        },
        "trusted": true,
        "id": "-F68FHjoFMYA"
      },
      "execution_count": null,
      "outputs": []
    },
    {
      "cell_type": "code",
      "source": [
        "# Example list of countries to highlight\n",
        "highlight_countries = ['CountryName1', 'CountryName2']\n",
        "\n",
        "def plot_goldmedals(n_countries):\n",
        "    clear_output(wait=True)\n",
        "    display(slider)  # Redisplay the slider\n",
        "    print(\"Move the slider to change the number of countries.\")  # Instruction text\n",
        "\n",
        "    data = totalGoldMedals.reset_index().head(n_countries)\n",
        "    plt.figure(figsize=(20, 10))\n",
        "\n",
        "    # Check each country and decide the color\n",
        "    colors = ['red' if country in highlight_countries else 'blue' for country in data['index']]\n",
        "\n",
        "    bars = plt.bar(data['index'], data['Medal'], color=colors)  # Use colors list here\n",
        "\n",
        "    total_medals = data['Medal'].sum()\n",
        "\n",
        "    for bar in bars:\n",
        "        height = bar.get_height()\n",
        "        percentage = f\"{(height / total_medals) * 100:.1f}%\"\n",
        "        plt.text(bar.get_x() + bar.get_width() / 2.0, height / 2, f\"{height:,}\".replace(\",\", \".\") + f\"\\n{percentage}\", ha='center', va='center')\n",
        "\n",
        "    plt.xlabel('Country')\n",
        "    plt.ylabel('Gold Medals')\n",
        "    plt.xticks(rotation=45)\n",
        "    plt.title(f'Gold Medals Count by {n_countries} Countries')\n",
        "\n",
        "    plt.show()\n",
        "\n",
        "# Adjusting slider appearance\n",
        "slider_style = {'description_width': 'initial', 'handle_color': 'lightblue'}\n",
        "slider = widgets.IntSlider(\n",
        "    value=8,\n",
        "    min=1,\n",
        "    max=20,  # Adjust according to your DataFrame\n",
        "    step=1,\n",
        "    description='Number of Countries:',\n",
        "    continuous_update=False,\n",
        "    style=slider_style,\n",
        "    layout=widgets.Layout(width='50%')  # Making the slider larger\n",
        ")\n",
        "\n",
        "def update_plot(change):\n",
        "    plot_goldmedals(change.new)\n",
        "\n",
        "slider.observe(update_plot, names='value')\n",
        "\n",
        "# Initial display\n",
        "plot_goldmedals(slider.value)"
      ],
      "metadata": {
        "id": "PTFWcX2mD0bZ"
      },
      "execution_count": null,
      "outputs": []
    },
    {
      "cell_type": "code",
      "source": [
        "plt.figure(figsize=(20, 10))\n",
        "sns.barplot(x='index',y=\"Medal\",data=womenGold.tail(20))\n",
        "plt.title('Countries with least number of women gold medalsits ')"
      ],
      "metadata": {
        "execution": {
          "iopub.status.busy": "2023-03-22T02:02:43.367610Z",
          "iopub.execute_input": "2023-03-22T02:02:43.367944Z",
          "iopub.status.idle": "2023-03-22T02:02:43.920902Z",
          "shell.execute_reply.started": "2023-03-22T02:02:43.367894Z",
          "shell.execute_reply": "2023-03-22T02:02:43.919640Z"
        },
        "trusted": true,
        "id": "r4SDLm8vFMYA"
      },
      "execution_count": null,
      "outputs": []
    }
  ]
}