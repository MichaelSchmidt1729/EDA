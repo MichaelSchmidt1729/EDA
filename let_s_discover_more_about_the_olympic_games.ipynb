{
  "metadata": {
    "kernelspec": {
      "display_name": "Python 3",
      "language": "python",
      "name": "python3"
    },
    "language_info": {
      "name": "python",
      "version": "3.6.6",
      "mimetype": "text/x-python",
      "codemirror_mode": {
        "name": "ipython",
        "version": 3
      },
      "pygments_lexer": "ipython3",
      "nbconvert_exporter": "python",
      "file_extension": ".py"
    },
    "colab": {
      "provenance": [],
      "include_colab_link": true
    },
    "widgets": {
      "application/vnd.jupyter.widget-state+json": {
        "d2b56cc8c70e4590a9eadb20eb3f6d52": {
          "model_module": "@jupyter-widgets/controls",
          "model_name": "IntSliderModel",
          "model_module_version": "1.5.0",
          "state": {
            "_dom_classes": [],
            "_model_module": "@jupyter-widgets/controls",
            "_model_module_version": "1.5.0",
            "_model_name": "IntSliderModel",
            "_view_count": null,
            "_view_module": "@jupyter-widgets/controls",
            "_view_module_version": "1.5.0",
            "_view_name": "IntSliderView",
            "continuous_update": false,
            "description": "Number of Countries:",
            "description_tooltip": null,
            "disabled": false,
            "layout": "IPY_MODEL_4487e474c3d64b249e43aaf1ba78f78a",
            "max": 20,
            "min": 1,
            "orientation": "horizontal",
            "readout": true,
            "readout_format": "d",
            "step": 1,
            "style": "IPY_MODEL_c895981972864ead9aebc6b7046cf10b",
            "value": 10
          }
        },
        "4487e474c3d64b249e43aaf1ba78f78a": {
          "model_module": "@jupyter-widgets/base",
          "model_name": "LayoutModel",
          "model_module_version": "1.2.0",
          "state": {
            "_model_module": "@jupyter-widgets/base",
            "_model_module_version": "1.2.0",
            "_model_name": "LayoutModel",
            "_view_count": null,
            "_view_module": "@jupyter-widgets/base",
            "_view_module_version": "1.2.0",
            "_view_name": "LayoutView",
            "align_content": null,
            "align_items": null,
            "align_self": null,
            "border": null,
            "bottom": null,
            "display": null,
            "flex": null,
            "flex_flow": null,
            "grid_area": null,
            "grid_auto_columns": null,
            "grid_auto_flow": null,
            "grid_auto_rows": null,
            "grid_column": null,
            "grid_gap": null,
            "grid_row": null,
            "grid_template_areas": null,
            "grid_template_columns": null,
            "grid_template_rows": null,
            "height": null,
            "justify_content": null,
            "justify_items": null,
            "left": null,
            "margin": null,
            "max_height": null,
            "max_width": null,
            "min_height": null,
            "min_width": null,
            "object_fit": null,
            "object_position": null,
            "order": null,
            "overflow": null,
            "overflow_x": null,
            "overflow_y": null,
            "padding": null,
            "right": null,
            "top": null,
            "visibility": null,
            "width": null
          }
        },
        "c895981972864ead9aebc6b7046cf10b": {
          "model_module": "@jupyter-widgets/controls",
          "model_name": "SliderStyleModel",
          "model_module_version": "1.5.0",
          "state": {
            "_model_module": "@jupyter-widgets/controls",
            "_model_module_version": "1.5.0",
            "_model_name": "SliderStyleModel",
            "_view_count": null,
            "_view_module": "@jupyter-widgets/base",
            "_view_module_version": "1.2.0",
            "_view_name": "StyleView",
            "description_width": "",
            "handle_color": null
          }
        },
        "1e869c1048d34e90a5347aa9bb1717ab": {
          "model_module": "@jupyter-widgets/controls",
          "model_name": "IntSliderModel",
          "model_module_version": "1.5.0",
          "state": {
            "_dom_classes": [],
            "_model_module": "@jupyter-widgets/controls",
            "_model_module_version": "1.5.0",
            "_model_name": "IntSliderModel",
            "_view_count": null,
            "_view_module": "@jupyter-widgets/controls",
            "_view_module_version": "1.5.0",
            "_view_name": "IntSliderView",
            "continuous_update": false,
            "description": "Number of Countries:",
            "description_tooltip": null,
            "disabled": false,
            "layout": "IPY_MODEL_3a18a4ec062f4c04870c635601408b0d",
            "max": 20,
            "min": 1,
            "orientation": "horizontal",
            "readout": true,
            "readout_format": "d",
            "step": 1,
            "style": "IPY_MODEL_86e0d357b13f47eab3a5608fad72038e",
            "value": 20
          }
        },
        "3a18a4ec062f4c04870c635601408b0d": {
          "model_module": "@jupyter-widgets/base",
          "model_name": "LayoutModel",
          "model_module_version": "1.2.0",
          "state": {
            "_model_module": "@jupyter-widgets/base",
            "_model_module_version": "1.2.0",
            "_model_name": "LayoutModel",
            "_view_count": null,
            "_view_module": "@jupyter-widgets/base",
            "_view_module_version": "1.2.0",
            "_view_name": "LayoutView",
            "align_content": null,
            "align_items": null,
            "align_self": null,
            "border": null,
            "bottom": null,
            "display": null,
            "flex": null,
            "flex_flow": null,
            "grid_area": null,
            "grid_auto_columns": null,
            "grid_auto_flow": null,
            "grid_auto_rows": null,
            "grid_column": null,
            "grid_gap": null,
            "grid_row": null,
            "grid_template_areas": null,
            "grid_template_columns": null,
            "grid_template_rows": null,
            "height": null,
            "justify_content": null,
            "justify_items": null,
            "left": null,
            "margin": null,
            "max_height": null,
            "max_width": null,
            "min_height": null,
            "min_width": null,
            "object_fit": null,
            "object_position": null,
            "order": null,
            "overflow": null,
            "overflow_x": null,
            "overflow_y": null,
            "padding": null,
            "right": null,
            "top": null,
            "visibility": null,
            "width": null
          }
        },
        "86e0d357b13f47eab3a5608fad72038e": {
          "model_module": "@jupyter-widgets/controls",
          "model_name": "SliderStyleModel",
          "model_module_version": "1.5.0",
          "state": {
            "_model_module": "@jupyter-widgets/controls",
            "_model_module_version": "1.5.0",
            "_model_name": "SliderStyleModel",
            "_view_count": null,
            "_view_module": "@jupyter-widgets/base",
            "_view_module_version": "1.2.0",
            "_view_name": "StyleView",
            "description_width": "",
            "handle_color": null
          }
        }
      }
    }
  },
  "nbformat_minor": 0,
  "nbformat": 4,
  "cells": [
    {
      "cell_type": "markdown",
      "metadata": {
        "id": "view-in-github",
        "colab_type": "text"
      },
      "source": [
        "<a href=\"https://colab.research.google.com/github/MichaelSchmidt1729/EDA/blob/main/let_s_discover_more_about_the_olympic_games.ipynb\" target=\"_parent\"><img src=\"https://colab.research.google.com/assets/colab-badge.svg\" alt=\"Open In Colab\"/></a>"
      ]
    },
    {
      "cell_type": "markdown",
      "source": [
        "# Exploratory Data Analysis for Tabular Data - Example Notebook\n",
        "\n",
        "We are using dataset available on Kaggle by the name \"120 years of Olympic history: athletes and results\" .This is a historical dataset on the modern Olympic Games, including all the Games from Athens 1896 to Rio 2016. The authors have scraped this data from www.sports-reference.com in May 2018. The R code they used to scrape and wrangle the data is on GitHub and I recommend to check their [kaggle kernel](https://www.kaggle.com/code/heesoo37/olympic-history-data-a-thorough-analysis/report).\n",
        "\n",
        "The dataset can be found at this [link]()\n",
        "\n",
        "The file athlete_events.csv contains 271116 rows and 15 columns. Each row corresponds to an individual athlete competing in an individual Olympic event (athlete-events).\n"
      ],
      "metadata": {
        "_uuid": "522ead0f425c454ccd61381ea367edd8612d2a9b",
        "id": "rIiYYt53FMX2"
      }
    },
    {
      "cell_type": "markdown",
      "source": [
        "# Import the required libraries"
      ],
      "metadata": {
        "id": "yAhHJosBFMX4"
      }
    },
    {
      "cell_type": "code",
      "source": [
        "import numpy as np\n",
        "import pandas as pd\n",
        "import seaborn as sns\n",
        "from matplotlib import pyplot as plt\n",
        "import statsmodels.graphics.gofplots as sm\n",
        "from sklearn.preprocessing import PowerTransformer\n",
        "plt.figure(figsize=(20, 10))\n",
        "sns.set_style('darkgrid')"
      ],
      "metadata": {
        "_uuid": "8f2839f25d086af736a60e9eeb907d3b93b6e0e5",
        "_cell_guid": "b1076dfc-b9ad-4769-8c92-a6c4dae69d19",
        "execution": {
          "iopub.status.busy": "2023-03-22T00:47:20.762502Z",
          "iopub.execute_input": "2023-03-22T00:47:20.762959Z",
          "iopub.status.idle": "2023-03-22T00:47:20.777781Z",
          "shell.execute_reply.started": "2023-03-22T00:47:20.762899Z",
          "shell.execute_reply": "2023-03-22T00:47:20.776351Z"
        },
        "trusted": true,
        "id": "NV1Sn8G-FMX4",
        "outputId": "9be2d7a5-1de1-4c26-a515-5551c9122f82",
        "colab": {
          "base_uri": "https://localhost:8080/",
          "height": 35
        }
      },
      "execution_count": 118,
      "outputs": [
        {
          "output_type": "display_data",
          "data": {
            "text/plain": [
              "<Figure size 2000x1000 with 0 Axes>"
            ]
          },
          "metadata": {}
        }
      ]
    },
    {
      "cell_type": "markdown",
      "source": [
        "# Load the data"
      ],
      "metadata": {
        "id": "ZeKyn8iQFMX5"
      }
    },
    {
      "cell_type": "code",
      "source": [
        "from google.colab import drive\n",
        "drive.mount('/content/drive')"
      ],
      "metadata": {
        "colab": {
          "base_uri": "https://localhost:8080/"
        },
        "id": "8U-pPp_tMA0H",
        "outputId": "94e05f1a-717d-4c47-8d9d-e2e33e2757eb"
      },
      "execution_count": 119,
      "outputs": [
        {
          "output_type": "stream",
          "name": "stdout",
          "text": [
            "Drive already mounted at /content/drive; to attempt to forcibly remount, call drive.mount(\"/content/drive\", force_remount=True).\n"
          ]
        }
      ]
    },
    {
      "cell_type": "code",
      "source": [
        "data = pd.read_csv('/content/drive/MyDrive/datasets/athlete_events.csv')\n",
        "regions = pd.read_csv('/content/drive/MyDrive/datasets/noc_regions.csv')"
      ],
      "metadata": {
        "_cell_guid": "79c7e3d0-c299-4dcb-8224-4455121ee9b0",
        "_uuid": "d629ff2d2480ee46fbb7e2d37f6b5fab8052498a",
        "execution": {
          "iopub.status.busy": "2023-03-22T01:13:21.717277Z",
          "iopub.execute_input": "2023-03-22T01:13:21.717697Z",
          "iopub.status.idle": "2023-03-22T01:13:22.485425Z",
          "shell.execute_reply.started": "2023-03-22T01:13:21.717621Z",
          "shell.execute_reply": "2023-03-22T01:13:22.484557Z"
        },
        "trusted": true,
        "id": "2bGYyZybFMX6"
      },
      "execution_count": 120,
      "outputs": []
    },
    {
      "cell_type": "markdown",
      "source": [
        "# Inspecting various attributes of imported data\n",
        "\n",
        "Here we are basically just trying to get hang of our dataset before starting a more in depth analysis. If you can recall from the article, we are also computing the Descriptive statistics for the dataset."
      ],
      "metadata": {
        "id": "jfFqww_EFMX6"
      }
    },
    {
      "cell_type": "code",
      "source": [
        "data.head(5)"
      ],
      "metadata": {
        "_uuid": "ae58e68e8302eb0bb3df862f6311a720f1c26865",
        "execution": {
          "iopub.status.busy": "2023-03-22T01:11:07.566710Z",
          "iopub.execute_input": "2023-03-22T01:11:07.567387Z",
          "iopub.status.idle": "2023-03-22T01:11:07.612691Z",
          "shell.execute_reply.started": "2023-03-22T01:11:07.567327Z",
          "shell.execute_reply": "2023-03-22T01:11:07.611904Z"
        },
        "trusted": true,
        "id": "S_xmthJKFMX6",
        "outputId": "6ef8bb4f-aa32-431c-8ce9-5ebf4ce99ee3",
        "colab": {
          "base_uri": "https://localhost:8080/",
          "height": 206
        }
      },
      "execution_count": 121,
      "outputs": [
        {
          "output_type": "execute_result",
          "data": {
            "text/plain": [
              "   ID                      Name Sex   Age  Height  Weight            Team  \\\n",
              "0   1                 A Dijiang   M  24.0   180.0    80.0           China   \n",
              "1   2                  A Lamusi   M  23.0   170.0    60.0           China   \n",
              "2   3       Gunnar Nielsen Aaby   M  24.0     NaN     NaN         Denmark   \n",
              "3   4      Edgar Lindenau Aabye   M  34.0     NaN     NaN  Denmark/Sweden   \n",
              "4   5  Christine Jacoba Aaftink   F  21.0   185.0    82.0     Netherlands   \n",
              "\n",
              "   NOC        Games  Year  Season       City          Sport  \\\n",
              "0  CHN  1992 Summer  1992  Summer  Barcelona     Basketball   \n",
              "1  CHN  2012 Summer  2012  Summer     London           Judo   \n",
              "2  DEN  1920 Summer  1920  Summer  Antwerpen       Football   \n",
              "3  DEN  1900 Summer  1900  Summer      Paris     Tug-Of-War   \n",
              "4  NED  1988 Winter  1988  Winter    Calgary  Speed Skating   \n",
              "\n",
              "                              Event Medal  \n",
              "0       Basketball Men's Basketball   NaN  \n",
              "1      Judo Men's Extra-Lightweight   NaN  \n",
              "2           Football Men's Football   NaN  \n",
              "3       Tug-Of-War Men's Tug-Of-War  Gold  \n",
              "4  Speed Skating Women's 500 metres   NaN  "
            ],
            "text/html": [
              "\n",
              "  <div id=\"df-6a741503-05a6-452b-96ab-329aff029553\" class=\"colab-df-container\">\n",
              "    <div>\n",
              "<style scoped>\n",
              "    .dataframe tbody tr th:only-of-type {\n",
              "        vertical-align: middle;\n",
              "    }\n",
              "\n",
              "    .dataframe tbody tr th {\n",
              "        vertical-align: top;\n",
              "    }\n",
              "\n",
              "    .dataframe thead th {\n",
              "        text-align: right;\n",
              "    }\n",
              "</style>\n",
              "<table border=\"1\" class=\"dataframe\">\n",
              "  <thead>\n",
              "    <tr style=\"text-align: right;\">\n",
              "      <th></th>\n",
              "      <th>ID</th>\n",
              "      <th>Name</th>\n",
              "      <th>Sex</th>\n",
              "      <th>Age</th>\n",
              "      <th>Height</th>\n",
              "      <th>Weight</th>\n",
              "      <th>Team</th>\n",
              "      <th>NOC</th>\n",
              "      <th>Games</th>\n",
              "      <th>Year</th>\n",
              "      <th>Season</th>\n",
              "      <th>City</th>\n",
              "      <th>Sport</th>\n",
              "      <th>Event</th>\n",
              "      <th>Medal</th>\n",
              "    </tr>\n",
              "  </thead>\n",
              "  <tbody>\n",
              "    <tr>\n",
              "      <th>0</th>\n",
              "      <td>1</td>\n",
              "      <td>A Dijiang</td>\n",
              "      <td>M</td>\n",
              "      <td>24.0</td>\n",
              "      <td>180.0</td>\n",
              "      <td>80.0</td>\n",
              "      <td>China</td>\n",
              "      <td>CHN</td>\n",
              "      <td>1992 Summer</td>\n",
              "      <td>1992</td>\n",
              "      <td>Summer</td>\n",
              "      <td>Barcelona</td>\n",
              "      <td>Basketball</td>\n",
              "      <td>Basketball Men's Basketball</td>\n",
              "      <td>NaN</td>\n",
              "    </tr>\n",
              "    <tr>\n",
              "      <th>1</th>\n",
              "      <td>2</td>\n",
              "      <td>A Lamusi</td>\n",
              "      <td>M</td>\n",
              "      <td>23.0</td>\n",
              "      <td>170.0</td>\n",
              "      <td>60.0</td>\n",
              "      <td>China</td>\n",
              "      <td>CHN</td>\n",
              "      <td>2012 Summer</td>\n",
              "      <td>2012</td>\n",
              "      <td>Summer</td>\n",
              "      <td>London</td>\n",
              "      <td>Judo</td>\n",
              "      <td>Judo Men's Extra-Lightweight</td>\n",
              "      <td>NaN</td>\n",
              "    </tr>\n",
              "    <tr>\n",
              "      <th>2</th>\n",
              "      <td>3</td>\n",
              "      <td>Gunnar Nielsen Aaby</td>\n",
              "      <td>M</td>\n",
              "      <td>24.0</td>\n",
              "      <td>NaN</td>\n",
              "      <td>NaN</td>\n",
              "      <td>Denmark</td>\n",
              "      <td>DEN</td>\n",
              "      <td>1920 Summer</td>\n",
              "      <td>1920</td>\n",
              "      <td>Summer</td>\n",
              "      <td>Antwerpen</td>\n",
              "      <td>Football</td>\n",
              "      <td>Football Men's Football</td>\n",
              "      <td>NaN</td>\n",
              "    </tr>\n",
              "    <tr>\n",
              "      <th>3</th>\n",
              "      <td>4</td>\n",
              "      <td>Edgar Lindenau Aabye</td>\n",
              "      <td>M</td>\n",
              "      <td>34.0</td>\n",
              "      <td>NaN</td>\n",
              "      <td>NaN</td>\n",
              "      <td>Denmark/Sweden</td>\n",
              "      <td>DEN</td>\n",
              "      <td>1900 Summer</td>\n",
              "      <td>1900</td>\n",
              "      <td>Summer</td>\n",
              "      <td>Paris</td>\n",
              "      <td>Tug-Of-War</td>\n",
              "      <td>Tug-Of-War Men's Tug-Of-War</td>\n",
              "      <td>Gold</td>\n",
              "    </tr>\n",
              "    <tr>\n",
              "      <th>4</th>\n",
              "      <td>5</td>\n",
              "      <td>Christine Jacoba Aaftink</td>\n",
              "      <td>F</td>\n",
              "      <td>21.0</td>\n",
              "      <td>185.0</td>\n",
              "      <td>82.0</td>\n",
              "      <td>Netherlands</td>\n",
              "      <td>NED</td>\n",
              "      <td>1988 Winter</td>\n",
              "      <td>1988</td>\n",
              "      <td>Winter</td>\n",
              "      <td>Calgary</td>\n",
              "      <td>Speed Skating</td>\n",
              "      <td>Speed Skating Women's 500 metres</td>\n",
              "      <td>NaN</td>\n",
              "    </tr>\n",
              "  </tbody>\n",
              "</table>\n",
              "</div>\n",
              "    <div class=\"colab-df-buttons\">\n",
              "\n",
              "  <div class=\"colab-df-container\">\n",
              "    <button class=\"colab-df-convert\" onclick=\"convertToInteractive('df-6a741503-05a6-452b-96ab-329aff029553')\"\n",
              "            title=\"Convert this dataframe to an interactive table.\"\n",
              "            style=\"display:none;\">\n",
              "\n",
              "  <svg xmlns=\"http://www.w3.org/2000/svg\" height=\"24px\" viewBox=\"0 -960 960 960\">\n",
              "    <path d=\"M120-120v-720h720v720H120Zm60-500h600v-160H180v160Zm220 220h160v-160H400v160Zm0 220h160v-160H400v160ZM180-400h160v-160H180v160Zm440 0h160v-160H620v160ZM180-180h160v-160H180v160Zm440 0h160v-160H620v160Z\"/>\n",
              "  </svg>\n",
              "    </button>\n",
              "\n",
              "  <style>\n",
              "    .colab-df-container {\n",
              "      display:flex;\n",
              "      gap: 12px;\n",
              "    }\n",
              "\n",
              "    .colab-df-convert {\n",
              "      background-color: #E8F0FE;\n",
              "      border: none;\n",
              "      border-radius: 50%;\n",
              "      cursor: pointer;\n",
              "      display: none;\n",
              "      fill: #1967D2;\n",
              "      height: 32px;\n",
              "      padding: 0 0 0 0;\n",
              "      width: 32px;\n",
              "    }\n",
              "\n",
              "    .colab-df-convert:hover {\n",
              "      background-color: #E2EBFA;\n",
              "      box-shadow: 0px 1px 2px rgba(60, 64, 67, 0.3), 0px 1px 3px 1px rgba(60, 64, 67, 0.15);\n",
              "      fill: #174EA6;\n",
              "    }\n",
              "\n",
              "    .colab-df-buttons div {\n",
              "      margin-bottom: 4px;\n",
              "    }\n",
              "\n",
              "    [theme=dark] .colab-df-convert {\n",
              "      background-color: #3B4455;\n",
              "      fill: #D2E3FC;\n",
              "    }\n",
              "\n",
              "    [theme=dark] .colab-df-convert:hover {\n",
              "      background-color: #434B5C;\n",
              "      box-shadow: 0px 1px 3px 1px rgba(0, 0, 0, 0.15);\n",
              "      filter: drop-shadow(0px 1px 2px rgba(0, 0, 0, 0.3));\n",
              "      fill: #FFFFFF;\n",
              "    }\n",
              "  </style>\n",
              "\n",
              "    <script>\n",
              "      const buttonEl =\n",
              "        document.querySelector('#df-6a741503-05a6-452b-96ab-329aff029553 button.colab-df-convert');\n",
              "      buttonEl.style.display =\n",
              "        google.colab.kernel.accessAllowed ? 'block' : 'none';\n",
              "\n",
              "      async function convertToInteractive(key) {\n",
              "        const element = document.querySelector('#df-6a741503-05a6-452b-96ab-329aff029553');\n",
              "        const dataTable =\n",
              "          await google.colab.kernel.invokeFunction('convertToInteractive',\n",
              "                                                    [key], {});\n",
              "        if (!dataTable) return;\n",
              "\n",
              "        const docLinkHtml = 'Like what you see? Visit the ' +\n",
              "          '<a target=\"_blank\" href=https://colab.research.google.com/notebooks/data_table.ipynb>data table notebook</a>'\n",
              "          + ' to learn more about interactive tables.';\n",
              "        element.innerHTML = '';\n",
              "        dataTable['output_type'] = 'display_data';\n",
              "        await google.colab.output.renderOutput(dataTable, element);\n",
              "        const docLink = document.createElement('div');\n",
              "        docLink.innerHTML = docLinkHtml;\n",
              "        element.appendChild(docLink);\n",
              "      }\n",
              "    </script>\n",
              "  </div>\n",
              "\n",
              "\n",
              "<div id=\"df-71b71ca1-5216-4770-94af-632b14b4b261\">\n",
              "  <button class=\"colab-df-quickchart\" onclick=\"quickchart('df-71b71ca1-5216-4770-94af-632b14b4b261')\"\n",
              "            title=\"Suggest charts\"\n",
              "            style=\"display:none;\">\n",
              "\n",
              "<svg xmlns=\"http://www.w3.org/2000/svg\" height=\"24px\"viewBox=\"0 0 24 24\"\n",
              "     width=\"24px\">\n",
              "    <g>\n",
              "        <path d=\"M19 3H5c-1.1 0-2 .9-2 2v14c0 1.1.9 2 2 2h14c1.1 0 2-.9 2-2V5c0-1.1-.9-2-2-2zM9 17H7v-7h2v7zm4 0h-2V7h2v10zm4 0h-2v-4h2v4z\"/>\n",
              "    </g>\n",
              "</svg>\n",
              "  </button>\n",
              "\n",
              "<style>\n",
              "  .colab-df-quickchart {\n",
              "      --bg-color: #E8F0FE;\n",
              "      --fill-color: #1967D2;\n",
              "      --hover-bg-color: #E2EBFA;\n",
              "      --hover-fill-color: #174EA6;\n",
              "      --disabled-fill-color: #AAA;\n",
              "      --disabled-bg-color: #DDD;\n",
              "  }\n",
              "\n",
              "  [theme=dark] .colab-df-quickchart {\n",
              "      --bg-color: #3B4455;\n",
              "      --fill-color: #D2E3FC;\n",
              "      --hover-bg-color: #434B5C;\n",
              "      --hover-fill-color: #FFFFFF;\n",
              "      --disabled-bg-color: #3B4455;\n",
              "      --disabled-fill-color: #666;\n",
              "  }\n",
              "\n",
              "  .colab-df-quickchart {\n",
              "    background-color: var(--bg-color);\n",
              "    border: none;\n",
              "    border-radius: 50%;\n",
              "    cursor: pointer;\n",
              "    display: none;\n",
              "    fill: var(--fill-color);\n",
              "    height: 32px;\n",
              "    padding: 0;\n",
              "    width: 32px;\n",
              "  }\n",
              "\n",
              "  .colab-df-quickchart:hover {\n",
              "    background-color: var(--hover-bg-color);\n",
              "    box-shadow: 0 1px 2px rgba(60, 64, 67, 0.3), 0 1px 3px 1px rgba(60, 64, 67, 0.15);\n",
              "    fill: var(--button-hover-fill-color);\n",
              "  }\n",
              "\n",
              "  .colab-df-quickchart-complete:disabled,\n",
              "  .colab-df-quickchart-complete:disabled:hover {\n",
              "    background-color: var(--disabled-bg-color);\n",
              "    fill: var(--disabled-fill-color);\n",
              "    box-shadow: none;\n",
              "  }\n",
              "\n",
              "  .colab-df-spinner {\n",
              "    border: 2px solid var(--fill-color);\n",
              "    border-color: transparent;\n",
              "    border-bottom-color: var(--fill-color);\n",
              "    animation:\n",
              "      spin 1s steps(1) infinite;\n",
              "  }\n",
              "\n",
              "  @keyframes spin {\n",
              "    0% {\n",
              "      border-color: transparent;\n",
              "      border-bottom-color: var(--fill-color);\n",
              "      border-left-color: var(--fill-color);\n",
              "    }\n",
              "    20% {\n",
              "      border-color: transparent;\n",
              "      border-left-color: var(--fill-color);\n",
              "      border-top-color: var(--fill-color);\n",
              "    }\n",
              "    30% {\n",
              "      border-color: transparent;\n",
              "      border-left-color: var(--fill-color);\n",
              "      border-top-color: var(--fill-color);\n",
              "      border-right-color: var(--fill-color);\n",
              "    }\n",
              "    40% {\n",
              "      border-color: transparent;\n",
              "      border-right-color: var(--fill-color);\n",
              "      border-top-color: var(--fill-color);\n",
              "    }\n",
              "    60% {\n",
              "      border-color: transparent;\n",
              "      border-right-color: var(--fill-color);\n",
              "    }\n",
              "    80% {\n",
              "      border-color: transparent;\n",
              "      border-right-color: var(--fill-color);\n",
              "      border-bottom-color: var(--fill-color);\n",
              "    }\n",
              "    90% {\n",
              "      border-color: transparent;\n",
              "      border-bottom-color: var(--fill-color);\n",
              "    }\n",
              "  }\n",
              "</style>\n",
              "\n",
              "  <script>\n",
              "    async function quickchart(key) {\n",
              "      const quickchartButtonEl =\n",
              "        document.querySelector('#' + key + ' button');\n",
              "      quickchartButtonEl.disabled = true;  // To prevent multiple clicks.\n",
              "      quickchartButtonEl.classList.add('colab-df-spinner');\n",
              "      try {\n",
              "        const charts = await google.colab.kernel.invokeFunction(\n",
              "            'suggestCharts', [key], {});\n",
              "      } catch (error) {\n",
              "        console.error('Error during call to suggestCharts:', error);\n",
              "      }\n",
              "      quickchartButtonEl.classList.remove('colab-df-spinner');\n",
              "      quickchartButtonEl.classList.add('colab-df-quickchart-complete');\n",
              "    }\n",
              "    (() => {\n",
              "      let quickchartButtonEl =\n",
              "        document.querySelector('#df-71b71ca1-5216-4770-94af-632b14b4b261 button');\n",
              "      quickchartButtonEl.style.display =\n",
              "        google.colab.kernel.accessAllowed ? 'block' : 'none';\n",
              "    })();\n",
              "  </script>\n",
              "</div>\n",
              "    </div>\n",
              "  </div>\n"
            ],
            "application/vnd.google.colaboratory.intrinsic+json": {
              "type": "dataframe",
              "variable_name": "data"
            }
          },
          "metadata": {},
          "execution_count": 121
        }
      ]
    },
    {
      "cell_type": "code",
      "source": [
        "#Check for Nan Values and deal with them\n",
        "for col in data.columns:\n",
        "    num_nan = data[col].isna().sum()\n",
        "    pct_nan = (num_nan / len(data)) * 100\n",
        "    print(f\"Column {col} has {num_nan} NaN values ({pct_nan:.2f}%).\")"
      ],
      "metadata": {
        "execution": {
          "iopub.status.busy": "2023-03-22T01:13:27.072153Z",
          "iopub.execute_input": "2023-03-22T01:13:27.072547Z",
          "iopub.status.idle": "2023-03-22T01:13:27.273302Z",
          "shell.execute_reply.started": "2023-03-22T01:13:27.072492Z",
          "shell.execute_reply": "2023-03-22T01:13:27.272453Z"
        },
        "trusted": true,
        "id": "ytgWBc6wFMX6",
        "outputId": "77da0edd-e911-4cd4-f2d9-c769c5a07518",
        "colab": {
          "base_uri": "https://localhost:8080/"
        }
      },
      "execution_count": 122,
      "outputs": [
        {
          "output_type": "stream",
          "name": "stdout",
          "text": [
            "Column ID has 0 NaN values (0.00%).\n",
            "Column Name has 0 NaN values (0.00%).\n",
            "Column Sex has 0 NaN values (0.00%).\n",
            "Column Age has 9474 NaN values (3.49%).\n",
            "Column Height has 60171 NaN values (22.19%).\n",
            "Column Weight has 62875 NaN values (23.19%).\n",
            "Column Team has 0 NaN values (0.00%).\n",
            "Column NOC has 0 NaN values (0.00%).\n",
            "Column Games has 0 NaN values (0.00%).\n",
            "Column Year has 0 NaN values (0.00%).\n",
            "Column Season has 0 NaN values (0.00%).\n",
            "Column City has 0 NaN values (0.00%).\n",
            "Column Sport has 0 NaN values (0.00%).\n",
            "Column Event has 0 NaN values (0.00%).\n",
            "Column Medal has 231333 NaN values (85.33%).\n"
          ]
        }
      ]
    },
    {
      "cell_type": "markdown",
      "source": [
        "We found out that the data is missing height and weight for a good proportion of participants. We can use various techniques such as interpolation, forward or backward fill, use Machine Learning to predict the missing information, or set a fixed value to fill the missiing values, but for the sake of simplicity we will just drop these rows.Note that how we deal with Nan values impact the results, so generally we experiment till we get our desired results. For example you might see slight differences between some plots in notebook and in the article, this is because those plots are generated using data where Nan Values were not dropped.\n",
        "Also in case of medals column, it is safe to assume that Nan specifies that no medal was won"
      ],
      "metadata": {
        "id": "PwOCvu02FMX6"
      }
    },
    {
      "cell_type": "code",
      "source": [
        "data.dropna(subset=['Height','Weight','Age'], inplace=True)\n",
        "# data['Height'].fillna(data['Height'].mean(), inplace=True)\n",
        "# data['Weight'].fillna(data['Weight'].mean(), inplace=True)\n",
        "# data['Age'].fillna(data['Age'].mean(), inplace=True)\n"
      ],
      "metadata": {
        "execution": {
          "iopub.status.busy": "2023-03-22T01:15:28.300572Z",
          "iopub.execute_input": "2023-03-22T01:15:28.301149Z",
          "iopub.status.idle": "2023-03-22T01:15:28.378354Z",
          "shell.execute_reply.started": "2023-03-22T01:15:28.300887Z",
          "shell.execute_reply": "2023-03-22T01:15:28.377525Z"
        },
        "trusted": true,
        "id": "CrTuRB4OFMX7"
      },
      "execution_count": 123,
      "outputs": []
    },
    {
      "cell_type": "code",
      "source": [
        "data.skew()"
      ],
      "metadata": {
        "execution": {
          "iopub.status.busy": "2023-03-22T01:15:38.302160Z",
          "iopub.execute_input": "2023-03-22T01:15:38.302788Z",
          "iopub.status.idle": "2023-03-22T01:15:41.112366Z",
          "shell.execute_reply.started": "2023-03-22T01:15:38.302729Z",
          "shell.execute_reply": "2023-03-22T01:15:41.111604Z"
        },
        "trusted": true,
        "id": "28MRYCCSFMX7",
        "outputId": "11a7c322-4f2e-4408-85d2-f94dc82710d7",
        "colab": {
          "base_uri": "https://localhost:8080/"
        }
      },
      "execution_count": 124,
      "outputs": [
        {
          "output_type": "stream",
          "name": "stderr",
          "text": [
            "<ipython-input-124-b3b431164adb>:1: FutureWarning: The default value of numeric_only in DataFrame.skew is deprecated. In a future version, it will default to False. In addition, specifying 'numeric_only=None' is deprecated. Select only valid columns or specify the value of numeric_only to silence this warning.\n",
            "  data.skew()\n"
          ]
        },
        {
          "output_type": "execute_result",
          "data": {
            "text/plain": [
              "ID       -0.015114\n",
              "Age       1.139644\n",
              "Height    0.016901\n",
              "Weight    0.792183\n",
              "Year     -0.961373\n",
              "dtype: float64"
            ]
          },
          "metadata": {},
          "execution_count": 124
        }
      ]
    },
    {
      "cell_type": "markdown",
      "source": [
        "Age heavily right skewed -> some older athletes as outliers (see median below).\n",
        "Weight moderately left skewed -> outliers of high weight."
      ],
      "metadata": {
        "id": "HoUtnOb7si_i"
      }
    },
    {
      "cell_type": "code",
      "source": [
        "data.describe()"
      ],
      "metadata": {
        "_uuid": "06ab4534533ab262e730b3e60ae4a7da4382b197",
        "execution": {
          "iopub.status.busy": "2023-03-22T01:13:48.923915Z",
          "iopub.execute_input": "2023-03-22T01:13:48.924241Z",
          "iopub.status.idle": "2023-03-22T01:13:49.048067Z",
          "shell.execute_reply.started": "2023-03-22T01:13:48.924183Z",
          "shell.execute_reply": "2023-03-22T01:13:49.047245Z"
        },
        "trusted": true,
        "id": "CBpQFwf5FMX7",
        "outputId": "fc028896-0d6d-4c81-a395-c1cb71a16e61",
        "colab": {
          "base_uri": "https://localhost:8080/",
          "height": 300
        }
      },
      "execution_count": 125,
      "outputs": [
        {
          "output_type": "execute_result",
          "data": {
            "text/plain": [
              "                  ID            Age         Height         Weight  \\\n",
              "count  206165.000000  206165.000000  206165.000000  206165.000000   \n",
              "mean    68616.017675      25.055509     175.371950      70.688337   \n",
              "std     38996.514355       5.483096      10.546088      14.340338   \n",
              "min         1.000000      11.000000     127.000000      25.000000   \n",
              "25%     35194.000000      21.000000     168.000000      60.000000   \n",
              "50%     68629.000000      24.000000     175.000000      70.000000   \n",
              "75%    102313.000000      28.000000     183.000000      79.000000   \n",
              "max    135571.000000      71.000000     226.000000     214.000000   \n",
              "\n",
              "                Year  \n",
              "count  206165.000000  \n",
              "mean     1989.674678  \n",
              "std        20.130865  \n",
              "min      1896.000000  \n",
              "25%      1976.000000  \n",
              "50%      1992.000000  \n",
              "75%      2006.000000  \n",
              "max      2016.000000  "
            ],
            "text/html": [
              "\n",
              "  <div id=\"df-63e92914-83b1-4543-a508-fcd3997141f3\" class=\"colab-df-container\">\n",
              "    <div>\n",
              "<style scoped>\n",
              "    .dataframe tbody tr th:only-of-type {\n",
              "        vertical-align: middle;\n",
              "    }\n",
              "\n",
              "    .dataframe tbody tr th {\n",
              "        vertical-align: top;\n",
              "    }\n",
              "\n",
              "    .dataframe thead th {\n",
              "        text-align: right;\n",
              "    }\n",
              "</style>\n",
              "<table border=\"1\" class=\"dataframe\">\n",
              "  <thead>\n",
              "    <tr style=\"text-align: right;\">\n",
              "      <th></th>\n",
              "      <th>ID</th>\n",
              "      <th>Age</th>\n",
              "      <th>Height</th>\n",
              "      <th>Weight</th>\n",
              "      <th>Year</th>\n",
              "    </tr>\n",
              "  </thead>\n",
              "  <tbody>\n",
              "    <tr>\n",
              "      <th>count</th>\n",
              "      <td>206165.000000</td>\n",
              "      <td>206165.000000</td>\n",
              "      <td>206165.000000</td>\n",
              "      <td>206165.000000</td>\n",
              "      <td>206165.000000</td>\n",
              "    </tr>\n",
              "    <tr>\n",
              "      <th>mean</th>\n",
              "      <td>68616.017675</td>\n",
              "      <td>25.055509</td>\n",
              "      <td>175.371950</td>\n",
              "      <td>70.688337</td>\n",
              "      <td>1989.674678</td>\n",
              "    </tr>\n",
              "    <tr>\n",
              "      <th>std</th>\n",
              "      <td>38996.514355</td>\n",
              "      <td>5.483096</td>\n",
              "      <td>10.546088</td>\n",
              "      <td>14.340338</td>\n",
              "      <td>20.130865</td>\n",
              "    </tr>\n",
              "    <tr>\n",
              "      <th>min</th>\n",
              "      <td>1.000000</td>\n",
              "      <td>11.000000</td>\n",
              "      <td>127.000000</td>\n",
              "      <td>25.000000</td>\n",
              "      <td>1896.000000</td>\n",
              "    </tr>\n",
              "    <tr>\n",
              "      <th>25%</th>\n",
              "      <td>35194.000000</td>\n",
              "      <td>21.000000</td>\n",
              "      <td>168.000000</td>\n",
              "      <td>60.000000</td>\n",
              "      <td>1976.000000</td>\n",
              "    </tr>\n",
              "    <tr>\n",
              "      <th>50%</th>\n",
              "      <td>68629.000000</td>\n",
              "      <td>24.000000</td>\n",
              "      <td>175.000000</td>\n",
              "      <td>70.000000</td>\n",
              "      <td>1992.000000</td>\n",
              "    </tr>\n",
              "    <tr>\n",
              "      <th>75%</th>\n",
              "      <td>102313.000000</td>\n",
              "      <td>28.000000</td>\n",
              "      <td>183.000000</td>\n",
              "      <td>79.000000</td>\n",
              "      <td>2006.000000</td>\n",
              "    </tr>\n",
              "    <tr>\n",
              "      <th>max</th>\n",
              "      <td>135571.000000</td>\n",
              "      <td>71.000000</td>\n",
              "      <td>226.000000</td>\n",
              "      <td>214.000000</td>\n",
              "      <td>2016.000000</td>\n",
              "    </tr>\n",
              "  </tbody>\n",
              "</table>\n",
              "</div>\n",
              "    <div class=\"colab-df-buttons\">\n",
              "\n",
              "  <div class=\"colab-df-container\">\n",
              "    <button class=\"colab-df-convert\" onclick=\"convertToInteractive('df-63e92914-83b1-4543-a508-fcd3997141f3')\"\n",
              "            title=\"Convert this dataframe to an interactive table.\"\n",
              "            style=\"display:none;\">\n",
              "\n",
              "  <svg xmlns=\"http://www.w3.org/2000/svg\" height=\"24px\" viewBox=\"0 -960 960 960\">\n",
              "    <path d=\"M120-120v-720h720v720H120Zm60-500h600v-160H180v160Zm220 220h160v-160H400v160Zm0 220h160v-160H400v160ZM180-400h160v-160H180v160Zm440 0h160v-160H620v160ZM180-180h160v-160H180v160Zm440 0h160v-160H620v160Z\"/>\n",
              "  </svg>\n",
              "    </button>\n",
              "\n",
              "  <style>\n",
              "    .colab-df-container {\n",
              "      display:flex;\n",
              "      gap: 12px;\n",
              "    }\n",
              "\n",
              "    .colab-df-convert {\n",
              "      background-color: #E8F0FE;\n",
              "      border: none;\n",
              "      border-radius: 50%;\n",
              "      cursor: pointer;\n",
              "      display: none;\n",
              "      fill: #1967D2;\n",
              "      height: 32px;\n",
              "      padding: 0 0 0 0;\n",
              "      width: 32px;\n",
              "    }\n",
              "\n",
              "    .colab-df-convert:hover {\n",
              "      background-color: #E2EBFA;\n",
              "      box-shadow: 0px 1px 2px rgba(60, 64, 67, 0.3), 0px 1px 3px 1px rgba(60, 64, 67, 0.15);\n",
              "      fill: #174EA6;\n",
              "    }\n",
              "\n",
              "    .colab-df-buttons div {\n",
              "      margin-bottom: 4px;\n",
              "    }\n",
              "\n",
              "    [theme=dark] .colab-df-convert {\n",
              "      background-color: #3B4455;\n",
              "      fill: #D2E3FC;\n",
              "    }\n",
              "\n",
              "    [theme=dark] .colab-df-convert:hover {\n",
              "      background-color: #434B5C;\n",
              "      box-shadow: 0px 1px 3px 1px rgba(0, 0, 0, 0.15);\n",
              "      filter: drop-shadow(0px 1px 2px rgba(0, 0, 0, 0.3));\n",
              "      fill: #FFFFFF;\n",
              "    }\n",
              "  </style>\n",
              "\n",
              "    <script>\n",
              "      const buttonEl =\n",
              "        document.querySelector('#df-63e92914-83b1-4543-a508-fcd3997141f3 button.colab-df-convert');\n",
              "      buttonEl.style.display =\n",
              "        google.colab.kernel.accessAllowed ? 'block' : 'none';\n",
              "\n",
              "      async function convertToInteractive(key) {\n",
              "        const element = document.querySelector('#df-63e92914-83b1-4543-a508-fcd3997141f3');\n",
              "        const dataTable =\n",
              "          await google.colab.kernel.invokeFunction('convertToInteractive',\n",
              "                                                    [key], {});\n",
              "        if (!dataTable) return;\n",
              "\n",
              "        const docLinkHtml = 'Like what you see? Visit the ' +\n",
              "          '<a target=\"_blank\" href=https://colab.research.google.com/notebooks/data_table.ipynb>data table notebook</a>'\n",
              "          + ' to learn more about interactive tables.';\n",
              "        element.innerHTML = '';\n",
              "        dataTable['output_type'] = 'display_data';\n",
              "        await google.colab.output.renderOutput(dataTable, element);\n",
              "        const docLink = document.createElement('div');\n",
              "        docLink.innerHTML = docLinkHtml;\n",
              "        element.appendChild(docLink);\n",
              "      }\n",
              "    </script>\n",
              "  </div>\n",
              "\n",
              "\n",
              "<div id=\"df-dd490c68-1dc9-44d3-b57d-cd251b01790a\">\n",
              "  <button class=\"colab-df-quickchart\" onclick=\"quickchart('df-dd490c68-1dc9-44d3-b57d-cd251b01790a')\"\n",
              "            title=\"Suggest charts\"\n",
              "            style=\"display:none;\">\n",
              "\n",
              "<svg xmlns=\"http://www.w3.org/2000/svg\" height=\"24px\"viewBox=\"0 0 24 24\"\n",
              "     width=\"24px\">\n",
              "    <g>\n",
              "        <path d=\"M19 3H5c-1.1 0-2 .9-2 2v14c0 1.1.9 2 2 2h14c1.1 0 2-.9 2-2V5c0-1.1-.9-2-2-2zM9 17H7v-7h2v7zm4 0h-2V7h2v10zm4 0h-2v-4h2v4z\"/>\n",
              "    </g>\n",
              "</svg>\n",
              "  </button>\n",
              "\n",
              "<style>\n",
              "  .colab-df-quickchart {\n",
              "      --bg-color: #E8F0FE;\n",
              "      --fill-color: #1967D2;\n",
              "      --hover-bg-color: #E2EBFA;\n",
              "      --hover-fill-color: #174EA6;\n",
              "      --disabled-fill-color: #AAA;\n",
              "      --disabled-bg-color: #DDD;\n",
              "  }\n",
              "\n",
              "  [theme=dark] .colab-df-quickchart {\n",
              "      --bg-color: #3B4455;\n",
              "      --fill-color: #D2E3FC;\n",
              "      --hover-bg-color: #434B5C;\n",
              "      --hover-fill-color: #FFFFFF;\n",
              "      --disabled-bg-color: #3B4455;\n",
              "      --disabled-fill-color: #666;\n",
              "  }\n",
              "\n",
              "  .colab-df-quickchart {\n",
              "    background-color: var(--bg-color);\n",
              "    border: none;\n",
              "    border-radius: 50%;\n",
              "    cursor: pointer;\n",
              "    display: none;\n",
              "    fill: var(--fill-color);\n",
              "    height: 32px;\n",
              "    padding: 0;\n",
              "    width: 32px;\n",
              "  }\n",
              "\n",
              "  .colab-df-quickchart:hover {\n",
              "    background-color: var(--hover-bg-color);\n",
              "    box-shadow: 0 1px 2px rgba(60, 64, 67, 0.3), 0 1px 3px 1px rgba(60, 64, 67, 0.15);\n",
              "    fill: var(--button-hover-fill-color);\n",
              "  }\n",
              "\n",
              "  .colab-df-quickchart-complete:disabled,\n",
              "  .colab-df-quickchart-complete:disabled:hover {\n",
              "    background-color: var(--disabled-bg-color);\n",
              "    fill: var(--disabled-fill-color);\n",
              "    box-shadow: none;\n",
              "  }\n",
              "\n",
              "  .colab-df-spinner {\n",
              "    border: 2px solid var(--fill-color);\n",
              "    border-color: transparent;\n",
              "    border-bottom-color: var(--fill-color);\n",
              "    animation:\n",
              "      spin 1s steps(1) infinite;\n",
              "  }\n",
              "\n",
              "  @keyframes spin {\n",
              "    0% {\n",
              "      border-color: transparent;\n",
              "      border-bottom-color: var(--fill-color);\n",
              "      border-left-color: var(--fill-color);\n",
              "    }\n",
              "    20% {\n",
              "      border-color: transparent;\n",
              "      border-left-color: var(--fill-color);\n",
              "      border-top-color: var(--fill-color);\n",
              "    }\n",
              "    30% {\n",
              "      border-color: transparent;\n",
              "      border-left-color: var(--fill-color);\n",
              "      border-top-color: var(--fill-color);\n",
              "      border-right-color: var(--fill-color);\n",
              "    }\n",
              "    40% {\n",
              "      border-color: transparent;\n",
              "      border-right-color: var(--fill-color);\n",
              "      border-top-color: var(--fill-color);\n",
              "    }\n",
              "    60% {\n",
              "      border-color: transparent;\n",
              "      border-right-color: var(--fill-color);\n",
              "    }\n",
              "    80% {\n",
              "      border-color: transparent;\n",
              "      border-right-color: var(--fill-color);\n",
              "      border-bottom-color: var(--fill-color);\n",
              "    }\n",
              "    90% {\n",
              "      border-color: transparent;\n",
              "      border-bottom-color: var(--fill-color);\n",
              "    }\n",
              "  }\n",
              "</style>\n",
              "\n",
              "  <script>\n",
              "    async function quickchart(key) {\n",
              "      const quickchartButtonEl =\n",
              "        document.querySelector('#' + key + ' button');\n",
              "      quickchartButtonEl.disabled = true;  // To prevent multiple clicks.\n",
              "      quickchartButtonEl.classList.add('colab-df-spinner');\n",
              "      try {\n",
              "        const charts = await google.colab.kernel.invokeFunction(\n",
              "            'suggestCharts', [key], {});\n",
              "      } catch (error) {\n",
              "        console.error('Error during call to suggestCharts:', error);\n",
              "      }\n",
              "      quickchartButtonEl.classList.remove('colab-df-spinner');\n",
              "      quickchartButtonEl.classList.add('colab-df-quickchart-complete');\n",
              "    }\n",
              "    (() => {\n",
              "      let quickchartButtonEl =\n",
              "        document.querySelector('#df-dd490c68-1dc9-44d3-b57d-cd251b01790a button');\n",
              "      quickchartButtonEl.style.display =\n",
              "        google.colab.kernel.accessAllowed ? 'block' : 'none';\n",
              "    })();\n",
              "  </script>\n",
              "</div>\n",
              "    </div>\n",
              "  </div>\n"
            ],
            "application/vnd.google.colaboratory.intrinsic+json": {
              "type": "dataframe",
              "summary": "{\n  \"name\": \"data\",\n  \"rows\": 8,\n  \"fields\": [\n    {\n      \"column\": \"ID\",\n      \"properties\": {\n        \"dtype\": \"number\",\n        \"std\": 65270.02833154004,\n        \"min\": 1.0,\n        \"max\": 206165.0,\n        \"num_unique_values\": 8,\n        \"samples\": [\n          68616.0176751631,\n          68629.0,\n          206165.0\n        ],\n        \"semantic_type\": \"\",\n        \"description\": \"\"\n      }\n    },\n    {\n      \"column\": \"Age\",\n      \"properties\": {\n        \"dtype\": \"number\",\n        \"std\": 72880.96630615165,\n        \"min\": 5.4830959133789,\n        \"max\": 206165.0,\n        \"num_unique_values\": 8,\n        \"samples\": [\n          25.055508937016466,\n          24.0,\n          206165.0\n        ],\n        \"semantic_type\": \"\",\n        \"description\": \"\"\n      }\n    },\n    {\n      \"column\": \"Height\",\n      \"properties\": {\n        \"dtype\": \"number\",\n        \"std\": 72836.57614167956,\n        \"min\": 10.546088104874467,\n        \"max\": 206165.0,\n        \"num_unique_values\": 8,\n        \"samples\": [\n          175.3719496519778,\n          175.0,\n          206165.0\n        ],\n        \"semantic_type\": \"\",\n        \"description\": \"\"\n      }\n    },\n    {\n      \"column\": \"Weight\",\n      \"properties\": {\n        \"dtype\": \"number\",\n        \"std\": 72863.43802643353,\n        \"min\": 14.340337919424229,\n        \"max\": 206165.0,\n        \"num_unique_values\": 8,\n        \"samples\": [\n          70.68833701161691,\n          70.0,\n          206165.0\n        ],\n        \"semantic_type\": \"\",\n        \"description\": \"\"\n      }\n    },\n    {\n      \"column\": \"Year\",\n      \"properties\": {\n        \"dtype\": \"number\",\n        \"std\": 72292.76571126824,\n        \"min\": 20.130865468671253,\n        \"max\": 206165.0,\n        \"num_unique_values\": 8,\n        \"samples\": [\n          1989.6746780491353,\n          1992.0,\n          206165.0\n        ],\n        \"semantic_type\": \"\",\n        \"description\": \"\"\n      }\n    }\n  ]\n}"
            }
          },
          "metadata": {},
          "execution_count": 125
        }
      ]
    },
    {
      "cell_type": "markdown",
      "source": [
        "WTF? Youngest athlete was 11. years old? min. weight is 25 kg? Edit: From North Korea, Gymnast.\n",
        "\n",
        "In 1896 there was a 10-year old Russian athlete. Dropped because: data.dropna(subset=['Height','Weight','Age'], inplace=True)"
      ],
      "metadata": {
        "id": "s0vwz_Jtr4sp"
      }
    },
    {
      "cell_type": "code",
      "source": [
        "data.info()"
      ],
      "metadata": {
        "_uuid": "455b4118a50de2bef0059eca274aa618b1306c7c",
        "execution": {
          "iopub.status.busy": "2023-03-22T01:15:41.113456Z",
          "iopub.execute_input": "2023-03-22T01:15:41.113845Z",
          "iopub.status.idle": "2023-03-22T01:15:41.263670Z",
          "shell.execute_reply.started": "2023-03-22T01:15:41.113786Z",
          "shell.execute_reply": "2023-03-22T01:15:41.262594Z"
        },
        "trusted": true,
        "id": "jzvhKlYcFMX7",
        "outputId": "181dbc25-e00e-49c2-a6a8-4975da5a5b45",
        "colab": {
          "base_uri": "https://localhost:8080/"
        }
      },
      "execution_count": 126,
      "outputs": [
        {
          "output_type": "stream",
          "name": "stdout",
          "text": [
            "<class 'pandas.core.frame.DataFrame'>\n",
            "Int64Index: 206165 entries, 0 to 271115\n",
            "Data columns (total 15 columns):\n",
            " #   Column  Non-Null Count   Dtype  \n",
            "---  ------  --------------   -----  \n",
            " 0   ID      206165 non-null  int64  \n",
            " 1   Name    206165 non-null  object \n",
            " 2   Sex     206165 non-null  object \n",
            " 3   Age     206165 non-null  float64\n",
            " 4   Height  206165 non-null  float64\n",
            " 5   Weight  206165 non-null  float64\n",
            " 6   Team    206165 non-null  object \n",
            " 7   NOC     206165 non-null  object \n",
            " 8   Games   206165 non-null  object \n",
            " 9   Year    206165 non-null  int64  \n",
            " 10  Season  206165 non-null  object \n",
            " 11  City    206165 non-null  object \n",
            " 12  Sport   206165 non-null  object \n",
            " 13  Event   206165 non-null  object \n",
            " 14  Medal   30181 non-null   object \n",
            "dtypes: float64(3), int64(2), object(10)\n",
            "memory usage: 25.2+ MB\n"
          ]
        }
      ]
    },
    {
      "cell_type": "code",
      "source": [
        "regions.head(5)"
      ],
      "metadata": {
        "_uuid": "914cefa0b6ad17ec0aead6b9c4c27a02e34f610e",
        "execution": {
          "iopub.status.busy": "2023-03-22T00:47:25.121725Z",
          "iopub.execute_input": "2023-03-22T00:47:25.122127Z",
          "iopub.status.idle": "2023-03-22T00:47:25.137960Z",
          "shell.execute_reply.started": "2023-03-22T00:47:25.122082Z",
          "shell.execute_reply": "2023-03-22T00:47:25.136871Z"
        },
        "trusted": true,
        "id": "QRDOzAkWFMX8",
        "outputId": "f436dfbf-8686-4927-f5ba-c17f222121dd",
        "colab": {
          "base_uri": "https://localhost:8080/",
          "height": 206
        }
      },
      "execution_count": 127,
      "outputs": [
        {
          "output_type": "execute_result",
          "data": {
            "text/plain": [
              "   NOC       region                 notes\n",
              "0  AFG  Afghanistan                   NaN\n",
              "1  AHO      Curacao  Netherlands Antilles\n",
              "2  ALB      Albania                   NaN\n",
              "3  ALG      Algeria                   NaN\n",
              "4  AND      Andorra                   NaN"
            ],
            "text/html": [
              "\n",
              "  <div id=\"df-30154c1f-56c1-4f59-b8ac-35e53da2a260\" class=\"colab-df-container\">\n",
              "    <div>\n",
              "<style scoped>\n",
              "    .dataframe tbody tr th:only-of-type {\n",
              "        vertical-align: middle;\n",
              "    }\n",
              "\n",
              "    .dataframe tbody tr th {\n",
              "        vertical-align: top;\n",
              "    }\n",
              "\n",
              "    .dataframe thead th {\n",
              "        text-align: right;\n",
              "    }\n",
              "</style>\n",
              "<table border=\"1\" class=\"dataframe\">\n",
              "  <thead>\n",
              "    <tr style=\"text-align: right;\">\n",
              "      <th></th>\n",
              "      <th>NOC</th>\n",
              "      <th>region</th>\n",
              "      <th>notes</th>\n",
              "    </tr>\n",
              "  </thead>\n",
              "  <tbody>\n",
              "    <tr>\n",
              "      <th>0</th>\n",
              "      <td>AFG</td>\n",
              "      <td>Afghanistan</td>\n",
              "      <td>NaN</td>\n",
              "    </tr>\n",
              "    <tr>\n",
              "      <th>1</th>\n",
              "      <td>AHO</td>\n",
              "      <td>Curacao</td>\n",
              "      <td>Netherlands Antilles</td>\n",
              "    </tr>\n",
              "    <tr>\n",
              "      <th>2</th>\n",
              "      <td>ALB</td>\n",
              "      <td>Albania</td>\n",
              "      <td>NaN</td>\n",
              "    </tr>\n",
              "    <tr>\n",
              "      <th>3</th>\n",
              "      <td>ALG</td>\n",
              "      <td>Algeria</td>\n",
              "      <td>NaN</td>\n",
              "    </tr>\n",
              "    <tr>\n",
              "      <th>4</th>\n",
              "      <td>AND</td>\n",
              "      <td>Andorra</td>\n",
              "      <td>NaN</td>\n",
              "    </tr>\n",
              "  </tbody>\n",
              "</table>\n",
              "</div>\n",
              "    <div class=\"colab-df-buttons\">\n",
              "\n",
              "  <div class=\"colab-df-container\">\n",
              "    <button class=\"colab-df-convert\" onclick=\"convertToInteractive('df-30154c1f-56c1-4f59-b8ac-35e53da2a260')\"\n",
              "            title=\"Convert this dataframe to an interactive table.\"\n",
              "            style=\"display:none;\">\n",
              "\n",
              "  <svg xmlns=\"http://www.w3.org/2000/svg\" height=\"24px\" viewBox=\"0 -960 960 960\">\n",
              "    <path d=\"M120-120v-720h720v720H120Zm60-500h600v-160H180v160Zm220 220h160v-160H400v160Zm0 220h160v-160H400v160ZM180-400h160v-160H180v160Zm440 0h160v-160H620v160ZM180-180h160v-160H180v160Zm440 0h160v-160H620v160Z\"/>\n",
              "  </svg>\n",
              "    </button>\n",
              "\n",
              "  <style>\n",
              "    .colab-df-container {\n",
              "      display:flex;\n",
              "      gap: 12px;\n",
              "    }\n",
              "\n",
              "    .colab-df-convert {\n",
              "      background-color: #E8F0FE;\n",
              "      border: none;\n",
              "      border-radius: 50%;\n",
              "      cursor: pointer;\n",
              "      display: none;\n",
              "      fill: #1967D2;\n",
              "      height: 32px;\n",
              "      padding: 0 0 0 0;\n",
              "      width: 32px;\n",
              "    }\n",
              "\n",
              "    .colab-df-convert:hover {\n",
              "      background-color: #E2EBFA;\n",
              "      box-shadow: 0px 1px 2px rgba(60, 64, 67, 0.3), 0px 1px 3px 1px rgba(60, 64, 67, 0.15);\n",
              "      fill: #174EA6;\n",
              "    }\n",
              "\n",
              "    .colab-df-buttons div {\n",
              "      margin-bottom: 4px;\n",
              "    }\n",
              "\n",
              "    [theme=dark] .colab-df-convert {\n",
              "      background-color: #3B4455;\n",
              "      fill: #D2E3FC;\n",
              "    }\n",
              "\n",
              "    [theme=dark] .colab-df-convert:hover {\n",
              "      background-color: #434B5C;\n",
              "      box-shadow: 0px 1px 3px 1px rgba(0, 0, 0, 0.15);\n",
              "      filter: drop-shadow(0px 1px 2px rgba(0, 0, 0, 0.3));\n",
              "      fill: #FFFFFF;\n",
              "    }\n",
              "  </style>\n",
              "\n",
              "    <script>\n",
              "      const buttonEl =\n",
              "        document.querySelector('#df-30154c1f-56c1-4f59-b8ac-35e53da2a260 button.colab-df-convert');\n",
              "      buttonEl.style.display =\n",
              "        google.colab.kernel.accessAllowed ? 'block' : 'none';\n",
              "\n",
              "      async function convertToInteractive(key) {\n",
              "        const element = document.querySelector('#df-30154c1f-56c1-4f59-b8ac-35e53da2a260');\n",
              "        const dataTable =\n",
              "          await google.colab.kernel.invokeFunction('convertToInteractive',\n",
              "                                                    [key], {});\n",
              "        if (!dataTable) return;\n",
              "\n",
              "        const docLinkHtml = 'Like what you see? Visit the ' +\n",
              "          '<a target=\"_blank\" href=https://colab.research.google.com/notebooks/data_table.ipynb>data table notebook</a>'\n",
              "          + ' to learn more about interactive tables.';\n",
              "        element.innerHTML = '';\n",
              "        dataTable['output_type'] = 'display_data';\n",
              "        await google.colab.output.renderOutput(dataTable, element);\n",
              "        const docLink = document.createElement('div');\n",
              "        docLink.innerHTML = docLinkHtml;\n",
              "        element.appendChild(docLink);\n",
              "      }\n",
              "    </script>\n",
              "  </div>\n",
              "\n",
              "\n",
              "<div id=\"df-f540431c-f72f-452f-8a44-19eab2d14b3e\">\n",
              "  <button class=\"colab-df-quickchart\" onclick=\"quickchart('df-f540431c-f72f-452f-8a44-19eab2d14b3e')\"\n",
              "            title=\"Suggest charts\"\n",
              "            style=\"display:none;\">\n",
              "\n",
              "<svg xmlns=\"http://www.w3.org/2000/svg\" height=\"24px\"viewBox=\"0 0 24 24\"\n",
              "     width=\"24px\">\n",
              "    <g>\n",
              "        <path d=\"M19 3H5c-1.1 0-2 .9-2 2v14c0 1.1.9 2 2 2h14c1.1 0 2-.9 2-2V5c0-1.1-.9-2-2-2zM9 17H7v-7h2v7zm4 0h-2V7h2v10zm4 0h-2v-4h2v4z\"/>\n",
              "    </g>\n",
              "</svg>\n",
              "  </button>\n",
              "\n",
              "<style>\n",
              "  .colab-df-quickchart {\n",
              "      --bg-color: #E8F0FE;\n",
              "      --fill-color: #1967D2;\n",
              "      --hover-bg-color: #E2EBFA;\n",
              "      --hover-fill-color: #174EA6;\n",
              "      --disabled-fill-color: #AAA;\n",
              "      --disabled-bg-color: #DDD;\n",
              "  }\n",
              "\n",
              "  [theme=dark] .colab-df-quickchart {\n",
              "      --bg-color: #3B4455;\n",
              "      --fill-color: #D2E3FC;\n",
              "      --hover-bg-color: #434B5C;\n",
              "      --hover-fill-color: #FFFFFF;\n",
              "      --disabled-bg-color: #3B4455;\n",
              "      --disabled-fill-color: #666;\n",
              "  }\n",
              "\n",
              "  .colab-df-quickchart {\n",
              "    background-color: var(--bg-color);\n",
              "    border: none;\n",
              "    border-radius: 50%;\n",
              "    cursor: pointer;\n",
              "    display: none;\n",
              "    fill: var(--fill-color);\n",
              "    height: 32px;\n",
              "    padding: 0;\n",
              "    width: 32px;\n",
              "  }\n",
              "\n",
              "  .colab-df-quickchart:hover {\n",
              "    background-color: var(--hover-bg-color);\n",
              "    box-shadow: 0 1px 2px rgba(60, 64, 67, 0.3), 0 1px 3px 1px rgba(60, 64, 67, 0.15);\n",
              "    fill: var(--button-hover-fill-color);\n",
              "  }\n",
              "\n",
              "  .colab-df-quickchart-complete:disabled,\n",
              "  .colab-df-quickchart-complete:disabled:hover {\n",
              "    background-color: var(--disabled-bg-color);\n",
              "    fill: var(--disabled-fill-color);\n",
              "    box-shadow: none;\n",
              "  }\n",
              "\n",
              "  .colab-df-spinner {\n",
              "    border: 2px solid var(--fill-color);\n",
              "    border-color: transparent;\n",
              "    border-bottom-color: var(--fill-color);\n",
              "    animation:\n",
              "      spin 1s steps(1) infinite;\n",
              "  }\n",
              "\n",
              "  @keyframes spin {\n",
              "    0% {\n",
              "      border-color: transparent;\n",
              "      border-bottom-color: var(--fill-color);\n",
              "      border-left-color: var(--fill-color);\n",
              "    }\n",
              "    20% {\n",
              "      border-color: transparent;\n",
              "      border-left-color: var(--fill-color);\n",
              "      border-top-color: var(--fill-color);\n",
              "    }\n",
              "    30% {\n",
              "      border-color: transparent;\n",
              "      border-left-color: var(--fill-color);\n",
              "      border-top-color: var(--fill-color);\n",
              "      border-right-color: var(--fill-color);\n",
              "    }\n",
              "    40% {\n",
              "      border-color: transparent;\n",
              "      border-right-color: var(--fill-color);\n",
              "      border-top-color: var(--fill-color);\n",
              "    }\n",
              "    60% {\n",
              "      border-color: transparent;\n",
              "      border-right-color: var(--fill-color);\n",
              "    }\n",
              "    80% {\n",
              "      border-color: transparent;\n",
              "      border-right-color: var(--fill-color);\n",
              "      border-bottom-color: var(--fill-color);\n",
              "    }\n",
              "    90% {\n",
              "      border-color: transparent;\n",
              "      border-bottom-color: var(--fill-color);\n",
              "    }\n",
              "  }\n",
              "</style>\n",
              "\n",
              "  <script>\n",
              "    async function quickchart(key) {\n",
              "      const quickchartButtonEl =\n",
              "        document.querySelector('#' + key + ' button');\n",
              "      quickchartButtonEl.disabled = true;  // To prevent multiple clicks.\n",
              "      quickchartButtonEl.classList.add('colab-df-spinner');\n",
              "      try {\n",
              "        const charts = await google.colab.kernel.invokeFunction(\n",
              "            'suggestCharts', [key], {});\n",
              "      } catch (error) {\n",
              "        console.error('Error during call to suggestCharts:', error);\n",
              "      }\n",
              "      quickchartButtonEl.classList.remove('colab-df-spinner');\n",
              "      quickchartButtonEl.classList.add('colab-df-quickchart-complete');\n",
              "    }\n",
              "    (() => {\n",
              "      let quickchartButtonEl =\n",
              "        document.querySelector('#df-f540431c-f72f-452f-8a44-19eab2d14b3e button');\n",
              "      quickchartButtonEl.style.display =\n",
              "        google.colab.kernel.accessAllowed ? 'block' : 'none';\n",
              "    })();\n",
              "  </script>\n",
              "</div>\n",
              "    </div>\n",
              "  </div>\n"
            ],
            "application/vnd.google.colaboratory.intrinsic+json": {
              "type": "dataframe",
              "variable_name": "regions",
              "summary": "{\n  \"name\": \"regions\",\n  \"rows\": 230,\n  \"fields\": [\n    {\n      \"column\": \"NOC\",\n      \"properties\": {\n        \"dtype\": \"string\",\n        \"num_unique_values\": 230,\n        \"samples\": [\n          \"UZB\",\n          \"EUN\",\n          \"ARM\"\n        ],\n        \"semantic_type\": \"\",\n        \"description\": \"\"\n      }\n    },\n    {\n      \"column\": \"region\",\n      \"properties\": {\n        \"dtype\": \"string\",\n        \"num_unique_values\": 206,\n        \"samples\": [\n          \"Bangladesh\",\n          \"Armenia\",\n          \"Venezuela\"\n        ],\n        \"semantic_type\": \"\",\n        \"description\": \"\"\n      }\n    },\n    {\n      \"column\": \"notes\",\n      \"properties\": {\n        \"dtype\": \"category\",\n        \"num_unique_values\": 21,\n        \"samples\": [\n          \"Netherlands Antilles\",\n          \"West Indies Federation\",\n          \"United Arab Republic\"\n        ],\n        \"semantic_type\": \"\",\n        \"description\": \"\"\n      }\n    }\n  ]\n}"
            }
          },
          "metadata": {},
          "execution_count": 127
        }
      ]
    },
    {
      "cell_type": "code",
      "source": [
        "for col in regions.columns:\n",
        "    print(f\"Column {col} has {regions[col].isna().sum()} NaN values.\")"
      ],
      "metadata": {
        "execution": {
          "iopub.status.busy": "2023-03-22T01:13:56.135261Z",
          "iopub.execute_input": "2023-03-22T01:13:56.135648Z",
          "iopub.status.idle": "2023-03-22T01:13:56.145104Z",
          "shell.execute_reply.started": "2023-03-22T01:13:56.135589Z",
          "shell.execute_reply": "2023-03-22T01:13:56.143873Z"
        },
        "trusted": true,
        "id": "qgpNPMvuFMX8",
        "outputId": "e46fdaf1-3c64-4c62-e073-2784892072cf",
        "colab": {
          "base_uri": "https://localhost:8080/"
        }
      },
      "execution_count": 128,
      "outputs": [
        {
          "output_type": "stream",
          "name": "stdout",
          "text": [
            "Column NOC has 0 NaN values.\n",
            "Column region has 3 NaN values.\n",
            "Column notes has 209 NaN values.\n"
          ]
        }
      ]
    },
    {
      "cell_type": "markdown",
      "source": [
        "# 4. Joining the dataframes"
      ],
      "metadata": {
        "_uuid": "cd3b74b6b5f1c8a92948258e9c17151efd44ac3b",
        "id": "C5AIriwqFMX8"
      }
    },
    {
      "cell_type": "markdown",
      "source": [
        "Using the 'Merge' function from Pandas, we have the ability to combine the two dataframes by using the 'NOC' column as the key"
      ],
      "metadata": {
        "_uuid": "a2d1091f26cf2fffc8e0847caa93dd92ceb48815",
        "id": "z9qRLj7MFMX8"
      }
    },
    {
      "cell_type": "code",
      "source": [
        "merged = pd.merge(data, regions, on='NOC', how='left')"
      ],
      "metadata": {
        "_uuid": "ce11b76e91e61ebe19c6f40ee86eb2a0dc56e2f8",
        "execution": {
          "iopub.status.busy": "2023-03-22T01:15:44.095948Z",
          "iopub.execute_input": "2023-03-22T01:15:44.096786Z",
          "iopub.status.idle": "2023-03-22T01:15:44.285070Z",
          "shell.execute_reply.started": "2023-03-22T01:15:44.096714Z",
          "shell.execute_reply": "2023-03-22T01:15:44.283679Z"
        },
        "trusted": true,
        "id": "atsKeUxqFMX8"
      },
      "execution_count": 129,
      "outputs": []
    },
    {
      "cell_type": "markdown",
      "source": [
        "Let's see the result:"
      ],
      "metadata": {
        "_uuid": "ec03b439b080b6cf0100959327f5d27bddd6d27a",
        "id": "Vl0xKFuCFMX8"
      }
    },
    {
      "cell_type": "code",
      "source": [
        "merged.head()"
      ],
      "metadata": {
        "_uuid": "5670d573ec6b4ce429a86335e5d530647b827af0",
        "execution": {
          "iopub.status.busy": "2023-03-22T01:15:46.012707Z",
          "iopub.execute_input": "2023-03-22T01:15:46.013129Z",
          "iopub.status.idle": "2023-03-22T01:15:46.063723Z",
          "shell.execute_reply.started": "2023-03-22T01:15:46.013056Z",
          "shell.execute_reply": "2023-03-22T01:15:46.062611Z"
        },
        "trusted": true,
        "id": "CrXcR_OqFMX8",
        "outputId": "d2bf71d9-ff81-4328-9a52-94247080ddee",
        "colab": {
          "base_uri": "https://localhost:8080/",
          "height": 206
        }
      },
      "execution_count": 130,
      "outputs": [
        {
          "output_type": "execute_result",
          "data": {
            "text/plain": [
              "   ID                      Name Sex   Age  Height  Weight         Team  NOC  \\\n",
              "0   1                 A Dijiang   M  24.0   180.0    80.0        China  CHN   \n",
              "1   2                  A Lamusi   M  23.0   170.0    60.0        China  CHN   \n",
              "2   5  Christine Jacoba Aaftink   F  21.0   185.0    82.0  Netherlands  NED   \n",
              "3   5  Christine Jacoba Aaftink   F  21.0   185.0    82.0  Netherlands  NED   \n",
              "4   5  Christine Jacoba Aaftink   F  25.0   185.0    82.0  Netherlands  NED   \n",
              "\n",
              "         Games  Year  Season         City          Sport  \\\n",
              "0  1992 Summer  1992  Summer    Barcelona     Basketball   \n",
              "1  2012 Summer  2012  Summer       London           Judo   \n",
              "2  1988 Winter  1988  Winter      Calgary  Speed Skating   \n",
              "3  1988 Winter  1988  Winter      Calgary  Speed Skating   \n",
              "4  1992 Winter  1992  Winter  Albertville  Speed Skating   \n",
              "\n",
              "                                Event Medal       region notes  \n",
              "0         Basketball Men's Basketball   NaN        China   NaN  \n",
              "1        Judo Men's Extra-Lightweight   NaN        China   NaN  \n",
              "2    Speed Skating Women's 500 metres   NaN  Netherlands   NaN  \n",
              "3  Speed Skating Women's 1,000 metres   NaN  Netherlands   NaN  \n",
              "4    Speed Skating Women's 500 metres   NaN  Netherlands   NaN  "
            ],
            "text/html": [
              "\n",
              "  <div id=\"df-2c04a863-04b6-4ebd-8260-c5f8d658dc1b\" class=\"colab-df-container\">\n",
              "    <div>\n",
              "<style scoped>\n",
              "    .dataframe tbody tr th:only-of-type {\n",
              "        vertical-align: middle;\n",
              "    }\n",
              "\n",
              "    .dataframe tbody tr th {\n",
              "        vertical-align: top;\n",
              "    }\n",
              "\n",
              "    .dataframe thead th {\n",
              "        text-align: right;\n",
              "    }\n",
              "</style>\n",
              "<table border=\"1\" class=\"dataframe\">\n",
              "  <thead>\n",
              "    <tr style=\"text-align: right;\">\n",
              "      <th></th>\n",
              "      <th>ID</th>\n",
              "      <th>Name</th>\n",
              "      <th>Sex</th>\n",
              "      <th>Age</th>\n",
              "      <th>Height</th>\n",
              "      <th>Weight</th>\n",
              "      <th>Team</th>\n",
              "      <th>NOC</th>\n",
              "      <th>Games</th>\n",
              "      <th>Year</th>\n",
              "      <th>Season</th>\n",
              "      <th>City</th>\n",
              "      <th>Sport</th>\n",
              "      <th>Event</th>\n",
              "      <th>Medal</th>\n",
              "      <th>region</th>\n",
              "      <th>notes</th>\n",
              "    </tr>\n",
              "  </thead>\n",
              "  <tbody>\n",
              "    <tr>\n",
              "      <th>0</th>\n",
              "      <td>1</td>\n",
              "      <td>A Dijiang</td>\n",
              "      <td>M</td>\n",
              "      <td>24.0</td>\n",
              "      <td>180.0</td>\n",
              "      <td>80.0</td>\n",
              "      <td>China</td>\n",
              "      <td>CHN</td>\n",
              "      <td>1992 Summer</td>\n",
              "      <td>1992</td>\n",
              "      <td>Summer</td>\n",
              "      <td>Barcelona</td>\n",
              "      <td>Basketball</td>\n",
              "      <td>Basketball Men's Basketball</td>\n",
              "      <td>NaN</td>\n",
              "      <td>China</td>\n",
              "      <td>NaN</td>\n",
              "    </tr>\n",
              "    <tr>\n",
              "      <th>1</th>\n",
              "      <td>2</td>\n",
              "      <td>A Lamusi</td>\n",
              "      <td>M</td>\n",
              "      <td>23.0</td>\n",
              "      <td>170.0</td>\n",
              "      <td>60.0</td>\n",
              "      <td>China</td>\n",
              "      <td>CHN</td>\n",
              "      <td>2012 Summer</td>\n",
              "      <td>2012</td>\n",
              "      <td>Summer</td>\n",
              "      <td>London</td>\n",
              "      <td>Judo</td>\n",
              "      <td>Judo Men's Extra-Lightweight</td>\n",
              "      <td>NaN</td>\n",
              "      <td>China</td>\n",
              "      <td>NaN</td>\n",
              "    </tr>\n",
              "    <tr>\n",
              "      <th>2</th>\n",
              "      <td>5</td>\n",
              "      <td>Christine Jacoba Aaftink</td>\n",
              "      <td>F</td>\n",
              "      <td>21.0</td>\n",
              "      <td>185.0</td>\n",
              "      <td>82.0</td>\n",
              "      <td>Netherlands</td>\n",
              "      <td>NED</td>\n",
              "      <td>1988 Winter</td>\n",
              "      <td>1988</td>\n",
              "      <td>Winter</td>\n",
              "      <td>Calgary</td>\n",
              "      <td>Speed Skating</td>\n",
              "      <td>Speed Skating Women's 500 metres</td>\n",
              "      <td>NaN</td>\n",
              "      <td>Netherlands</td>\n",
              "      <td>NaN</td>\n",
              "    </tr>\n",
              "    <tr>\n",
              "      <th>3</th>\n",
              "      <td>5</td>\n",
              "      <td>Christine Jacoba Aaftink</td>\n",
              "      <td>F</td>\n",
              "      <td>21.0</td>\n",
              "      <td>185.0</td>\n",
              "      <td>82.0</td>\n",
              "      <td>Netherlands</td>\n",
              "      <td>NED</td>\n",
              "      <td>1988 Winter</td>\n",
              "      <td>1988</td>\n",
              "      <td>Winter</td>\n",
              "      <td>Calgary</td>\n",
              "      <td>Speed Skating</td>\n",
              "      <td>Speed Skating Women's 1,000 metres</td>\n",
              "      <td>NaN</td>\n",
              "      <td>Netherlands</td>\n",
              "      <td>NaN</td>\n",
              "    </tr>\n",
              "    <tr>\n",
              "      <th>4</th>\n",
              "      <td>5</td>\n",
              "      <td>Christine Jacoba Aaftink</td>\n",
              "      <td>F</td>\n",
              "      <td>25.0</td>\n",
              "      <td>185.0</td>\n",
              "      <td>82.0</td>\n",
              "      <td>Netherlands</td>\n",
              "      <td>NED</td>\n",
              "      <td>1992 Winter</td>\n",
              "      <td>1992</td>\n",
              "      <td>Winter</td>\n",
              "      <td>Albertville</td>\n",
              "      <td>Speed Skating</td>\n",
              "      <td>Speed Skating Women's 500 metres</td>\n",
              "      <td>NaN</td>\n",
              "      <td>Netherlands</td>\n",
              "      <td>NaN</td>\n",
              "    </tr>\n",
              "  </tbody>\n",
              "</table>\n",
              "</div>\n",
              "    <div class=\"colab-df-buttons\">\n",
              "\n",
              "  <div class=\"colab-df-container\">\n",
              "    <button class=\"colab-df-convert\" onclick=\"convertToInteractive('df-2c04a863-04b6-4ebd-8260-c5f8d658dc1b')\"\n",
              "            title=\"Convert this dataframe to an interactive table.\"\n",
              "            style=\"display:none;\">\n",
              "\n",
              "  <svg xmlns=\"http://www.w3.org/2000/svg\" height=\"24px\" viewBox=\"0 -960 960 960\">\n",
              "    <path d=\"M120-120v-720h720v720H120Zm60-500h600v-160H180v160Zm220 220h160v-160H400v160Zm0 220h160v-160H400v160ZM180-400h160v-160H180v160Zm440 0h160v-160H620v160ZM180-180h160v-160H180v160Zm440 0h160v-160H620v160Z\"/>\n",
              "  </svg>\n",
              "    </button>\n",
              "\n",
              "  <style>\n",
              "    .colab-df-container {\n",
              "      display:flex;\n",
              "      gap: 12px;\n",
              "    }\n",
              "\n",
              "    .colab-df-convert {\n",
              "      background-color: #E8F0FE;\n",
              "      border: none;\n",
              "      border-radius: 50%;\n",
              "      cursor: pointer;\n",
              "      display: none;\n",
              "      fill: #1967D2;\n",
              "      height: 32px;\n",
              "      padding: 0 0 0 0;\n",
              "      width: 32px;\n",
              "    }\n",
              "\n",
              "    .colab-df-convert:hover {\n",
              "      background-color: #E2EBFA;\n",
              "      box-shadow: 0px 1px 2px rgba(60, 64, 67, 0.3), 0px 1px 3px 1px rgba(60, 64, 67, 0.15);\n",
              "      fill: #174EA6;\n",
              "    }\n",
              "\n",
              "    .colab-df-buttons div {\n",
              "      margin-bottom: 4px;\n",
              "    }\n",
              "\n",
              "    [theme=dark] .colab-df-convert {\n",
              "      background-color: #3B4455;\n",
              "      fill: #D2E3FC;\n",
              "    }\n",
              "\n",
              "    [theme=dark] .colab-df-convert:hover {\n",
              "      background-color: #434B5C;\n",
              "      box-shadow: 0px 1px 3px 1px rgba(0, 0, 0, 0.15);\n",
              "      filter: drop-shadow(0px 1px 2px rgba(0, 0, 0, 0.3));\n",
              "      fill: #FFFFFF;\n",
              "    }\n",
              "  </style>\n",
              "\n",
              "    <script>\n",
              "      const buttonEl =\n",
              "        document.querySelector('#df-2c04a863-04b6-4ebd-8260-c5f8d658dc1b button.colab-df-convert');\n",
              "      buttonEl.style.display =\n",
              "        google.colab.kernel.accessAllowed ? 'block' : 'none';\n",
              "\n",
              "      async function convertToInteractive(key) {\n",
              "        const element = document.querySelector('#df-2c04a863-04b6-4ebd-8260-c5f8d658dc1b');\n",
              "        const dataTable =\n",
              "          await google.colab.kernel.invokeFunction('convertToInteractive',\n",
              "                                                    [key], {});\n",
              "        if (!dataTable) return;\n",
              "\n",
              "        const docLinkHtml = 'Like what you see? Visit the ' +\n",
              "          '<a target=\"_blank\" href=https://colab.research.google.com/notebooks/data_table.ipynb>data table notebook</a>'\n",
              "          + ' to learn more about interactive tables.';\n",
              "        element.innerHTML = '';\n",
              "        dataTable['output_type'] = 'display_data';\n",
              "        await google.colab.output.renderOutput(dataTable, element);\n",
              "        const docLink = document.createElement('div');\n",
              "        docLink.innerHTML = docLinkHtml;\n",
              "        element.appendChild(docLink);\n",
              "      }\n",
              "    </script>\n",
              "  </div>\n",
              "\n",
              "\n",
              "<div id=\"df-93dc6b12-3c07-416a-ba29-f5b31e602973\">\n",
              "  <button class=\"colab-df-quickchart\" onclick=\"quickchart('df-93dc6b12-3c07-416a-ba29-f5b31e602973')\"\n",
              "            title=\"Suggest charts\"\n",
              "            style=\"display:none;\">\n",
              "\n",
              "<svg xmlns=\"http://www.w3.org/2000/svg\" height=\"24px\"viewBox=\"0 0 24 24\"\n",
              "     width=\"24px\">\n",
              "    <g>\n",
              "        <path d=\"M19 3H5c-1.1 0-2 .9-2 2v14c0 1.1.9 2 2 2h14c1.1 0 2-.9 2-2V5c0-1.1-.9-2-2-2zM9 17H7v-7h2v7zm4 0h-2V7h2v10zm4 0h-2v-4h2v4z\"/>\n",
              "    </g>\n",
              "</svg>\n",
              "  </button>\n",
              "\n",
              "<style>\n",
              "  .colab-df-quickchart {\n",
              "      --bg-color: #E8F0FE;\n",
              "      --fill-color: #1967D2;\n",
              "      --hover-bg-color: #E2EBFA;\n",
              "      --hover-fill-color: #174EA6;\n",
              "      --disabled-fill-color: #AAA;\n",
              "      --disabled-bg-color: #DDD;\n",
              "  }\n",
              "\n",
              "  [theme=dark] .colab-df-quickchart {\n",
              "      --bg-color: #3B4455;\n",
              "      --fill-color: #D2E3FC;\n",
              "      --hover-bg-color: #434B5C;\n",
              "      --hover-fill-color: #FFFFFF;\n",
              "      --disabled-bg-color: #3B4455;\n",
              "      --disabled-fill-color: #666;\n",
              "  }\n",
              "\n",
              "  .colab-df-quickchart {\n",
              "    background-color: var(--bg-color);\n",
              "    border: none;\n",
              "    border-radius: 50%;\n",
              "    cursor: pointer;\n",
              "    display: none;\n",
              "    fill: var(--fill-color);\n",
              "    height: 32px;\n",
              "    padding: 0;\n",
              "    width: 32px;\n",
              "  }\n",
              "\n",
              "  .colab-df-quickchart:hover {\n",
              "    background-color: var(--hover-bg-color);\n",
              "    box-shadow: 0 1px 2px rgba(60, 64, 67, 0.3), 0 1px 3px 1px rgba(60, 64, 67, 0.15);\n",
              "    fill: var(--button-hover-fill-color);\n",
              "  }\n",
              "\n",
              "  .colab-df-quickchart-complete:disabled,\n",
              "  .colab-df-quickchart-complete:disabled:hover {\n",
              "    background-color: var(--disabled-bg-color);\n",
              "    fill: var(--disabled-fill-color);\n",
              "    box-shadow: none;\n",
              "  }\n",
              "\n",
              "  .colab-df-spinner {\n",
              "    border: 2px solid var(--fill-color);\n",
              "    border-color: transparent;\n",
              "    border-bottom-color: var(--fill-color);\n",
              "    animation:\n",
              "      spin 1s steps(1) infinite;\n",
              "  }\n",
              "\n",
              "  @keyframes spin {\n",
              "    0% {\n",
              "      border-color: transparent;\n",
              "      border-bottom-color: var(--fill-color);\n",
              "      border-left-color: var(--fill-color);\n",
              "    }\n",
              "    20% {\n",
              "      border-color: transparent;\n",
              "      border-left-color: var(--fill-color);\n",
              "      border-top-color: var(--fill-color);\n",
              "    }\n",
              "    30% {\n",
              "      border-color: transparent;\n",
              "      border-left-color: var(--fill-color);\n",
              "      border-top-color: var(--fill-color);\n",
              "      border-right-color: var(--fill-color);\n",
              "    }\n",
              "    40% {\n",
              "      border-color: transparent;\n",
              "      border-right-color: var(--fill-color);\n",
              "      border-top-color: var(--fill-color);\n",
              "    }\n",
              "    60% {\n",
              "      border-color: transparent;\n",
              "      border-right-color: var(--fill-color);\n",
              "    }\n",
              "    80% {\n",
              "      border-color: transparent;\n",
              "      border-right-color: var(--fill-color);\n",
              "      border-bottom-color: var(--fill-color);\n",
              "    }\n",
              "    90% {\n",
              "      border-color: transparent;\n",
              "      border-bottom-color: var(--fill-color);\n",
              "    }\n",
              "  }\n",
              "</style>\n",
              "\n",
              "  <script>\n",
              "    async function quickchart(key) {\n",
              "      const quickchartButtonEl =\n",
              "        document.querySelector('#' + key + ' button');\n",
              "      quickchartButtonEl.disabled = true;  // To prevent multiple clicks.\n",
              "      quickchartButtonEl.classList.add('colab-df-spinner');\n",
              "      try {\n",
              "        const charts = await google.colab.kernel.invokeFunction(\n",
              "            'suggestCharts', [key], {});\n",
              "      } catch (error) {\n",
              "        console.error('Error during call to suggestCharts:', error);\n",
              "      }\n",
              "      quickchartButtonEl.classList.remove('colab-df-spinner');\n",
              "      quickchartButtonEl.classList.add('colab-df-quickchart-complete');\n",
              "    }\n",
              "    (() => {\n",
              "      let quickchartButtonEl =\n",
              "        document.querySelector('#df-93dc6b12-3c07-416a-ba29-f5b31e602973 button');\n",
              "      quickchartButtonEl.style.display =\n",
              "        google.colab.kernel.accessAllowed ? 'block' : 'none';\n",
              "    })();\n",
              "  </script>\n",
              "</div>\n",
              "    </div>\n",
              "  </div>\n"
            ],
            "application/vnd.google.colaboratory.intrinsic+json": {
              "type": "dataframe",
              "variable_name": "merged"
            }
          },
          "metadata": {},
          "execution_count": 130
        }
      ]
    },
    {
      "cell_type": "markdown",
      "source": [
        "# Graphical techniques\n"
      ],
      "metadata": {
        "id": "CQZqPg-ZFMX9"
      }
    },
    {
      "cell_type": "markdown",
      "source": [
        "## Histogram"
      ],
      "metadata": {
        "id": "Zw4T4lv5FMX9"
      }
    },
    {
      "cell_type": "code",
      "source": [
        "merged.Height.hist(bins=20)"
      ],
      "metadata": {
        "execution": {
          "iopub.status.busy": "2023-03-22T01:14:10.255160Z",
          "iopub.execute_input": "2023-03-22T01:14:10.256006Z",
          "iopub.status.idle": "2023-03-22T01:14:10.578948Z",
          "shell.execute_reply.started": "2023-03-22T01:14:10.255936Z",
          "shell.execute_reply": "2023-03-22T01:14:10.577651Z"
        },
        "trusted": true,
        "id": "4VceDp9qFMX9",
        "outputId": "8fc523f0-3248-405b-bbae-01112fd4d59e",
        "colab": {
          "base_uri": "https://localhost:8080/",
          "height": 448
        }
      },
      "execution_count": 131,
      "outputs": [
        {
          "output_type": "execute_result",
          "data": {
            "text/plain": [
              "<Axes: >"
            ]
          },
          "metadata": {},
          "execution_count": 131
        },
        {
          "output_type": "display_data",
          "data": {
            "text/plain": [
              "<Figure size 640x480 with 1 Axes>"
            ],
            "image/png": "[encoded data removed]"
          },
          "metadata": {}
        }
      ]
    },
    {
      "cell_type": "markdown",
      "source": [
        "## Normal Probability Plot"
      ],
      "metadata": {
        "id": "6o-FUKukFMX9"
      }
    },
    {
      "cell_type": "code",
      "source": [
        "fig, ax = plt.subplots(1, 2, figsize=(12, 7))\n",
        "merged.Height.hist(bins=20,ax=ax[0])\n",
        "sm.ProbPlot(merged.Height).qqplot(line='s', ax=ax[1])\n"
      ],
      "metadata": {
        "execution": {
          "iopub.status.busy": "2023-03-22T01:15:50.595333Z",
          "iopub.execute_input": "2023-03-22T01:15:50.595752Z",
          "iopub.status.idle": "2023-03-22T01:15:53.256795Z",
          "shell.execute_reply.started": "2023-03-22T01:15:50.595694Z",
          "shell.execute_reply": "2023-03-22T01:15:53.255941Z"
        },
        "trusted": true,
        "id": "HGwx3E3oFMX9",
        "outputId": "c66978a3-dd6a-4e67-daa4-cbe90e12b012",
        "colab": {
          "base_uri": "https://localhost:8080/",
          "height": 1000
        }
      },
      "execution_count": 132,
      "outputs": [
        {
          "output_type": "execute_result",
          "data": {
            "text/plain": [
              "<Figure size 1200x700 with 2 Axes>"
            ],
            "image/png": "[encoded data removed]"
          },
          "metadata": {},
          "execution_count": 132
        },
        {
          "output_type": "display_data",
          "data": {
            "text/plain": [
              "<Figure size 1200x700 with 2 Axes>"
            ],
            "image/png": "[encoded data removed]"
          },
          "metadata": {}
        }
      ]
    },
    {
      "cell_type": "markdown",
      "source": [
        "## Kernel Distribution Estimation or KDE plot"
      ],
      "metadata": {
        "id": "uRSLsi5BFMX9"
      }
    },
    {
      "cell_type": "code",
      "source": [
        "goldMedalsBasketball = merged[(merged.Medal == 'Gold')&(merged.Sport == 'Basketball')]\n",
        "goldMedalsSwimming = merged[(merged.Medal == 'Gold')&(merged.Sport == 'Swimming')]\n",
        "sns.kdeplot(data=goldMedalsBasketball[\"Height\"],shade=True,label=\"Basketball\")\n",
        "sns.kdeplot(data=goldMedalsSwimming[\"Height\"],shade=True,label=\"Swimming\")\n",
        "\n",
        "# Displaying the legend\n",
        "plt.legend()"
      ],
      "metadata": {
        "_uuid": "355b930760d3bdbd4d461ef4b98b7c73bcb6daef",
        "execution": {
          "iopub.status.busy": "2023-03-22T01:14:58.139894Z",
          "iopub.execute_input": "2023-03-22T01:14:58.140440Z",
          "iopub.status.idle": "2023-03-22T01:14:58.333484Z",
          "shell.execute_reply.started": "2023-03-22T01:14:58.140334Z",
          "shell.execute_reply": "2023-03-22T01:14:58.332433Z"
        },
        "trusted": true,
        "id": "9gU1FYYQFMX9",
        "colab": {
          "base_uri": "https://localhost:8080/",
          "height": 689
        },
        "outputId": "8a17018a-41c1-4c25-9e4a-4f5a1b7498ec"
      },
      "execution_count": 133,
      "outputs": [
        {
          "output_type": "stream",
          "name": "stderr",
          "text": [
            "<ipython-input-133-adaa94821aef>:3: FutureWarning: \n",
            "\n",
            "`shade` is now deprecated in favor of `fill`; setting `fill=True`.\n",
            "This will become an error in seaborn v0.14.0; please update your code.\n",
            "\n",
            "  sns.kdeplot(data=goldMedalsBasketball[\"Height\"],shade=True,label=\"Basketball\")\n",
            "<ipython-input-133-adaa94821aef>:4: FutureWarning: \n",
            "\n",
            "`shade` is now deprecated in favor of `fill`; setting `fill=True`.\n",
            "This will become an error in seaborn v0.14.0; please update your code.\n",
            "\n",
            "  sns.kdeplot(data=goldMedalsSwimming[\"Height\"],shade=True,label=\"Swimming\")\n"
          ]
        },
        {
          "output_type": "execute_result",
          "data": {
            "text/plain": [
              "<matplotlib.legend.Legend at 0x7d0487894be0>"
            ]
          },
          "metadata": {},
          "execution_count": 133
        },
        {
          "output_type": "display_data",
          "data": {
            "text/plain": [
              "<Figure size 640x480 with 1 Axes>"
            ],
            "image/png": "[encoded data removed]"
          },
          "metadata": {}
        }
      ]
    },
    {
      "cell_type": "markdown",
      "source": [
        "## Pie chart"
      ],
      "metadata": {
        "id": "PZhZk8DmFMX-"
      }
    },
    {
      "cell_type": "code",
      "source": [
        "goldMedals = merged[(merged.Medal == 'Gold')]\n",
        "totalGoldMedals=goldMedals.region.value_counts().reset_index(name='Medal')\n",
        "\n",
        "sorted_data = totalGoldMedals.sort_values('Medal', ascending=False).head(10)\n",
        "values = sorted_data['Medal']\n",
        "labels = sorted_data.index\n",
        "\n",
        "# Assuming totalGoldMedals DataFrame is already defined and contains 'Medal' column\n",
        "totalGoldMedals = totalGoldMedals.set_index('index')\n",
        "\n",
        "# Sorting the DataFrame by the 'Medal' column in descending order\n",
        "sorted_data = totalGoldMedals.sort_values('Medal', ascending=False)\n",
        "\n",
        "# Extracting values and labels for the top 10\n",
        "values_top10 = sorted_data['Medal'].head(10)\n",
        "labels_top10 = sorted_data.index[:10]\n",
        "\n",
        "# Extracting total medals for percentage calculation of all countries\n",
        "total_medals_all = sorted_data['Medal'].sum()\n",
        "\n",
        "# Custom autopct to show percentage of medals of top-10 countries and percentage of medals in regard to ALL countries\n",
        "def custom_autopct(pct):\n",
        "    total_top10 = sum(values_top10)\n",
        "    val = int(round(pct*total_top10/100.0))\n",
        "    percentage_of_all = (val / total_medals_all) * 100\n",
        "    return f\"{pct:.2f}%\\n{val}\\n{percentage_of_all:.2f}%\"\n",
        "\n",
        "# Creating the pie chart for top 10\n",
        "plt.figure(figsize=(10, 8))\n",
        "plt.pie(values_top10, labels=labels_top10, startangle=15, autopct=custom_autopct)\n",
        "plt.axis('equal')  # Equal aspect ratio ensures that pie is drawn as a circle.\n",
        "\n",
        "plt.title('Top 10 Countries: Medals and Their Percentages')\n",
        "\n",
        "# Adding text box\n",
        "explanation_text = 'First row: % of medals of Top-10-Countries.\\nSecond row: number of medals.\\nThird row: % of medals in regard to ALL countries'\n",
        "plt.gcf().text(0.5, 0.02, explanation_text, ha='center', va='bottom', fontsize=8, bbox=dict(facecolor='none', edgecolor='black', boxstyle='round,pad=1'))\n",
        "\n",
        "plt.show()"
      ],
      "metadata": {
        "colab": {
          "base_uri": "https://localhost:8080/",
          "height": 747
        },
        "id": "mbcFA6n2jRUn",
        "outputId": "cba25908-0dc3-40ad-9506-28ea305296cc"
      },
      "execution_count": 134,
      "outputs": [
        {
          "output_type": "display_data",
          "data": {
            "text/plain": [
              "<Figure size 1000x800 with 1 Axes>"
            ],
            "image/png": "[encoded data removed]"
          },
          "metadata": {}
        }
      ]
    },
    {
      "cell_type": "markdown",
      "source": [
        "## Bar chart"
      ],
      "metadata": {
        "id": "4i-HCankFMX-"
      }
    },
    {
      "cell_type": "code",
      "source": [
        "import ipywidgets as widgets\n",
        "from IPython.display import display, clear_output\n",
        "\n",
        "# Function to plot medals\n",
        "def plot_medals(n_countries):\n",
        "    clear_output(wait=True)\n",
        "    display(slider)  # Redisplay the slider\n",
        "    print(\"Move the slider to change the number of countries.\")  # Instruction text\n",
        "\n",
        "    data = totalGoldMedals.head(n_countries)\n",
        "    plt.figure(figsize=(20, 10))\n",
        "    bars = plt.bar(data['index'], data['Medal'])\n",
        "\n",
        "    total_medals = data['Medal'].sum()\n",
        "\n",
        "    for bar in bars:\n",
        "        height = bar.get_height()\n",
        "        percentage = f\"{(height / total_medals) * 100:.1f}%\"\n",
        "        plt.text(bar.get_x() + bar.get_width() / 2.0, height / 2, f\"{height:,}\".replace(\",\", \".\") + f\"\\n{percentage}\", ha='center', va='center')\n",
        "    # Explanation text for annotations\n",
        "    plt.text(1, max(data['Medal']) * 0.9, 'First row: Absolute number of medals\\nSecond row: % of medals to displayed countries', fontsize=10, bbox=dict(facecolor='none', edgecolor='black', boxstyle='round,pad=1'))\n",
        "\n",
        "    plt.xlabel('Country')\n",
        "    plt.ylabel('Gold Medals')\n",
        "    plt.xticks(rotation=45)\n",
        "    plt.title('Gold Medals Count by Country')\n",
        "    plt.show()\n",
        "\n",
        "# Slider widget\n",
        "slider = widgets.IntSlider(\n",
        "    value=10,\n",
        "    min=1,\n",
        "    max=20,\n",
        "    step=1,\n",
        "    description='Number of Countries:',\n",
        "    continuous_update=False\n",
        ")\n",
        "\n",
        "# Update plot function\n",
        "def update_plot(change):\n",
        "    plot_medals(change.new)\n",
        "\n",
        "slider.observe(update_plot, names='value')\n",
        "\n",
        "# Initial display\n",
        "plot_medals(slider.value)"
      ],
      "metadata": {
        "colab": {
          "base_uri": "https://localhost:8080/",
          "height": 573,
          "referenced_widgets": [
            "d2b56cc8c70e4590a9eadb20eb3f6d52",
            "4487e474c3d64b249e43aaf1ba78f78a",
            "c895981972864ead9aebc6b7046cf10b"
          ]
        },
        "id": "jnyVvjs1mnNp",
        "outputId": "11710f90-a274-4a06-a8bb-b7a805ceb1f7"
      },
      "execution_count": 135,
      "outputs": [
        {
          "output_type": "display_data",
          "data": {
            "text/plain": [
              "IntSlider(value=10, continuous_update=False, description='Number of Countries:', max=20, min=1)"
            ],
            "application/vnd.jupyter.widget-view+json": {
              "version_major": 2,
              "version_minor": 0,
              "model_id": "d2b56cc8c70e4590a9eadb20eb3f6d52"
            }
          },
          "metadata": {}
        },
        {
          "output_type": "stream",
          "name": "stdout",
          "text": [
            "Move the slider to change the number of countries.\n"
          ]
        },
        {
          "output_type": "error",
          "ename": "KeyError",
          "evalue": "'index'",
          "traceback": [
            "\u001b[0;31m---------------------------------------------------------------------------\u001b[0m",
            "\u001b[0;31mKeyError\u001b[0m                                  Traceback (most recent call last)",
            "\u001b[0;32m/usr/local/lib/python3.10/dist-packages/pandas/core/indexes/base.py\u001b[0m in \u001b[0;36mget_loc\u001b[0;34m(self, key, method, tolerance)\u001b[0m\n\u001b[1;32m   3801\u001b[0m             \u001b[0;32mtry\u001b[0m\u001b[0;34m:\u001b[0m\u001b[0;34m\u001b[0m\u001b[0;34m\u001b[0m\u001b[0m\n\u001b[0;32m-> 3802\u001b[0;31m                 \u001b[0;32mreturn\u001b[0m \u001b[0mself\u001b[0m\u001b[0;34m.\u001b[0m\u001b[0m_engine\u001b[0m\u001b[0;34m.\u001b[0m\u001b[0mget_loc\u001b[0m\u001b[0;34m(\u001b[0m\u001b[0mcasted_key\u001b[0m\u001b[0;34m)\u001b[0m\u001b[0;34m\u001b[0m\u001b[0;34m\u001b[0m\u001b[0m\n\u001b[0m\u001b[1;32m   3803\u001b[0m             \u001b[0;32mexcept\u001b[0m \u001b[0mKeyError\u001b[0m \u001b[0;32mas\u001b[0m \u001b[0merr\u001b[0m\u001b[0;34m:\u001b[0m\u001b[0;34m\u001b[0m\u001b[0;34m\u001b[0m\u001b[0m\n",
            "\u001b[0;32m/usr/local/lib/python3.10/dist-packages/pandas/_libs/index.pyx\u001b[0m in \u001b[0;36mpandas._libs.index.IndexEngine.get_loc\u001b[0;34m()\u001b[0m\n",
            "\u001b[0;32m/usr/local/lib/python3.10/dist-packages/pandas/_libs/index.pyx\u001b[0m in \u001b[0;36mpandas._libs.index.IndexEngine.get_loc\u001b[0;34m()\u001b[0m\n",
            "\u001b[0;32mpandas/_libs/hashtable_class_helper.pxi\u001b[0m in \u001b[0;36mpandas._libs.hashtable.PyObjectHashTable.get_item\u001b[0;34m()\u001b[0m\n",
            "\u001b[0;32mpandas/_libs/hashtable_class_helper.pxi\u001b[0m in \u001b[0;36mpandas._libs.hashtable.PyObjectHashTable.get_item\u001b[0;34m()\u001b[0m\n",
            "\u001b[0;31mKeyError\u001b[0m: 'index'",
            "\nThe above exception was the direct cause of the following exception:\n",
            "\u001b[0;31mKeyError\u001b[0m                                  Traceback (most recent call last)",
            "\u001b[0;32m<ipython-input-135-4c9c442011be>\u001b[0m in \u001b[0;36m<cell line: 46>\u001b[0;34m()\u001b[0m\n\u001b[1;32m     44\u001b[0m \u001b[0;34m\u001b[0m\u001b[0m\n\u001b[1;32m     45\u001b[0m \u001b[0;31m# Initial display\u001b[0m\u001b[0;34m\u001b[0m\u001b[0;34m\u001b[0m\u001b[0m\n\u001b[0;32m---> 46\u001b[0;31m \u001b[0mplot_medals\u001b[0m\u001b[0;34m(\u001b[0m\u001b[0mslider\u001b[0m\u001b[0;34m.\u001b[0m\u001b[0mvalue\u001b[0m\u001b[0;34m)\u001b[0m\u001b[0;34m\u001b[0m\u001b[0;34m\u001b[0m\u001b[0m\n\u001b[0m",
            "\u001b[0;32m<ipython-input-135-4c9c442011be>\u001b[0m in \u001b[0;36mplot_medals\u001b[0;34m(n_countries)\u001b[0m\n\u001b[1;32m     10\u001b[0m     \u001b[0mdata\u001b[0m \u001b[0;34m=\u001b[0m \u001b[0mtotalGoldMedals\u001b[0m\u001b[0;34m.\u001b[0m\u001b[0mhead\u001b[0m\u001b[0;34m(\u001b[0m\u001b[0mn_countries\u001b[0m\u001b[0;34m)\u001b[0m\u001b[0;34m\u001b[0m\u001b[0;34m\u001b[0m\u001b[0m\n\u001b[1;32m     11\u001b[0m     \u001b[0mplt\u001b[0m\u001b[0;34m.\u001b[0m\u001b[0mfigure\u001b[0m\u001b[0;34m(\u001b[0m\u001b[0mfigsize\u001b[0m\u001b[0;34m=\u001b[0m\u001b[0;34m(\u001b[0m\u001b[0;36m20\u001b[0m\u001b[0;34m,\u001b[0m \u001b[0;36m10\u001b[0m\u001b[0;34m)\u001b[0m\u001b[0;34m)\u001b[0m\u001b[0;34m\u001b[0m\u001b[0;34m\u001b[0m\u001b[0m\n\u001b[0;32m---> 12\u001b[0;31m     \u001b[0mbars\u001b[0m \u001b[0;34m=\u001b[0m \u001b[0mplt\u001b[0m\u001b[0;34m.\u001b[0m\u001b[0mbar\u001b[0m\u001b[0;34m(\u001b[0m\u001b[0mdata\u001b[0m\u001b[0;34m[\u001b[0m\u001b[0;34m'index'\u001b[0m\u001b[0;34m]\u001b[0m\u001b[0;34m,\u001b[0m \u001b[0mdata\u001b[0m\u001b[0;34m[\u001b[0m\u001b[0;34m'Medal'\u001b[0m\u001b[0;34m]\u001b[0m\u001b[0;34m)\u001b[0m\u001b[0;34m\u001b[0m\u001b[0;34m\u001b[0m\u001b[0m\n\u001b[0m\u001b[1;32m     13\u001b[0m \u001b[0;34m\u001b[0m\u001b[0m\n\u001b[1;32m     14\u001b[0m     \u001b[0mtotal_medals\u001b[0m \u001b[0;34m=\u001b[0m \u001b[0mdata\u001b[0m\u001b[0;34m[\u001b[0m\u001b[0;34m'Medal'\u001b[0m\u001b[0;34m]\u001b[0m\u001b[0;34m.\u001b[0m\u001b[0msum\u001b[0m\u001b[0;34m(\u001b[0m\u001b[0;34m)\u001b[0m\u001b[0;34m\u001b[0m\u001b[0;34m\u001b[0m\u001b[0m\n",
            "\u001b[0;32m/usr/local/lib/python3.10/dist-packages/pandas/core/frame.py\u001b[0m in \u001b[0;36m__getitem__\u001b[0;34m(self, key)\u001b[0m\n\u001b[1;32m   3805\u001b[0m             \u001b[0;32mif\u001b[0m \u001b[0mself\u001b[0m\u001b[0;34m.\u001b[0m\u001b[0mcolumns\u001b[0m\u001b[0;34m.\u001b[0m\u001b[0mnlevels\u001b[0m \u001b[0;34m>\u001b[0m \u001b[0;36m1\u001b[0m\u001b[0;34m:\u001b[0m\u001b[0;34m\u001b[0m\u001b[0;34m\u001b[0m\u001b[0m\n\u001b[1;32m   3806\u001b[0m                 \u001b[0;32mreturn\u001b[0m \u001b[0mself\u001b[0m\u001b[0;34m.\u001b[0m\u001b[0m_getitem_multilevel\u001b[0m\u001b[0;34m(\u001b[0m\u001b[0mkey\u001b[0m\u001b[0;34m)\u001b[0m\u001b[0;34m\u001b[0m\u001b[0;34m\u001b[0m\u001b[0m\n\u001b[0;32m-> 3807\u001b[0;31m             \u001b[0mindexer\u001b[0m \u001b[0;34m=\u001b[0m \u001b[0mself\u001b[0m\u001b[0;34m.\u001b[0m\u001b[0mcolumns\u001b[0m\u001b[0;34m.\u001b[0m\u001b[0mget_loc\u001b[0m\u001b[0;34m(\u001b[0m\u001b[0mkey\u001b[0m\u001b[0;34m)\u001b[0m\u001b[0;34m\u001b[0m\u001b[0;34m\u001b[0m\u001b[0m\n\u001b[0m\u001b[1;32m   3808\u001b[0m             \u001b[0;32mif\u001b[0m \u001b[0mis_integer\u001b[0m\u001b[0;34m(\u001b[0m\u001b[0mindexer\u001b[0m\u001b[0;34m)\u001b[0m\u001b[0;34m:\u001b[0m\u001b[0;34m\u001b[0m\u001b[0;34m\u001b[0m\u001b[0m\n\u001b[1;32m   3809\u001b[0m                 \u001b[0mindexer\u001b[0m \u001b[0;34m=\u001b[0m \u001b[0;34m[\u001b[0m\u001b[0mindexer\u001b[0m\u001b[0;34m]\u001b[0m\u001b[0;34m\u001b[0m\u001b[0;34m\u001b[0m\u001b[0m\n",
            "\u001b[0;32m/usr/local/lib/python3.10/dist-packages/pandas/core/indexes/base.py\u001b[0m in \u001b[0;36mget_loc\u001b[0;34m(self, key, method, tolerance)\u001b[0m\n\u001b[1;32m   3802\u001b[0m                 \u001b[0;32mreturn\u001b[0m \u001b[0mself\u001b[0m\u001b[0;34m.\u001b[0m\u001b[0m_engine\u001b[0m\u001b[0;34m.\u001b[0m\u001b[0mget_loc\u001b[0m\u001b[0;34m(\u001b[0m\u001b[0mcasted_key\u001b[0m\u001b[0;34m)\u001b[0m\u001b[0;34m\u001b[0m\u001b[0;34m\u001b[0m\u001b[0m\n\u001b[1;32m   3803\u001b[0m             \u001b[0;32mexcept\u001b[0m \u001b[0mKeyError\u001b[0m \u001b[0;32mas\u001b[0m \u001b[0merr\u001b[0m\u001b[0;34m:\u001b[0m\u001b[0;34m\u001b[0m\u001b[0;34m\u001b[0m\u001b[0m\n\u001b[0;32m-> 3804\u001b[0;31m                 \u001b[0;32mraise\u001b[0m \u001b[0mKeyError\u001b[0m\u001b[0;34m(\u001b[0m\u001b[0mkey\u001b[0m\u001b[0;34m)\u001b[0m \u001b[0;32mfrom\u001b[0m \u001b[0merr\u001b[0m\u001b[0;34m\u001b[0m\u001b[0;34m\u001b[0m\u001b[0m\n\u001b[0m\u001b[1;32m   3805\u001b[0m             \u001b[0;32mexcept\u001b[0m \u001b[0mTypeError\u001b[0m\u001b[0;34m:\u001b[0m\u001b[0;34m\u001b[0m\u001b[0;34m\u001b[0m\u001b[0m\n\u001b[1;32m   3806\u001b[0m                 \u001b[0;31m# If we have a listlike key, _check_indexing_error will raise\u001b[0m\u001b[0;34m\u001b[0m\u001b[0;34m\u001b[0m\u001b[0m\n",
            "\u001b[0;31mKeyError\u001b[0m: 'index'"
          ]
        },
        {
          "output_type": "display_data",
          "data": {
            "text/plain": [
              "<Figure size 2000x1000 with 0 Axes>"
            ]
          },
          "metadata": {}
        }
      ]
    },
    {
      "cell_type": "code",
      "source": [
        "import ipywidgets as widgets\n",
        "from IPython.display import display\n",
        "\n",
        "# Assuming totalGoldMedals is your DataFrame sorted by medals\n",
        "\n",
        "def plot_medals(n_countries):\n",
        "    # Sort if needed: totalGoldMedals.sort_values('Medal', ascending=False, inplace=True)\n",
        "    data = totalGoldMedals.head(n_countries)\n",
        "    plt.figure(figsize=(20, 10))\n",
        "    bars = plt.bar(data['index'], data['Medal'])\n",
        "\n",
        "    total_medals = data['Medal'].sum()\n",
        "\n",
        "    for bar in bars:\n",
        "        height = bar.get_height()\n",
        "        percentage = f\"{(height / total_medals) * 100:.1f}%\"\n",
        "        plt.text(bar.get_x() + bar.get_width() / 2.0, height / 2, f'{height}\\n{percentage}', ha='center', va='bottom')\n",
        "\n",
        "    plt.xlabel('Country')\n",
        "    plt.ylabel('Gold Medals')\n",
        "    plt.xticks(rotation=45)\n",
        "    plt.show()\n",
        "\n",
        "# Create a slider widget\n",
        "slider = widgets.IntSlider(\n",
        "    value=10,\n",
        "    min=1,\n",
        "    max=20,\n",
        "    step=1,\n",
        "    description='Number of Countries:',\n",
        "    continuous_update=False\n",
        ")\n",
        "\n",
        "# Create a function to update the plot\n",
        "def update_plot(change):\n",
        "    plot_medals(change.new)\n",
        "\n",
        "slider.observe(update_plot, names='value')\n",
        "\n",
        "# Initial plot\n",
        "plot_medals(slider.value)\n",
        "\n",
        "# Display the slider\n",
        "display(slider)"
      ],
      "metadata": {
        "colab": {
          "base_uri": "https://localhost:8080/",
          "height": 522
        },
        "id": "7PP8dz9zkxVm",
        "outputId": "aeefb330-d569-4e2c-d822-ce3a4e88fad6"
      },
      "execution_count": 139,
      "outputs": [
        {
          "output_type": "error",
          "ename": "KeyError",
          "evalue": "'index'",
          "traceback": [
            "\u001b[0;31m---------------------------------------------------------------------------\u001b[0m",
            "\u001b[0;31mKeyError\u001b[0m                                  Traceback (most recent call last)",
            "\u001b[0;32m/usr/local/lib/python3.10/dist-packages/pandas/core/indexes/base.py\u001b[0m in \u001b[0;36mget_loc\u001b[0;34m(self, key, method, tolerance)\u001b[0m\n\u001b[1;32m   3801\u001b[0m             \u001b[0;32mtry\u001b[0m\u001b[0;34m:\u001b[0m\u001b[0;34m\u001b[0m\u001b[0;34m\u001b[0m\u001b[0m\n\u001b[0;32m-> 3802\u001b[0;31m                 \u001b[0;32mreturn\u001b[0m \u001b[0mself\u001b[0m\u001b[0;34m.\u001b[0m\u001b[0m_engine\u001b[0m\u001b[0;34m.\u001b[0m\u001b[0mget_loc\u001b[0m\u001b[0;34m(\u001b[0m\u001b[0mcasted_key\u001b[0m\u001b[0;34m)\u001b[0m\u001b[0;34m\u001b[0m\u001b[0;34m\u001b[0m\u001b[0m\n\u001b[0m\u001b[1;32m   3803\u001b[0m             \u001b[0;32mexcept\u001b[0m \u001b[0mKeyError\u001b[0m \u001b[0;32mas\u001b[0m \u001b[0merr\u001b[0m\u001b[0;34m:\u001b[0m\u001b[0;34m\u001b[0m\u001b[0;34m\u001b[0m\u001b[0m\n",
            "\u001b[0;32m/usr/local/lib/python3.10/dist-packages/pandas/_libs/index.pyx\u001b[0m in \u001b[0;36mpandas._libs.index.IndexEngine.get_loc\u001b[0;34m()\u001b[0m\n",
            "\u001b[0;32m/usr/local/lib/python3.10/dist-packages/pandas/_libs/index.pyx\u001b[0m in \u001b[0;36mpandas._libs.index.IndexEngine.get_loc\u001b[0;34m()\u001b[0m\n",
            "\u001b[0;32mpandas/_libs/hashtable_class_helper.pxi\u001b[0m in \u001b[0;36mpandas._libs.hashtable.PyObjectHashTable.get_item\u001b[0;34m()\u001b[0m\n",
            "\u001b[0;32mpandas/_libs/hashtable_class_helper.pxi\u001b[0m in \u001b[0;36mpandas._libs.hashtable.PyObjectHashTable.get_item\u001b[0;34m()\u001b[0m\n",
            "\u001b[0;31mKeyError\u001b[0m: 'index'",
            "\nThe above exception was the direct cause of the following exception:\n",
            "\u001b[0;31mKeyError\u001b[0m                                  Traceback (most recent call last)",
            "\u001b[0;32m<ipython-input-139-ebce6a7f46be>\u001b[0m in \u001b[0;36m<cell line: 41>\u001b[0;34m()\u001b[0m\n\u001b[1;32m     39\u001b[0m \u001b[0;34m\u001b[0m\u001b[0m\n\u001b[1;32m     40\u001b[0m \u001b[0;31m# Initial plot\u001b[0m\u001b[0;34m\u001b[0m\u001b[0;34m\u001b[0m\u001b[0m\n\u001b[0;32m---> 41\u001b[0;31m \u001b[0mplot_medals\u001b[0m\u001b[0;34m(\u001b[0m\u001b[0mslider\u001b[0m\u001b[0;34m.\u001b[0m\u001b[0mvalue\u001b[0m\u001b[0;34m)\u001b[0m\u001b[0;34m\u001b[0m\u001b[0;34m\u001b[0m\u001b[0m\n\u001b[0m\u001b[1;32m     42\u001b[0m \u001b[0;34m\u001b[0m\u001b[0m\n\u001b[1;32m     43\u001b[0m \u001b[0;31m# Display the slider\u001b[0m\u001b[0;34m\u001b[0m\u001b[0;34m\u001b[0m\u001b[0m\n",
            "\u001b[0;32m<ipython-input-139-ebce6a7f46be>\u001b[0m in \u001b[0;36mplot_medals\u001b[0;34m(n_countries)\u001b[0m\n\u001b[1;32m      8\u001b[0m     \u001b[0mdata\u001b[0m \u001b[0;34m=\u001b[0m \u001b[0mtotalGoldMedals\u001b[0m\u001b[0;34m.\u001b[0m\u001b[0mhead\u001b[0m\u001b[0;34m(\u001b[0m\u001b[0mn_countries\u001b[0m\u001b[0;34m)\u001b[0m\u001b[0;34m\u001b[0m\u001b[0;34m\u001b[0m\u001b[0m\n\u001b[1;32m      9\u001b[0m     \u001b[0mplt\u001b[0m\u001b[0;34m.\u001b[0m\u001b[0mfigure\u001b[0m\u001b[0;34m(\u001b[0m\u001b[0mfigsize\u001b[0m\u001b[0;34m=\u001b[0m\u001b[0;34m(\u001b[0m\u001b[0;36m20\u001b[0m\u001b[0;34m,\u001b[0m \u001b[0;36m10\u001b[0m\u001b[0;34m)\u001b[0m\u001b[0;34m)\u001b[0m\u001b[0;34m\u001b[0m\u001b[0;34m\u001b[0m\u001b[0m\n\u001b[0;32m---> 10\u001b[0;31m     \u001b[0mbars\u001b[0m \u001b[0;34m=\u001b[0m \u001b[0mplt\u001b[0m\u001b[0;34m.\u001b[0m\u001b[0mbar\u001b[0m\u001b[0;34m(\u001b[0m\u001b[0mdata\u001b[0m\u001b[0;34m[\u001b[0m\u001b[0;34m'index'\u001b[0m\u001b[0;34m]\u001b[0m\u001b[0;34m,\u001b[0m \u001b[0mdata\u001b[0m\u001b[0;34m[\u001b[0m\u001b[0;34m'Medal'\u001b[0m\u001b[0;34m]\u001b[0m\u001b[0;34m)\u001b[0m\u001b[0;34m\u001b[0m\u001b[0;34m\u001b[0m\u001b[0m\n\u001b[0m\u001b[1;32m     11\u001b[0m \u001b[0;34m\u001b[0m\u001b[0m\n\u001b[1;32m     12\u001b[0m     \u001b[0mtotal_medals\u001b[0m \u001b[0;34m=\u001b[0m \u001b[0mdata\u001b[0m\u001b[0;34m[\u001b[0m\u001b[0;34m'Medal'\u001b[0m\u001b[0;34m]\u001b[0m\u001b[0;34m.\u001b[0m\u001b[0msum\u001b[0m\u001b[0;34m(\u001b[0m\u001b[0;34m)\u001b[0m\u001b[0;34m\u001b[0m\u001b[0;34m\u001b[0m\u001b[0m\n",
            "\u001b[0;32m/usr/local/lib/python3.10/dist-packages/pandas/core/frame.py\u001b[0m in \u001b[0;36m__getitem__\u001b[0;34m(self, key)\u001b[0m\n\u001b[1;32m   3805\u001b[0m             \u001b[0;32mif\u001b[0m \u001b[0mself\u001b[0m\u001b[0;34m.\u001b[0m\u001b[0mcolumns\u001b[0m\u001b[0;34m.\u001b[0m\u001b[0mnlevels\u001b[0m \u001b[0;34m>\u001b[0m \u001b[0;36m1\u001b[0m\u001b[0;34m:\u001b[0m\u001b[0;34m\u001b[0m\u001b[0;34m\u001b[0m\u001b[0m\n\u001b[1;32m   3806\u001b[0m                 \u001b[0;32mreturn\u001b[0m \u001b[0mself\u001b[0m\u001b[0;34m.\u001b[0m\u001b[0m_getitem_multilevel\u001b[0m\u001b[0;34m(\u001b[0m\u001b[0mkey\u001b[0m\u001b[0;34m)\u001b[0m\u001b[0;34m\u001b[0m\u001b[0;34m\u001b[0m\u001b[0m\n\u001b[0;32m-> 3807\u001b[0;31m             \u001b[0mindexer\u001b[0m \u001b[0;34m=\u001b[0m \u001b[0mself\u001b[0m\u001b[0;34m.\u001b[0m\u001b[0mcolumns\u001b[0m\u001b[0;34m.\u001b[0m\u001b[0mget_loc\u001b[0m\u001b[0;34m(\u001b[0m\u001b[0mkey\u001b[0m\u001b[0;34m)\u001b[0m\u001b[0;34m\u001b[0m\u001b[0;34m\u001b[0m\u001b[0m\n\u001b[0m\u001b[1;32m   3808\u001b[0m             \u001b[0;32mif\u001b[0m \u001b[0mis_integer\u001b[0m\u001b[0;34m(\u001b[0m\u001b[0mindexer\u001b[0m\u001b[0;34m)\u001b[0m\u001b[0;34m:\u001b[0m\u001b[0;34m\u001b[0m\u001b[0;34m\u001b[0m\u001b[0m\n\u001b[1;32m   3809\u001b[0m                 \u001b[0mindexer\u001b[0m \u001b[0;34m=\u001b[0m \u001b[0;34m[\u001b[0m\u001b[0mindexer\u001b[0m\u001b[0;34m]\u001b[0m\u001b[0;34m\u001b[0m\u001b[0;34m\u001b[0m\u001b[0m\n",
            "\u001b[0;32m/usr/local/lib/python3.10/dist-packages/pandas/core/indexes/base.py\u001b[0m in \u001b[0;36mget_loc\u001b[0;34m(self, key, method, tolerance)\u001b[0m\n\u001b[1;32m   3802\u001b[0m                 \u001b[0;32mreturn\u001b[0m \u001b[0mself\u001b[0m\u001b[0;34m.\u001b[0m\u001b[0m_engine\u001b[0m\u001b[0;34m.\u001b[0m\u001b[0mget_loc\u001b[0m\u001b[0;34m(\u001b[0m\u001b[0mcasted_key\u001b[0m\u001b[0;34m)\u001b[0m\u001b[0;34m\u001b[0m\u001b[0;34m\u001b[0m\u001b[0m\n\u001b[1;32m   3803\u001b[0m             \u001b[0;32mexcept\u001b[0m \u001b[0mKeyError\u001b[0m \u001b[0;32mas\u001b[0m \u001b[0merr\u001b[0m\u001b[0;34m:\u001b[0m\u001b[0;34m\u001b[0m\u001b[0;34m\u001b[0m\u001b[0m\n\u001b[0;32m-> 3804\u001b[0;31m                 \u001b[0;32mraise\u001b[0m \u001b[0mKeyError\u001b[0m\u001b[0;34m(\u001b[0m\u001b[0mkey\u001b[0m\u001b[0;34m)\u001b[0m \u001b[0;32mfrom\u001b[0m \u001b[0merr\u001b[0m\u001b[0;34m\u001b[0m\u001b[0;34m\u001b[0m\u001b[0m\n\u001b[0m\u001b[1;32m   3805\u001b[0m             \u001b[0;32mexcept\u001b[0m \u001b[0mTypeError\u001b[0m\u001b[0;34m:\u001b[0m\u001b[0;34m\u001b[0m\u001b[0;34m\u001b[0m\u001b[0m\n\u001b[1;32m   3806\u001b[0m                 \u001b[0;31m# If we have a listlike key, _check_indexing_error will raise\u001b[0m\u001b[0;34m\u001b[0m\u001b[0;34m\u001b[0m\u001b[0m\n",
            "\u001b[0;31mKeyError\u001b[0m: 'index'"
          ]
        },
        {
          "output_type": "display_data",
          "data": {
            "text/plain": [
              "<Figure size 2000x1000 with 0 Axes>"
            ]
          },
          "metadata": {}
        }
      ]
    },
    {
      "cell_type": "markdown",
      "source": [
        "## Stacked bar chart"
      ],
      "metadata": {
        "id": "WDPu-LhwFMX-"
      }
    },
    {
      "cell_type": "code",
      "source": [
        "SilverMedals = merged[(merged.Medal == 'Silver')]\n",
        "bronzeMedals = merged[(merged.Medal == 'Bronze')]\n",
        "goldMedals = merged[(merged.Medal == 'Gold')]\n",
        "s=SilverMedals.region.value_counts().reset_index(name='Silver')\n",
        "b=bronzeMedals.region.value_counts().reset_index(name='Bronze')\n",
        "g=goldMedals.region.value_counts().reset_index(name='Gold')\n",
        "medal_data=pd.merge(g,pd.merge(s,b)).head(20)"
      ],
      "metadata": {
        "execution": {
          "iopub.status.busy": "2023-03-22T01:16:15.069779Z",
          "iopub.execute_input": "2023-03-22T01:16:15.070178Z",
          "iopub.status.idle": "2023-03-22T01:16:15.165148Z",
          "shell.execute_reply.started": "2023-03-22T01:16:15.070102Z",
          "shell.execute_reply": "2023-03-22T01:16:15.163857Z"
        },
        "trusted": true,
        "id": "TDnH0snDFMX-"
      },
      "execution_count": 137,
      "outputs": []
    },
    {
      "cell_type": "code",
      "source": [
        "import matplotlib.pyplot as plt\n",
        "import pandas as pd\n",
        "import ipywidgets as widgets\n",
        "from IPython.display import display, clear_output\n",
        "\n",
        "# Assuming medal_data DataFrame is already prepared\n",
        "# Example creation for context\n",
        "# medal_data = pd.merge(g, pd.merge(s, b)).head(20)\n",
        "\n",
        "def plot_medals(num_countries):\n",
        "    clear_output(wait=True)\n",
        "    display(slider)\n",
        "\n",
        "    data = medal_data.head(num_countries)\n",
        "    fig, ax = plt.subplots(figsize=(16, 8))\n",
        "    data.plot(x='index', kind='bar', stacked=True, title=f'Distribution of Medals for Top {num_countries} Countries', ax=ax)\n",
        "\n",
        "    total_medals = data[['Gold', 'Silver', 'Bronze']].sum().sum()\n",
        "\n",
        "    for i, row in data.iterrows():\n",
        "        cum_height = 0\n",
        "        for medal_type in ['Gold', 'Silver', 'Bronze']:\n",
        "            value = row[medal_type]\n",
        "            if value > 0:\n",
        "                # Formatting the number with a dot as the thousand separator\n",
        "                formatted_value = f\"{value:,}\".replace(\",\", \".\")\n",
        "                percentage = (value / total_medals) * 100\n",
        "                # Annotation for absolute value and percentage\n",
        "                ax.text(i, cum_height + value / 2, f\"{formatted_value}\\n({percentage:.1f}%)\", ha='center', va='center')\n",
        "                cum_height += value\n",
        "\n",
        "    plt.xticks(rotation=45)\n",
        "    plt.ylabel('Number of Medals')\n",
        "    plt.xlabel('Country')\n",
        "    plt.show()\n",
        "\n",
        "slider = widgets.IntSlider(\n",
        "    value=20,  # Initial number of countries\n",
        "    min=1,  # Minimum number of countries\n",
        "    max=len(medal_data),  # Maximum number of countries\n",
        "    step=1,  # Step size\n",
        "    description='Number of Countries:',\n",
        "    continuous_update=False\n",
        ")\n",
        "\n",
        "def on_slider_change(change):\n",
        "    plot_medals(change.new)\n",
        "\n",
        "slider.observe(on_slider_change, names='value')\n",
        "\n",
        "display(slider)\n",
        "plot_medals(slider.value)\n"
      ],
      "metadata": {
        "colab": {
          "base_uri": "https://localhost:8080/",
          "height": 806,
          "referenced_widgets": [
            "1e869c1048d34e90a5347aa9bb1717ab",
            "3a18a4ec062f4c04870c635601408b0d",
            "86e0d357b13f47eab3a5608fad72038e"
          ]
        },
        "id": "b5pNltrtpBph",
        "outputId": "726d64b2-2f52-4d68-8310-6ed58a0fa56e"
      },
      "execution_count": 138,
      "outputs": [
        {
          "output_type": "display_data",
          "data": {
            "text/plain": [
              "IntSlider(value=20, continuous_update=False, description='Number of Countries:', max=20, min=1)"
            ],
            "application/vnd.jupyter.widget-view+json": {
              "version_major": 2,
              "version_minor": 0,
              "model_id": "1e869c1048d34e90a5347aa9bb1717ab"
            }
          },
          "metadata": {}
        },
        {
          "output_type": "display_data",
          "data": {
            "text/plain": [
              "<Figure size 1600x800 with 1 Axes>"
            ],
            "image/png": "[encoded data removed]"
          },
          "metadata": {}
        }
      ]
    },
    {
      "cell_type": "markdown",
      "source": [
        "## Line chart"
      ],
      "metadata": {
        "id": "8i28s61yFMX-"
      }
    },
    {
      "cell_type": "code",
      "source": [
        "import seaborn as sns\n",
        "import matplotlib.pyplot as plt\n",
        "\n",
        "# Assuming womenInOlympics DataFrame is already defined\n",
        "womencount = womenInOlympics.groupby('Year')['Name'].count()\n",
        "\n",
        "# Correct usage of sns.lineplot()\n",
        "sns.lineplot(x=womencount.index, y=womencount.values)\n",
        "plt.title('Number of Woman Athletes per Edition of the Games')\n",
        "plt.xlabel('Year')\n",
        "plt.ylabel('Number of Athletes')\n",
        "\n",
        "plt.show()"
      ],
      "metadata": {
        "execution": {
          "iopub.status.busy": "2023-03-22T01:22:41.269445Z",
          "iopub.execute_input": "2023-03-22T01:22:41.269953Z",
          "iopub.status.idle": "2023-03-22T01:22:41.644406Z",
          "shell.execute_reply.started": "2023-03-22T01:22:41.269900Z",
          "shell.execute_reply": "2023-03-22T01:22:41.643050Z"
        },
        "trusted": true,
        "id": "iJUvFGybFMX-"
      },
      "execution_count": null,
      "outputs": []
    },
    {
      "cell_type": "markdown",
      "source": [
        "## Run Sequence plot"
      ],
      "metadata": {
        "id": "J3ybzDb_FMX-"
      }
    },
    {
      "cell_type": "code",
      "source": [
        "figure(figsize=(8, 6), dpi=80)\n",
        "merged.Height.plot()"
      ],
      "metadata": {
        "execution": {
          "iopub.status.busy": "2023-03-22T01:24:17.066927Z",
          "iopub.execute_input": "2023-03-22T01:24:17.067267Z",
          "iopub.status.idle": "2023-03-22T01:24:18.426876Z",
          "shell.execute_reply.started": "2023-03-22T01:24:17.067209Z",
          "shell.execute_reply": "2023-03-22T01:24:18.425886Z"
        },
        "trusted": true,
        "id": "9D1pIdQzFMX-"
      },
      "execution_count": null,
      "outputs": []
    },
    {
      "cell_type": "markdown",
      "source": [
        "## Area plot"
      ],
      "metadata": {
        "id": "6cH-GQmGFMX_"
      }
    },
    {
      "cell_type": "code",
      "source": [
        "womenGold = merged[(merged.Sex == 'F') & (merged.Medal == 'Gold')& (merged.Season == 'Summer')]\n",
        "menGold = merged[(merged.Sex == 'M') & (merged.Medal == 'Gold')& (merged.Season == 'Summer')]\n",
        "womencount=womenGold.groupby(womenGold.Year).count()\n",
        "mencount=menGold.groupby(menGold.Year).count()\n",
        "x=pd.DataFrame(womencount.ID)\n",
        "x=x.rename(columns={\"ID\": \"Women\"})\n",
        "y=pd.DataFrame(mencount.ID)\n",
        "y=y.rename(columns={\"ID\": \"Men\"})\n",
        "NumberOfGold=x.join(y)\n"
      ],
      "metadata": {
        "execution": {
          "iopub.status.busy": "2023-03-22T01:27:44.289113Z",
          "iopub.execute_input": "2023-03-22T01:27:44.289742Z",
          "iopub.status.idle": "2023-03-22T01:27:44.405344Z",
          "shell.execute_reply.started": "2023-03-22T01:27:44.289669Z",
          "shell.execute_reply": "2023-03-22T01:27:44.404653Z"
        },
        "trusted": true,
        "id": "r_M1gow5FMX_"
      },
      "execution_count": null,
      "outputs": []
    },
    {
      "cell_type": "code",
      "source": [
        "NumberOfGold.plot.area(stacked=False,colors=['pink','steelblue'],figsize=(18, 8))\n",
        "plt.title('Medals won by woman in comparison with men per edition of the Games')"
      ],
      "metadata": {
        "execution": {
          "iopub.status.busy": "2023-03-22T01:27:47.106785Z",
          "iopub.execute_input": "2023-03-22T01:27:47.107520Z",
          "iopub.status.idle": "2023-03-22T01:27:47.567244Z",
          "shell.execute_reply.started": "2023-03-22T01:27:47.107410Z",
          "shell.execute_reply": "2023-03-22T01:27:47.566211Z"
        },
        "trusted": true,
        "id": "3mKdQ7G-FMX_"
      },
      "execution_count": null,
      "outputs": []
    },
    {
      "cell_type": "markdown",
      "source": [
        "## Box plot"
      ],
      "metadata": {
        "id": "jyX_rh6NFMX_"
      }
    },
    {
      "cell_type": "code",
      "source": [
        "figure(figsize=(8, 6), dpi=80)\n",
        "merged.boxplot(column=['Height', 'Weight', 'Age'])"
      ],
      "metadata": {
        "execution": {
          "iopub.status.busy": "2023-03-22T01:38:00.063149Z",
          "iopub.execute_input": "2023-03-22T01:38:00.063560Z",
          "iopub.status.idle": "2023-03-22T01:38:00.449642Z",
          "shell.execute_reply.started": "2023-03-22T01:38:00.063500Z",
          "shell.execute_reply": "2023-03-22T01:38:00.448057Z"
        },
        "trusted": true,
        "id": "3SSncCvKFMX_"
      },
      "execution_count": null,
      "outputs": []
    },
    {
      "cell_type": "markdown",
      "source": [
        "## Scatter plot"
      ],
      "metadata": {
        "id": "yazqx0bWFMX_"
      }
    },
    {
      "cell_type": "code",
      "source": [
        "figure(figsize=(8, 6), dpi=80)\n",
        "sns.scatterplot(x='Height',y='Weight',data=merged)"
      ],
      "metadata": {
        "execution": {
          "iopub.status.busy": "2023-03-22T01:40:25.562330Z",
          "iopub.execute_input": "2023-03-22T01:40:25.562757Z",
          "iopub.status.idle": "2023-03-22T01:40:28.062244Z",
          "shell.execute_reply.started": "2023-03-22T01:40:25.562687Z",
          "shell.execute_reply": "2023-03-22T01:40:28.061360Z"
        },
        "trusted": true,
        "id": "BjdVT8vJFMX_"
      },
      "execution_count": null,
      "outputs": []
    },
    {
      "cell_type": "code",
      "source": [
        "sns.scatterplot(x='Height',y='Weight',hue=\"Sex\",data=merged)"
      ],
      "metadata": {
        "execution": {
          "iopub.status.busy": "2023-03-22T01:41:16.761698Z",
          "iopub.execute_input": "2023-03-22T01:41:16.762286Z",
          "iopub.status.idle": "2023-03-22T01:41:30.591417Z",
          "shell.execute_reply.started": "2023-03-22T01:41:16.762170Z",
          "shell.execute_reply": "2023-03-22T01:41:30.590415Z"
        },
        "trusted": true,
        "id": "mtDi0cpwFMX_"
      },
      "execution_count": null,
      "outputs": []
    },
    {
      "cell_type": "markdown",
      "source": [
        "## Lag plot\n"
      ],
      "metadata": {
        "id": "qGQU9BUZFMX_"
      }
    },
    {
      "cell_type": "code",
      "source": [
        "#shuffle dataset\n",
        "merged=merged.sample(frac=1)"
      ],
      "metadata": {
        "id": "rsLUWqkRFMX_"
      },
      "execution_count": null,
      "outputs": []
    },
    {
      "cell_type": "code",
      "source": [
        "figure(figsize=(8, 6), dpi=80)\n",
        "pd.plotting.lag_plot(merged.Weight,lag=1)"
      ],
      "metadata": {
        "execution": {
          "iopub.status.busy": "2023-03-22T01:45:00.077723Z",
          "iopub.execute_input": "2023-03-22T01:45:00.078141Z",
          "iopub.status.idle": "2023-03-22T01:45:02.500514Z",
          "shell.execute_reply.started": "2023-03-22T01:45:00.078078Z",
          "shell.execute_reply": "2023-03-22T01:45:02.499382Z"
        },
        "trusted": true,
        "id": "l3sAfvqKFMX_"
      },
      "execution_count": null,
      "outputs": []
    },
    {
      "cell_type": "markdown",
      "source": [
        "## Pair plot"
      ],
      "metadata": {
        "id": "9mM2zd9sFMYA"
      }
    },
    {
      "cell_type": "code",
      "source": [
        "sns.pairplot(merged[['Age','Height','Weight']])"
      ],
      "metadata": {
        "execution": {
          "iopub.status.busy": "2023-03-22T01:49:52.634657Z",
          "iopub.execute_input": "2023-03-22T01:49:52.635046Z",
          "iopub.status.idle": "2023-03-22T01:50:07.851668Z",
          "shell.execute_reply.started": "2023-03-22T01:49:52.634991Z",
          "shell.execute_reply": "2023-03-22T01:50:07.850662Z"
        },
        "trusted": true,
        "id": "L0ytDtvAFMYA"
      },
      "execution_count": null,
      "outputs": []
    },
    {
      "cell_type": "markdown",
      "source": [
        "## Heatmap"
      ],
      "metadata": {
        "id": "poXtsaiiFMYA"
      }
    },
    {
      "cell_type": "code",
      "source": [
        "sns.heatmap(merged[['Age','Height','Weight']].corr(), cmap=\"YlGnBu\", annot=True)"
      ],
      "metadata": {
        "execution": {
          "iopub.status.busy": "2023-03-22T01:50:07.853261Z",
          "iopub.execute_input": "2023-03-22T01:50:07.853619Z",
          "iopub.status.idle": "2023-03-22T01:50:08.148221Z",
          "shell.execute_reply.started": "2023-03-22T01:50:07.853544Z",
          "shell.execute_reply": "2023-03-22T01:50:08.146938Z"
        },
        "trusted": true,
        "id": "hvJjh38wFMYA"
      },
      "execution_count": null,
      "outputs": []
    },
    {
      "cell_type": "markdown",
      "source": [
        "# More Questions\n",
        "\n",
        "We can use these or more such tehniques to find  answers for questions such as\n",
        "1. Which countries have most and least number of Women gold medalist.\n",
        "2. Is there any country where number of women who won medals are more than medals won by men of same country.\n",
        "3. Which Country do most tallest athletes come from?\n",
        "\n",
        "and many more...\n"
      ],
      "metadata": {
        "id": "6SSqcaD6FMYA"
      }
    },
    {
      "cell_type": "markdown",
      "source": [
        "## Which country has most and least number of Women gold medalist."
      ],
      "metadata": {
        "id": "R_NLT3xNFMYA"
      }
    },
    {
      "cell_type": "code",
      "source": [
        "womenGold = merged[(merged.Sex == 'F') & (merged.Medal == 'Gold')]\n",
        "womenGold=womenGold.region.value_counts().reset_index(name='Medal')"
      ],
      "metadata": {
        "execution": {
          "iopub.status.busy": "2023-03-22T02:00:16.473399Z",
          "iopub.execute_input": "2023-03-22T02:00:16.473851Z",
          "iopub.status.idle": "2023-03-22T02:00:16.523680Z",
          "shell.execute_reply.started": "2023-03-22T02:00:16.473771Z",
          "shell.execute_reply": "2023-03-22T02:00:16.522671Z"
        },
        "trusted": true,
        "id": "0JMZa1sCFMYA"
      },
      "execution_count": null,
      "outputs": []
    },
    {
      "cell_type": "code",
      "source": [
        "plt.figure(figsize=(20, 10))\n",
        "sns.barplot(x='index',y=\"Medal\",data=womenGold.head(20))\n",
        "plt.title('Countries with most number of gold medalsits ')"
      ],
      "metadata": {
        "execution": {
          "iopub.status.busy": "2023-03-22T02:03:00.843517Z",
          "iopub.execute_input": "2023-03-22T02:03:00.843854Z",
          "iopub.status.idle": "2023-03-22T02:03:01.409513Z",
          "shell.execute_reply.started": "2023-03-22T02:03:00.843802Z",
          "shell.execute_reply": "2023-03-22T02:03:01.408447Z"
        },
        "trusted": true,
        "id": "-F68FHjoFMYA"
      },
      "execution_count": null,
      "outputs": []
    },
    {
      "cell_type": "code",
      "source": [
        "plt.figure(figsize=(20, 10))\n",
        "sns.barplot(x='index',y=\"Medal\",data=womenGold.tail(20))\n",
        "plt.title('Countries with least number of gold medalsits ')"
      ],
      "metadata": {
        "execution": {
          "iopub.status.busy": "2023-03-22T02:02:43.367610Z",
          "iopub.execute_input": "2023-03-22T02:02:43.367944Z",
          "iopub.status.idle": "2023-03-22T02:02:43.920902Z",
          "shell.execute_reply.started": "2023-03-22T02:02:43.367894Z",
          "shell.execute_reply": "2023-03-22T02:02:43.919640Z"
        },
        "trusted": true,
        "id": "r4SDLm8vFMYA"
      },
      "execution_count": null,
      "outputs": []
    },
    {
      "cell_type": "markdown",
      "source": [
        "Try out the rest..."
      ],
      "metadata": {
        "id": "CAy9r71xFMYA"
      }
    }
  ]
}